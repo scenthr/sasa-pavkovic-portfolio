{
 "cells": [
  {
   "cell_type": "markdown",
   "metadata": {},
   "source": [
    "## Default of credit card clients\n",
    "\n",
    "#### Given the data about the credit card defaults in 2005, Taiwan, predict the if a client will default on her credit card payment in the next period\n",
    "\n",
    "#### Tags:\n",
    "    Data: labeled data, Kaggle competition\n",
    "    Technologies: python, pandas, sklearn\n",
    "    Techniques: end-to-end project\n",
    "    \n",
    "#### Resources:\n",
    "\n",
    "[UCI Machine Learning Repository - Default of Credit Clients](https://archive.ics.uci.edu/ml/datasets/default+of+credit+card+clients#)\n",
    "\n",
    "[ROC curve and AUC](https://www.youtube.com/watch?v=OAl6eAyP-yo)\n",
    "\n",
    "[Xtreme Gradient Boosting](https://github.com/dmlc/xgboost)\n",
    "\n",
    "#### Papers\n",
    "\n",
    "Yeh, I. C., & Lien, C. H. (2009). The comparisons of data mining techniques for the predictive accuracy of probability of default of credit card clients. Expert Systems with Applications, 36(2), 2473-2480."
   ]
  },
  {
   "cell_type": "markdown",
   "metadata": {},
   "source": [
    "### The question asked\n",
    "\n",
    "We need to answer the questions:\n",
    "- Can we predict which clients will default in the next period? \n",
    "- If so, how accurate can we get?\n",
    "- Can we also predict what is the clients probability of defaulting in the next period?\n",
    "- Are there any ideas on how to improve the accuracy?\n",
    "    \n",
    "### The data provided\n",
    "\n",
    "The data consists of payment data for October 2005, from an important bank in Taiwan and the targets were the credit card holders of the bank. There are 30000 observations with the 22.12% clients with the default payment. \n",
    "\n",
    "The data is connected to the reasearch paper mentioned in the Papers above.\n",
    "\n",
    "The data consists of a single dataset \n",
    "\n",
    "    1. default-of-credit-card-clients.xls\n",
    "    \n",
    "Data description:\n",
    "\n",
    "1. X1: Amount of the given credit (NT dollar): it includes both the individual consumer credit and his/her family (supplementary) credit.\n",
    "2. X2: Gender (1 = male; 2 = female).\n",
    "3. X3: Education (1 = graduate school; 2 = university;3 = high school; 4 = others)\n",
    "4. X4: Marital status (1 = married; 2 = single; 3 = others).\n",
    "5. X5: Age (year).\n",
    "6. X6–X11: History of past payment. We tracked the past monthly payment records (from April to September, 2005) as follows: X6 = the repayment status in September, 2005; X7 = the repayment status in August,2005; . . .; X11 = the repayment status in April, 2005. The measurement scale for the repayment status is: 1 = pay duly; 1 = payment delay for one month; 2 = payment delay for two months; . . .; 8 = payment delay for eight months; 9 = payment delay for nine months and above.\n",
    "7. X12–X17: Amount of bill statement (NT dollar). X12 = amount of bill statement in September, 2005; X13 = amount of bill statement in August, 2005; . . .; X17 = amount of bill statement in April, 2005.10. X18–X23: Amount of previous payment (NT dollar).X18 = amount paid in September, 2005; X19 = amountpaid in August, 2005; . . .; X23 = amount paid in April, 2005\n",
    "    \n",
    "Data fields:\n",
    "\n",
    "    1. ID - id of the column\n",
    "    2. LIMIT_BAL\n",
    "    3. SEX\n",
    "    4. EDUCATION\n",
    "    5. MARRIAGE\n",
    "    6. AGE\n",
    "    7. PAY_0\n",
    "    8. PAY_1\n",
    "    9. PAY_2\n",
    "    10. PAY_3\n",
    "    11. PAY_4\n",
    "    12. PAY_5\n",
    "    13. PAY_6\n",
    "    14. BILL_AMT1\n",
    "    15. BILL_AMT2\n",
    "    16. BILL_AMT3\n",
    "    17. BILL_AMT4\n",
    "    18. BILL_AMT5\n",
    "    19. BILL_AMT6\n",
    "    20. PAY_AMT1\n",
    "    21. PAY_AMT2\n",
    "    22. PAY_AMT3\n",
    "    23. PAY_AMT4\n",
    "    24. PAY_AMT5\n",
    "    25. PAY_AMT6\n",
    "    26. default payment next month\n",
    "            \n",
    "### Approach chosen\n",
    "\n",
    "After some exploratory data analysis i will use the sklearn classification models to find the one that has the highest AUC score. In the process i will optimize the hyper-parameters for each of the models and later compare them.\n",
    "\n",
    "Not all of the attempts to understand the data and choose the best solution will be shown here.\n"
   ]
  },
  {
   "cell_type": "code",
   "execution_count": 43,
   "metadata": {},
   "outputs": [],
   "source": [
    "# import the needed libraries\n",
    "\n",
    "import pandas as pd\n",
    "import numpy as np\n",
    "import matplotlib.pyplot as plt\n",
    "import seaborn as sns\n",
    "import itertools\n",
    "\n",
    "import pickle\n",
    "%matplotlib inline\n",
    "\n",
    "from scipy.stats import gamma\n",
    "from scipy.stats import randint as sp_randint\n",
    "\n",
    "from sklearn.metrics import roc_curve, auc, confusion_matrix, accuracy_score, f1_score\n",
    "from sklearn.model_selection import train_test_split, GridSearchCV, RandomizedSearchCV, learning_curve, cross_val_score\n",
    "from sklearn.pipeline import Pipeline\n",
    "from sklearn.preprocessing import StandardScaler\n",
    "\n",
    "from sklearn.linear_model import LogisticRegression\n",
    "from sklearn.neighbors import KNeighborsClassifier\n",
    "from sklearn.svm import SVC\n",
    "from sklearn.ensemble import GradientBoostingClassifier\n",
    "import xgboost as xgb\n"
   ]
  },
  {
   "cell_type": "code",
   "execution_count": 4,
   "metadata": {},
   "outputs": [],
   "source": [
    "# Helpful functions\n",
    "\n",
    "def plot_confusion_matrix(cm, classes,\n",
    "                          normalize=False,\n",
    "                          title='Confusion matrix',\n",
    "                          cmap=plt.cm.Blues):\n",
    "    \"\"\"\n",
    "    This function prints and plts the confusion matrix.\n",
    "    Normalization can be applied by setting `normalize=True`.\n",
    "    \"\"\"\n",
    "    if normalize:\n",
    "        cm = cm.astype('float') / cm.sum(axis=1)[:, np.newaxis]\n",
    "        print(\"Normalized confusion matrix\")\n",
    "    else:\n",
    "        print('Confusion matrix, without normalization')\n",
    "\n",
    "    print(cm)\n",
    "\n",
    "    plt.imshow(cm, interpolation='nearest', cmap=cmap)\n",
    "    plt.title(title)\n",
    "    plt.colorbar()\n",
    "    tick_marks = np.arange(len(classes))\n",
    "    plt.xticks(tick_marks, classes, rotation=45)\n",
    "    plt.yticks(tick_marks, classes)\n",
    "\n",
    "    fmt = '.2f' if normalize else 'd'\n",
    "    thresh = cm.max() / 2.\n",
    "    for i, j in itertools.product(range(cm.shape[0]), range(cm.shape[1])):\n",
    "        plt.text(j, i, format(cm[i, j], fmt),\n",
    "                 horizontalalignment=\"center\",\n",
    "                 color=\"white\" if cm[i, j] > thresh else \"black\")\n",
    "\n",
    "    plt.ylabel('True label')\n",
    "    plt.xlabel('Predicted label')\n",
    "#     plt.tight_layout()\n",
    "    plt.show()\n",
    "\n",
    "\n",
    "def df_stats(df):\n",
    "    '''\n",
    "    Given pandas dataset provides basic information\n",
    "    '''\n",
    "    \n",
    "    print(\"----------Top-5- Record----------\")\n",
    "    print(df.head(5))\n",
    "    print(\"-----------Information-----------\")\n",
    "    print(df.info())\n",
    "    print(\"-----------Data Types-----------\")\n",
    "    print(df.dtypes)\n",
    "    print(\"----------Missing value-----------\")\n",
    "    print(df.isnull().sum())\n",
    "    print(\"----------Null value-----------\")\n",
    "    print(df.isna().sum())\n",
    "    print(\"----------Shape of Data----------\")\n",
    "    print(df.shape)\n",
    "    print(\"----------Potential Duplicates----------\")\n",
    "    print(df.duplicated().sum())\n",
    "        \n",
    "def plot_roc_curve(fpr, tpr, label=None):\n",
    "       \n",
    "    plt.figure(figsize=(8, 6))\n",
    "    plt.plot(fpr, tpr, linewidth=2, label=label)\n",
    "    plt.plot([0, 1], [0, 1], 'k--')\n",
    "    plt.axis([0, 1, 0, 1])\n",
    "    plt.xlabel('False Positive Rate', fontsize=16)\n",
    "    plt.ylabel('True Positive Rate', fontsize=16)\n",
    "    plt.show()\n",
    "\n",
    "\n",
    "def show_feature_importances(predictors, fitted_model):\n",
    "    \n",
    "    tmp = pd.DataFrame({'Feature': predictors, 'Feature importance': fitted_model.feature_importances_})\n",
    "    tmp = tmp.sort_values(by='Feature importance',ascending=False)\n",
    "    plt.figure(figsize = (7,4))\n",
    "    plt.title('Feature importances',fontsize=14)\n",
    "    s = sns.barplot(x='Feature',y='Feature importance',data=tmp)\n",
    "    s.set_xticklabels(s.get_xticklabels(),rotation=90)\n",
    "    plt.show()   \n",
    "\n",
    "def plotLearningCurve(_x_train, _y_train, learning_model_pipeline,  k_fold = 10, training_sample_sizes = np.linspace(0.1,1.0,10), jobsInParallel = -1):\n",
    "    \n",
    "    training_size, training_score, testing_score = learning_curve(estimator = learning_model_pipeline, \\\n",
    "                                                                X = _x_train, \\\n",
    "                                                                y = _y_train, \\\n",
    "                                                                train_sizes = training_sample_sizes, \\\n",
    "                                                                cv = k_fold, \\\n",
    "                                                                scoring = 'roc_auc', \\\n",
    "                                                                n_jobs = jobsInParallel) \n",
    "\n",
    "\n",
    "    training_mean = np.mean(training_score, axis = 1)\n",
    "    training_std_deviation = np.std(training_score, axis = 1)\n",
    "    testing_std_deviation = np.std(testing_score, axis = 1)\n",
    "    testing_mean = np.mean(testing_score, axis = 1 )\n",
    "\n",
    "    ## we have got the estimator in this case the perceptron running in 10 fold validation with \n",
    "    ## equal division of sizes betwwen .1 and 1. After execution, we get the number of training sizes used, \n",
    "    ## the training scores for those sizes and the test scores for those sizes. we will plot a scatter plot \n",
    "    ## to see the accuracy results and check for bias vs variance\n",
    "\n",
    "    # training_size : essentially 10 sets of say a1, a2, a3,,...a10 sizes (this comes from train_size parameter, here we have given linespace for equal distribution betwwen 0.1 and 1 for 10 such values)\n",
    "    # training_score : training score for the a1 samples, a2 samples...a10 samples, each samples run 10 times since cv value is 10\n",
    "    # testing_score : testing score for the a1 samples, a2 samples...a10 samples, each samples run 10 times since cv value is 10\n",
    "    ## the mean and std deviation for each are calculated simply to show ranges in the graph\n",
    "\n",
    "    plt.plot(training_size, training_mean, label= \"Training Data\", marker= '+', color = 'blue', markersize = 8)\n",
    "    plt.fill_between(training_size, training_mean+ training_std_deviation, training_mean-training_std_deviation, color='blue', alpha =0.12 )\n",
    "\n",
    "    plt.plot(training_size, testing_mean, label= \"Testing/Validation Data\", marker= '*', color = 'green', markersize = 8)\n",
    "    plt.fill_between(training_size, testing_mean+ testing_std_deviation, testing_mean-testing_std_deviation, color='green', alpha =0.14 )\n",
    "\n",
    "    plt.title(\"Scoring of our training and testing data vs sample sizes\")\n",
    "    plt.xlabel(\"Number of Samples\")\n",
    "    plt.ylabel(\"Score\")\n",
    "    plt.legend(loc= 'best')\n",
    "    plt.show()\n",
    "        "
   ]
  },
  {
   "cell_type": "code",
   "execution_count": 5,
   "metadata": {},
   "outputs": [
    {
     "name": "stdout",
     "output_type": "stream",
     "text": [
      "<class 'pandas.core.frame.DataFrame'>\n",
      "RangeIndex: 30000 entries, 0 to 29999\n",
      "Data columns (total 25 columns):\n",
      "ID                            30000 non-null int64\n",
      "LIMIT_BAL                     30000 non-null int64\n",
      "SEX                           30000 non-null int64\n",
      "EDUCATION                     30000 non-null int64\n",
      "MARRIAGE                      30000 non-null int64\n",
      "AGE                           30000 non-null int64\n",
      "PAY_0                         30000 non-null int64\n",
      "PAY_2                         30000 non-null int64\n",
      "PAY_3                         30000 non-null int64\n",
      "PAY_4                         30000 non-null int64\n",
      "PAY_5                         30000 non-null int64\n",
      "PAY_6                         30000 non-null int64\n",
      "BILL_AMT1                     30000 non-null int64\n",
      "BILL_AMT2                     30000 non-null int64\n",
      "BILL_AMT3                     30000 non-null int64\n",
      "BILL_AMT4                     30000 non-null int64\n",
      "BILL_AMT5                     30000 non-null int64\n",
      "BILL_AMT6                     30000 non-null int64\n",
      "PAY_AMT1                      30000 non-null int64\n",
      "PAY_AMT2                      30000 non-null int64\n",
      "PAY_AMT3                      30000 non-null int64\n",
      "PAY_AMT4                      30000 non-null int64\n",
      "PAY_AMT5                      30000 non-null int64\n",
      "PAY_AMT6                      30000 non-null int64\n",
      "default payment next month    30000 non-null int64\n",
      "dtypes: int64(25)\n",
      "memory usage: 5.7 MB\n"
     ]
    }
   ],
   "source": [
    "# Load the dataset from excel file\n",
    "\n",
    "df = pd.read_excel('data/default-of-credit-card-clients.xls', skiprows=1)\n",
    "\n",
    "df.info()\n"
   ]
  },
  {
   "cell_type": "code",
   "execution_count": 6,
   "metadata": {},
   "outputs": [
    {
     "name": "stdout",
     "output_type": "stream",
     "text": [
      "----------Top-5- Record----------\n",
      "   ID  LIMIT_BAL  SEX  EDUCATION  MARRIAGE  AGE  PAY_0  PAY_2  PAY_3  PAY_4  \\\n",
      "0   1      20000    2          2         1   24      2      2     -1     -1   \n",
      "1   2     120000    2          2         2   26     -1      2      0      0   \n",
      "2   3      90000    2          2         2   34      0      0      0      0   \n",
      "3   4      50000    2          2         1   37      0      0      0      0   \n",
      "4   5      50000    1          2         1   57     -1      0     -1      0   \n",
      "\n",
      "   ...  BILL_AMT4  BILL_AMT5  BILL_AMT6  PAY_AMT1  PAY_AMT2  PAY_AMT3  \\\n",
      "0  ...          0          0          0         0       689         0   \n",
      "1  ...       3272       3455       3261         0      1000      1000   \n",
      "2  ...      14331      14948      15549      1518      1500      1000   \n",
      "3  ...      28314      28959      29547      2000      2019      1200   \n",
      "4  ...      20940      19146      19131      2000     36681     10000   \n",
      "\n",
      "   PAY_AMT4  PAY_AMT5  PAY_AMT6  default payment next month  \n",
      "0         0         0         0                           1  \n",
      "1      1000         0      2000                           1  \n",
      "2      1000      1000      5000                           0  \n",
      "3      1100      1069      1000                           0  \n",
      "4      9000       689       679                           0  \n",
      "\n",
      "[5 rows x 25 columns]\n",
      "-----------Information-----------\n",
      "<class 'pandas.core.frame.DataFrame'>\n",
      "RangeIndex: 30000 entries, 0 to 29999\n",
      "Data columns (total 25 columns):\n",
      "ID                            30000 non-null int64\n",
      "LIMIT_BAL                     30000 non-null int64\n",
      "SEX                           30000 non-null int64\n",
      "EDUCATION                     30000 non-null int64\n",
      "MARRIAGE                      30000 non-null int64\n",
      "AGE                           30000 non-null int64\n",
      "PAY_0                         30000 non-null int64\n",
      "PAY_2                         30000 non-null int64\n",
      "PAY_3                         30000 non-null int64\n",
      "PAY_4                         30000 non-null int64\n",
      "PAY_5                         30000 non-null int64\n",
      "PAY_6                         30000 non-null int64\n",
      "BILL_AMT1                     30000 non-null int64\n",
      "BILL_AMT2                     30000 non-null int64\n",
      "BILL_AMT3                     30000 non-null int64\n",
      "BILL_AMT4                     30000 non-null int64\n",
      "BILL_AMT5                     30000 non-null int64\n",
      "BILL_AMT6                     30000 non-null int64\n",
      "PAY_AMT1                      30000 non-null int64\n",
      "PAY_AMT2                      30000 non-null int64\n",
      "PAY_AMT3                      30000 non-null int64\n",
      "PAY_AMT4                      30000 non-null int64\n",
      "PAY_AMT5                      30000 non-null int64\n",
      "PAY_AMT6                      30000 non-null int64\n",
      "default payment next month    30000 non-null int64\n",
      "dtypes: int64(25)\n",
      "memory usage: 5.7 MB\n",
      "None\n",
      "-----------Data Types-----------\n",
      "ID                            int64\n",
      "LIMIT_BAL                     int64\n",
      "SEX                           int64\n",
      "EDUCATION                     int64\n",
      "MARRIAGE                      int64\n",
      "AGE                           int64\n",
      "PAY_0                         int64\n",
      "PAY_2                         int64\n",
      "PAY_3                         int64\n",
      "PAY_4                         int64\n",
      "PAY_5                         int64\n",
      "PAY_6                         int64\n",
      "BILL_AMT1                     int64\n",
      "BILL_AMT2                     int64\n",
      "BILL_AMT3                     int64\n",
      "BILL_AMT4                     int64\n",
      "BILL_AMT5                     int64\n",
      "BILL_AMT6                     int64\n",
      "PAY_AMT1                      int64\n",
      "PAY_AMT2                      int64\n",
      "PAY_AMT3                      int64\n",
      "PAY_AMT4                      int64\n",
      "PAY_AMT5                      int64\n",
      "PAY_AMT6                      int64\n",
      "default payment next month    int64\n",
      "dtype: object\n",
      "----------Missing value-----------\n",
      "ID                            0\n",
      "LIMIT_BAL                     0\n",
      "SEX                           0\n",
      "EDUCATION                     0\n",
      "MARRIAGE                      0\n",
      "AGE                           0\n",
      "PAY_0                         0\n",
      "PAY_2                         0\n",
      "PAY_3                         0\n",
      "PAY_4                         0\n",
      "PAY_5                         0\n",
      "PAY_6                         0\n",
      "BILL_AMT1                     0\n",
      "BILL_AMT2                     0\n",
      "BILL_AMT3                     0\n",
      "BILL_AMT4                     0\n",
      "BILL_AMT5                     0\n",
      "BILL_AMT6                     0\n",
      "PAY_AMT1                      0\n",
      "PAY_AMT2                      0\n",
      "PAY_AMT3                      0\n",
      "PAY_AMT4                      0\n",
      "PAY_AMT5                      0\n",
      "PAY_AMT6                      0\n",
      "default payment next month    0\n",
      "dtype: int64\n",
      "----------Null value-----------\n",
      "ID                            0\n",
      "LIMIT_BAL                     0\n",
      "SEX                           0\n",
      "EDUCATION                     0\n",
      "MARRIAGE                      0\n",
      "AGE                           0\n",
      "PAY_0                         0\n",
      "PAY_2                         0\n",
      "PAY_3                         0\n",
      "PAY_4                         0\n",
      "PAY_5                         0\n",
      "PAY_6                         0\n",
      "BILL_AMT1                     0\n",
      "BILL_AMT2                     0\n",
      "BILL_AMT3                     0\n",
      "BILL_AMT4                     0\n",
      "BILL_AMT5                     0\n",
      "BILL_AMT6                     0\n",
      "PAY_AMT1                      0\n",
      "PAY_AMT2                      0\n",
      "PAY_AMT3                      0\n",
      "PAY_AMT4                      0\n",
      "PAY_AMT5                      0\n",
      "PAY_AMT6                      0\n",
      "default payment next month    0\n",
      "dtype: int64\n",
      "----------Shape of Data----------\n",
      "(30000, 25)\n",
      "----------Potential Duplicates----------\n",
      "0\n"
     ]
    }
   ],
   "source": [
    "df_stats(df)"
   ]
  },
  {
   "cell_type": "markdown",
   "metadata": {},
   "source": [
    "Exploratory data analysis\n",
    "-----------------------------\n",
    "\n",
    "From above we can confirm that all of the features are treated as numeric. The column ID is keeps just the row numbers, and as we are not sure how the data was sequenced, will not be relevant in building the model. "
   ]
  },
  {
   "cell_type": "code",
   "execution_count": 7,
   "metadata": {},
   "outputs": [
    {
     "name": "stdout",
     "output_type": "stream",
     "text": [
      "<class 'pandas.core.frame.DataFrame'>\n",
      "RangeIndex: 30000 entries, 0 to 29999\n",
      "Data columns (total 24 columns):\n",
      "LIMIT_BAL                     30000 non-null int64\n",
      "SEX                           30000 non-null int64\n",
      "EDUCATION                     30000 non-null int64\n",
      "MARRIAGE                      30000 non-null int64\n",
      "AGE                           30000 non-null int64\n",
      "PAY_0                         30000 non-null int64\n",
      "PAY_2                         30000 non-null int64\n",
      "PAY_3                         30000 non-null int64\n",
      "PAY_4                         30000 non-null int64\n",
      "PAY_5                         30000 non-null int64\n",
      "PAY_6                         30000 non-null int64\n",
      "BILL_AMT1                     30000 non-null int64\n",
      "BILL_AMT2                     30000 non-null int64\n",
      "BILL_AMT3                     30000 non-null int64\n",
      "BILL_AMT4                     30000 non-null int64\n",
      "BILL_AMT5                     30000 non-null int64\n",
      "BILL_AMT6                     30000 non-null int64\n",
      "PAY_AMT1                      30000 non-null int64\n",
      "PAY_AMT2                      30000 non-null int64\n",
      "PAY_AMT3                      30000 non-null int64\n",
      "PAY_AMT4                      30000 non-null int64\n",
      "PAY_AMT5                      30000 non-null int64\n",
      "PAY_AMT6                      30000 non-null int64\n",
      "default payment next month    30000 non-null int64\n",
      "dtypes: int64(24)\n",
      "memory usage: 5.5 MB\n"
     ]
    }
   ],
   "source": [
    "# Removing the ID feature from the data\n",
    "\n",
    "df = df.drop('ID', axis=1)\n",
    "\n",
    "df.info()\n"
   ]
  },
  {
   "cell_type": "markdown",
   "metadata": {},
   "source": [
    "Data Cleaning\n",
    "---------------\n",
    "\n",
    "There are values 0,5 and 6 in feature EDUCATION that are not explained by the supporting documentation. Iv decided to group them in the option 4 - Other. \n",
    "\n",
    "There is value 0 in feature MARRIAGE that is not explained by the supporting documentation and this value will be added to option 3 - Other.\n",
    "\n",
    "Further investigation could be done to check if this makes sense, or more information might be requested from the ower of the data.\n"
   ]
  },
  {
   "cell_type": "code",
   "execution_count": 8,
   "metadata": {},
   "outputs": [
    {
     "name": "stdout",
     "output_type": "stream",
     "text": [
      "0       14\n",
      "1    10585\n",
      "2    14030\n",
      "3     4917\n",
      "4      123\n",
      "5      280\n",
      "6       51\n",
      "Name: EDUCATION, dtype: int64\n",
      "1    10585\n",
      "2    14030\n",
      "3     4917\n",
      "4      468\n",
      "Name: EDUCATION, dtype: int64\n",
      "0       54\n",
      "1    13659\n",
      "2    15964\n",
      "3      323\n",
      "Name: MARRIAGE, dtype: int64\n",
      "1    13659\n",
      "2    15964\n",
      "3      377\n",
      "Name: MARRIAGE, dtype: int64\n"
     ]
    }
   ],
   "source": [
    "print(df.EDUCATION.value_counts(sort=False))\n",
    "\n",
    "df.loc[(df.EDUCATION == 0) | (df.EDUCATION == 5) | (df.EDUCATION == 6),'EDUCATION'] = 4\n",
    "\n",
    "print(df.EDUCATION.value_counts(sort=False))\n",
    "\n",
    "\n",
    "print(df.MARRIAGE.value_counts(sort=False))\n",
    "\n",
    "df.loc[(df.MARRIAGE == 0),'MARRIAGE'] = 3\n",
    "\n",
    "print(df.MARRIAGE.value_counts(sort=False))\n",
    "\n"
   ]
  },
  {
   "cell_type": "markdown",
   "metadata": {},
   "source": [
    "Additional Data Inspection\n",
    "---------------------------\n",
    "\n",
    "Althought the dataset looks clean there are some questions about it. For \n",
    "instance there are 795 rows that Bill amt. and Pay amt. =0. Also in the PAY_0\n",
    "there are many entries with value of 1 and -2 (i assumed this value means \"null\"). \n",
    "\n",
    "To me this suggests that here is also included the data for the clients that \n",
    "just started with their credit obligations. For these there is very little \n",
    "historical transactional data, hence making predictions would be based on just\n",
    "client master data which is probably unsufficient to create a good model.\n",
    "\n",
    "Hence i would exclude these entries during the model selection process to \n",
    "try to improve the model perfromance.\n",
    "\n",
    "Example are IDs: 19, 20, 46, 80\n"
   ]
  },
  {
   "cell_type": "markdown",
   "metadata": {},
   "source": [
    "Categorical variables\n",
    "----------------------\n",
    "\n",
    "There are several categorical variables and we will create dummy variables for\n",
    "them so that they can be successfully used with the models that we will attempt.\n"
   ]
  },
  {
   "cell_type": "code",
   "execution_count": 9,
   "metadata": {},
   "outputs": [
    {
     "name": "stdout",
     "output_type": "stream",
     "text": [
      "<class 'pandas.core.frame.DataFrame'>\n",
      "RangeIndex: 30000 entries, 0 to 29999\n",
      "Data columns (total 30 columns):\n",
      "LIMIT_BAL                     30000 non-null int64\n",
      "AGE                           30000 non-null int64\n",
      "PAY_0                         30000 non-null int64\n",
      "PAY_2                         30000 non-null int64\n",
      "PAY_3                         30000 non-null int64\n",
      "PAY_4                         30000 non-null int64\n",
      "PAY_5                         30000 non-null int64\n",
      "PAY_6                         30000 non-null int64\n",
      "BILL_AMT1                     30000 non-null int64\n",
      "BILL_AMT2                     30000 non-null int64\n",
      "BILL_AMT3                     30000 non-null int64\n",
      "BILL_AMT4                     30000 non-null int64\n",
      "BILL_AMT5                     30000 non-null int64\n",
      "BILL_AMT6                     30000 non-null int64\n",
      "PAY_AMT1                      30000 non-null int64\n",
      "PAY_AMT2                      30000 non-null int64\n",
      "PAY_AMT3                      30000 non-null int64\n",
      "PAY_AMT4                      30000 non-null int64\n",
      "PAY_AMT5                      30000 non-null int64\n",
      "PAY_AMT6                      30000 non-null int64\n",
      "default payment next month    30000 non-null int64\n",
      "SEX_1                         30000 non-null uint8\n",
      "SEX_2                         30000 non-null uint8\n",
      "EDUCATION_1                   30000 non-null uint8\n",
      "EDUCATION_2                   30000 non-null uint8\n",
      "EDUCATION_3                   30000 non-null uint8\n",
      "EDUCATION_4                   30000 non-null uint8\n",
      "MARRIAGE_1                    30000 non-null uint8\n",
      "MARRIAGE_2                    30000 non-null uint8\n",
      "MARRIAGE_3                    30000 non-null uint8\n",
      "dtypes: int64(21), uint8(9)\n",
      "memory usage: 5.1 MB\n"
     ]
    }
   ],
   "source": [
    "df4model = pd.get_dummies(df,columns=['SEX','EDUCATION','MARRIAGE'])\n",
    "df4model.info()\n"
   ]
  },
  {
   "cell_type": "code",
   "execution_count": 10,
   "metadata": {},
   "outputs": [
    {
     "data": {
      "image/png": "[encoded data removed]",
      "text/plain": [
       "<Figure size 576x576 with 2 Axes>"
      ]
     },
     "metadata": {
      "needs_background": "light"
     },
     "output_type": "display_data"
    }
   ],
   "source": [
    "var = ['PAY_0','PAY_2', 'PAY_3', 'PAY_4', 'PAY_5', 'PAY_6']\n",
    "\n",
    "plt.figure(figsize = (8,8))\n",
    "plt.title('PAY var. corr. plot (Pearson)')\n",
    "corr = df[var].corr()\n",
    "sns.heatmap(corr,xticklabels=corr.columns,yticklabels=corr.columns,linewidths=.1,vmin=-1, vmax=1, cmap=\"Greens\")\n",
    "plt.show()"
   ]
  },
  {
   "cell_type": "markdown",
   "metadata": {},
   "source": [
    "## High correlations between payment tracking variables\n",
    "\n",
    "There seems to be high correlation between PAY, BILL_AMT and PAY_AMT variables\n",
    "as well as between the different months. This reduces the model quality, hence\n",
    "either a high L2 regularization is needed or we can just remove the features that are \n",
    "highly correlated. Another way of looking at it that there is little additional information \n",
    "in the key features. If the categorical variables (EDUCATION, SEX, etc.) can\n",
    "not bring some additional information about predicting the default then it is \n",
    "difficult to see how a good model can be built.\n"
   ]
  },
  {
   "cell_type": "code",
   "execution_count": 11,
   "metadata": {},
   "outputs": [],
   "source": [
    "def boxplot_variation(feature1, feature2, feature3=0, width=16):\n",
    "    fig, ax1 = plt.subplots(ncols=1, figsize=(width,6))\n",
    "    \n",
    "    if feature3==0:\n",
    "        s = sns.boxplot(ax = ax1, x=feature1, y=feature2, data=df, palette=\"Blues\",showfliers=False)\n",
    "    else:\n",
    "        s = sns.boxplot(ax = ax1, x=feature1, y=feature2, hue=feature3,\n",
    "                    data=df, palette=\"Blues\",showfliers=False)        \n",
    "        \n",
    "    s.set_xticklabels(s.get_xticklabels(),rotation=90)\n",
    "    plt.show();\n"
   ]
  },
  {
   "cell_type": "code",
   "execution_count": 12,
   "metadata": {},
   "outputs": [
    {
     "data": {
      "image/png": "[encoded data removed]",
      "text/plain": [
       "<Figure size 576x432 with 1 Axes>"
      ]
     },
     "metadata": {
      "needs_background": "light"
     },
     "output_type": "display_data"
    }
   ],
   "source": [
    "boxplot_variation('MARRIAGE','AGE', 'SEX',8)"
   ]
  },
  {
   "cell_type": "code",
   "execution_count": 13,
   "metadata": {},
   "outputs": [
    {
     "data": {
      "image/png": "[encoded data removed]",
      "text/plain": [
       "<Figure size 864x432 with 1 Axes>"
      ]
     },
     "metadata": {
      "needs_background": "light"
     },
     "output_type": "display_data"
    }
   ],
   "source": [
    "boxplot_variation('EDUCATION','AGE','MARRIAGE',width=12)"
   ]
  },
  {
   "cell_type": "code",
   "execution_count": 14,
   "metadata": {},
   "outputs": [
    {
     "data": {
      "image/png": "[encoded data removed]",
      "text/plain": [
       "<Figure size 864x432 with 1 Axes>"
      ]
     },
     "metadata": {
      "needs_background": "light"
     },
     "output_type": "display_data"
    }
   ],
   "source": [
    "boxplot_variation('EDUCATION','AGE','SEX',width=12)"
   ]
  },
  {
   "cell_type": "code",
   "execution_count": 88,
   "metadata": {},
   "outputs": [
    {
     "data": {
      "image/png": "[encoded data removed]",
      "text/plain": [
       "<Figure size 1152x432 with 1 Axes>"
      ]
     },
     "metadata": {
      "needs_background": "light"
     },
     "output_type": "display_data"
    }
   ],
   "source": [
    "boxplot_variation('AGE','LIMIT_BAL', 'SEX',16)"
   ]
  },
  {
   "cell_type": "markdown",
   "metadata": {},
   "source": [
    "## Categorical variables - relationships between explanatory features\n",
    "\n",
    "With categorical variable Marriage there is also a value 0 which is not clearly explained in the data description. \n",
    "\n",
    "Other than that there seems nothing particulary unexpected in the distribution of variables. The more credit card limit is available as the clients get towards 30 years old and from there onwards it is more or less stable until above 60 yr old where it increses slightly. Above 66 yr old there is not enough data to make conslusions (divergence at the end). \n",
    "\n",
    "Notice that here there might be other interpretations of these overviews depending on the domain knowledge understanding so these charts should be discussed with domain experts in order to confirm that the assumptions make sense.\n",
    "\n",
    "Next we will take a look at the frequencies of clients who defaulted and effect of the categorical variables on the outcome. This can help understand the relationships better and maybe develop some farther assumptions.\n",
    "\n"
   ]
  },
  {
   "cell_type": "code",
   "execution_count": 107,
   "metadata": {},
   "outputs": [
    {
     "name": "stdout",
     "output_type": "stream",
     "text": [
      "Proportions of clients that defaulted or not\n",
      "0    23364\n",
      "1     6636\n",
      "Name: default payment next month, dtype: int64\n",
      "\n",
      "Percentage of clients that defaulted: 0.2212\n",
      "default payment next month      0     1  perc\n",
      "EDUCATION                                    \n",
      "1                            8549  2036  0.19\n",
      "2                           10700  3330  0.24\n",
      "3                            3680  1237  0.25\n",
      "4                             435    33  0.07\n",
      "\n",
      "\n",
      "default payment next month      0     1  perc\n",
      "MARRIAGE                                     \n",
      "1                           10453  3206  0.23\n",
      "2                           12623  3341  0.21\n",
      "3                             288    89  0.24\n",
      "\n",
      "\n",
      "default payment next month      0     1  perc\n",
      "SEX                                          \n",
      "1                            9015  2873  0.24\n",
      "2                           14349  3763  0.21\n",
      "\n",
      "\n",
      "default payment next month       0      1  perc\n",
      "AGE                                            \n",
      "21                            53.0   14.0  0.21\n",
      "22                           391.0  169.0  0.30\n",
      "23                           684.0  247.0  0.27\n",
      "24                           827.0  300.0  0.27\n",
      "25                           884.0  302.0  0.25\n",
      "26                          1003.0  253.0  0.20\n",
      "27                          1164.0  313.0  0.21\n",
      "28                          1123.0  286.0  0.20\n",
      "29                          1292.0  313.0  0.20\n",
      "30                          1121.0  274.0  0.20\n",
      "31                           988.0  229.0  0.19\n",
      "32                           933.0  225.0  0.19\n",
      "33                           931.0  215.0  0.19\n",
      "34                           931.0  231.0  0.20\n",
      "35                           887.0  226.0  0.20\n",
      "36                           854.0  254.0  0.23\n",
      "37                           812.0  229.0  0.22\n",
      "38                           750.0  194.0  0.21\n",
      "39                           755.0  199.0  0.21\n",
      "40                           683.0  187.0  0.21\n",
      "41                           639.0  185.0  0.22\n",
      "42                           609.0  185.0  0.23\n",
      "43                           520.0  150.0  0.22\n",
      "44                           538.0  162.0  0.23\n",
      "45                           501.0  116.0  0.19\n",
      "46                           413.0  157.0  0.28\n",
      "47                           381.0  120.0  0.24\n",
      "48                           362.0  104.0  0.22\n",
      "49                           333.0  119.0  0.26\n",
      "50                           310.0  101.0  0.25\n",
      "51                           252.0   88.0  0.26\n",
      "52                           226.0   78.0  0.26\n",
      "53                           251.0   74.0  0.23\n",
      "54                           191.0   56.0  0.23\n",
      "55                           152.0   57.0  0.27\n",
      "56                           129.0   49.0  0.28\n",
      "57                            95.0   27.0  0.22\n",
      "58                            91.0   31.0  0.25\n",
      "59                            62.0   21.0  0.25\n",
      "60                            44.0   23.0  0.34\n",
      "61                            35.0   21.0  0.38\n",
      "62                            37.0    7.0  0.16\n",
      "63                            23.0    8.0  0.26\n",
      "64                            22.0    9.0  0.29\n",
      "65                            19.0    5.0  0.21\n",
      "66                            18.0    7.0  0.28\n",
      "67                            11.0    5.0  0.31\n",
      "68                             4.0    1.0  0.20\n",
      "69                            12.0    3.0  0.20\n",
      "70                             8.0    2.0  0.20\n",
      "71                             3.0    NaN   NaN\n",
      "72                             2.0    1.0  0.33\n",
      "73                             1.0    3.0  0.75\n",
      "74                             1.0    NaN   NaN\n",
      "75                             2.0    1.0  0.33\n",
      "79                             1.0    NaN   NaN\n"
     ]
    }
   ],
   "source": [
    "# Distribution of clients tha defaulted\n",
    "\n",
    "print('Proportions of clients that defaulted or not')\n",
    "print(df['default payment next month'].value_counts())\n",
    "\n",
    "print('\\nPercentage of clients that defaulted: {}'.format((df['default payment next month'].value_counts()[1]) / len(df)))\n",
    "\n",
    "def target_freq(Col1, Col2):\n",
    "    res = df.groupby([Col1, Col2]).size().unstack()    \n",
    "    res['perc'] = (res[res.columns[1]]/(res[res.columns[0]] + res[res.columns[1]]))\n",
    "    res['perc'] = round(res['perc'],2)\n",
    "    return res\n",
    "\n",
    "\n",
    "print(target_freq('EDUCATION', 'default payment next month'))\n",
    "print('\\n')\n",
    "print(target_freq('MARRIAGE', 'default payment next month'))\n",
    "print('\\n')\n",
    "print(target_freq('SEX', 'default payment next month'))\n",
    "print('\\n')\n",
    "print(target_freq('AGE', 'default payment next month'))\n"
   ]
  },
  {
   "cell_type": "markdown",
   "metadata": {},
   "source": [
    "## Categorical variables - relationships between explanatory and dependant feature\n",
    "\n",
    "Looking at just the frequencies of the dependant feature we see that out of 30K clients 6636 have defaulted in the last month making the total average default proportion of 22.12%.\n",
    "\n",
    "Education - the least educated clients have the default proportion of 19% which is slightly less than total average and the most educated clients have default proportion of 7% which is more then 3 times less than average. \n",
    "\n",
    "Marriage - married and other clients have a couple percentage points higher proportion of defeault than average.\n",
    "\n",
    "Sex - males have a slightly higher default percentage than average, while females have a slightly lower default percentage than average.\n",
    "\n",
    "Age - it looks like the middle-aged people have more or less the default proportion as the total, while the younger (till 24) and the older (above 55) are more likely to default.\n",
    "\n",
    "Again these observations are considering only the 2 variables, hence any covariance effect is not accounted for (e.g. like in multivariate regression)."
   ]
  },
  {
   "cell_type": "markdown",
   "metadata": {},
   "source": [
    "Modelling\n",
    "-------\n",
    "\n",
    "\n"
   ]
  },
  {
   "cell_type": "code",
   "execution_count": 15,
   "metadata": {},
   "outputs": [],
   "source": [
    "# create the training and test sets\n",
    "\n",
    "X = df4model.drop('default payment next month',axis=1)\n",
    "y = df4model['default payment next month']\n",
    "\n",
    "X_train, X_test, y_train, y_test = train_test_split(X, y, test_size=0.2, random_state=42)\n"
   ]
  },
  {
   "cell_type": "markdown",
   "metadata": {},
   "source": [
    "Logistic Regression\n",
    "--------"
   ]
  },
  {
   "cell_type": "code",
   "execution_count": 117,
   "metadata": {},
   "outputs": [
    {
     "name": "stdout",
     "output_type": "stream",
     "text": [
      "Fitting 3 folds for each of 21 candidates, totalling 63 fits\n",
      "[Parallel(n_jobs=1)]: Using backend SequentialBackend with 1 concurrent workers.\n",
      "[CV] LR__solver=saga, LR__C=2.7805636196725927 .......................\n",
      "[CV]  LR__solver=saga, LR__C=2.7805636196725927, score=0.729, total=   0.9s\n",
      "[Parallel(n_jobs=1)]: Done   1 out of   1 | elapsed:    0.9s remaining:    0.0s\n",
      "[CV] LR__solver=saga, LR__C=2.7805636196725927 .......................\n",
      "[CV]  LR__solver=saga, LR__C=2.7805636196725927, score=0.725, total=   0.9s\n",
      "[Parallel(n_jobs=1)]: Done   2 out of   2 | elapsed:    1.8s remaining:    0.0s\n",
      "[CV] LR__solver=saga, LR__C=2.7805636196725927 .......................\n",
      "[CV]  LR__solver=saga, LR__C=2.7805636196725927, score=0.716, total=   0.8s\n",
      "[Parallel(n_jobs=1)]: Done   3 out of   3 | elapsed:    2.6s remaining:    0.0s\n",
      "[CV] LR__solver=newton-cg, LR__C=0.38638755628468 ....................\n",
      "[CV]  LR__solver=newton-cg, LR__C=0.38638755628468, score=0.729, total=   0.2s\n",
      "[Parallel(n_jobs=1)]: Done   4 out of   4 | elapsed:    2.8s remaining:    0.0s\n",
      "[CV] LR__solver=newton-cg, LR__C=0.38638755628468 ....................\n",
      "[CV]  LR__solver=newton-cg, LR__C=0.38638755628468, score=0.725, total=   0.2s\n",
      "[Parallel(n_jobs=1)]: Done   5 out of   5 | elapsed:    3.0s remaining:    0.0s\n",
      "[CV] LR__solver=newton-cg, LR__C=0.38638755628468 ....................\n",
      "[CV]  LR__solver=newton-cg, LR__C=0.38638755628468, score=0.716, total=   0.2s\n",
      "[Parallel(n_jobs=1)]: Done   6 out of   6 | elapsed:    3.2s remaining:    0.0s\n",
      "[CV] LR__solver=liblinear, LR__C=1.7122331136306943 ..................\n"
     ]
    },
    {
     "name": "stderr",
     "output_type": "stream",
     "text": [
      "/home/spavko/anaconda3/lib/python3.7/site-packages/sklearn/linear_model/logistic.py:1544: UserWarning: 'n_jobs' > 1 does not have any effect when 'solver' is set to 'liblinear'. Got 'n_jobs' = 8.\n",
      "  \" = {}.\".format(effective_n_jobs(self.n_jobs)))\n",
      "/home/spavko/anaconda3/lib/python3.7/site-packages/sklearn/linear_model/logistic.py:1544: UserWarning: 'n_jobs' > 1 does not have any effect when 'solver' is set to 'liblinear'. Got 'n_jobs' = 8.\n",
      "  \" = {}.\".format(effective_n_jobs(self.n_jobs)))\n"
     ]
    },
    {
     "name": "stdout",
     "output_type": "stream",
     "text": [
      "[CV]  LR__solver=liblinear, LR__C=1.7122331136306943, score=0.729, total=   0.1s\n",
      "[Parallel(n_jobs=1)]: Done   7 out of   7 | elapsed:    3.3s remaining:    0.0s\n",
      "[CV] LR__solver=liblinear, LR__C=1.7122331136306943 ..................\n",
      "[CV]  LR__solver=liblinear, LR__C=1.7122331136306943, score=0.725, total=   0.1s\n",
      "[Parallel(n_jobs=1)]: Done   8 out of   8 | elapsed:    3.5s remaining:    0.0s\n",
      "[CV] LR__solver=liblinear, LR__C=1.7122331136306943 ..................\n"
     ]
    },
    {
     "name": "stderr",
     "output_type": "stream",
     "text": [
      "/home/spavko/anaconda3/lib/python3.7/site-packages/sklearn/linear_model/logistic.py:1544: UserWarning: 'n_jobs' > 1 does not have any effect when 'solver' is set to 'liblinear'. Got 'n_jobs' = 8.\n",
      "  \" = {}.\".format(effective_n_jobs(self.n_jobs)))\n",
      "/home/spavko/anaconda3/lib/python3.7/site-packages/sklearn/linear_model/logistic.py:1544: UserWarning: 'n_jobs' > 1 does not have any effect when 'solver' is set to 'liblinear'. Got 'n_jobs' = 8.\n",
      "  \" = {}.\".format(effective_n_jobs(self.n_jobs)))\n"
     ]
    },
    {
     "name": "stdout",
     "output_type": "stream",
     "text": [
      "[CV]  LR__solver=liblinear, LR__C=1.7122331136306943, score=0.716, total=   0.1s\n",
      "[Parallel(n_jobs=1)]: Done   9 out of   9 | elapsed:    3.6s remaining:    0.0s\n",
      "[CV] LR__solver=liblinear, LR__C=4.45313253975887 ....................\n",
      "[CV]  LR__solver=liblinear, LR__C=4.45313253975887, score=0.729, total=   0.1s\n",
      "[Parallel(n_jobs=1)]: Done  10 out of  10 | elapsed:    3.7s remaining:    0.0s\n",
      "[CV] LR__solver=liblinear, LR__C=4.45313253975887 ....................\n"
     ]
    },
    {
     "name": "stderr",
     "output_type": "stream",
     "text": [
      "/home/spavko/anaconda3/lib/python3.7/site-packages/sklearn/linear_model/logistic.py:1544: UserWarning: 'n_jobs' > 1 does not have any effect when 'solver' is set to 'liblinear'. Got 'n_jobs' = 8.\n",
      "  \" = {}.\".format(effective_n_jobs(self.n_jobs)))\n",
      "/home/spavko/anaconda3/lib/python3.7/site-packages/sklearn/linear_model/logistic.py:1544: UserWarning: 'n_jobs' > 1 does not have any effect when 'solver' is set to 'liblinear'. Got 'n_jobs' = 8.\n",
      "  \" = {}.\".format(effective_n_jobs(self.n_jobs)))\n"
     ]
    },
    {
     "name": "stdout",
     "output_type": "stream",
     "text": [
      "[CV]  LR__solver=liblinear, LR__C=4.45313253975887, score=0.725, total=   0.1s\n",
      "[Parallel(n_jobs=1)]: Done  11 out of  11 | elapsed:    3.9s remaining:    0.0s\n",
      "[CV] LR__solver=liblinear, LR__C=4.45313253975887 ....................\n",
      "[CV]  LR__solver=liblinear, LR__C=4.45313253975887, score=0.716, total=   0.1s\n",
      "[Parallel(n_jobs=1)]: Done  12 out of  12 | elapsed:    4.0s remaining:    0.0s\n",
      "[CV] LR__solver=newton-cg, LR__C=2.0645902815794046 ..................\n",
      "[CV]  LR__solver=newton-cg, LR__C=2.0645902815794046, score=0.729, total=   0.2s\n",
      "[Parallel(n_jobs=1)]: Done  13 out of  13 | elapsed:    4.2s remaining:    0.0s\n",
      "[CV] LR__solver=newton-cg, LR__C=2.0645902815794046 ..................\n",
      "[CV]  LR__solver=newton-cg, LR__C=2.0645902815794046, score=0.725, total=   0.2s\n",
      "[Parallel(n_jobs=1)]: Done  14 out of  14 | elapsed:    4.4s remaining:    0.0s\n",
      "[CV] LR__solver=newton-cg, LR__C=2.0645902815794046 ..................\n",
      "[CV]  LR__solver=newton-cg, LR__C=2.0645902815794046, score=0.716, total=   0.2s\n",
      "[Parallel(n_jobs=1)]: Done  15 out of  15 | elapsed:    4.6s remaining:    0.0s\n",
      "[CV] LR__solver=liblinear, LR__C=0.436911958723742 ...................\n",
      "[CV]  LR__solver=liblinear, LR__C=0.436911958723742, score=0.729, total=   0.1s\n",
      "[Parallel(n_jobs=1)]: Done  16 out of  16 | elapsed:    4.7s remaining:    0.0s\n",
      "[CV] LR__solver=liblinear, LR__C=0.436911958723742 ...................\n"
     ]
    },
    {
     "name": "stderr",
     "output_type": "stream",
     "text": [
      "/home/spavko/anaconda3/lib/python3.7/site-packages/sklearn/linear_model/logistic.py:1544: UserWarning: 'n_jobs' > 1 does not have any effect when 'solver' is set to 'liblinear'. Got 'n_jobs' = 8.\n",
      "  \" = {}.\".format(effective_n_jobs(self.n_jobs)))\n",
      "/home/spavko/anaconda3/lib/python3.7/site-packages/sklearn/linear_model/logistic.py:1544: UserWarning: 'n_jobs' > 1 does not have any effect when 'solver' is set to 'liblinear'. Got 'n_jobs' = 8.\n",
      "  \" = {}.\".format(effective_n_jobs(self.n_jobs)))\n"
     ]
    },
    {
     "name": "stdout",
     "output_type": "stream",
     "text": [
      "[CV]  LR__solver=liblinear, LR__C=0.436911958723742, score=0.725, total=   0.1s\n",
      "[Parallel(n_jobs=1)]: Done  17 out of  17 | elapsed:    4.9s remaining:    0.0s\n",
      "[CV] LR__solver=liblinear, LR__C=0.436911958723742 ...................\n",
      "[CV]  LR__solver=liblinear, LR__C=0.436911958723742, score=0.716, total=   0.1s\n",
      "[Parallel(n_jobs=1)]: Done  18 out of  18 | elapsed:    5.0s remaining:    0.0s\n",
      "[CV] LR__solver=newton-cg, LR__C=2.0920752216263874 ..................\n"
     ]
    },
    {
     "name": "stderr",
     "output_type": "stream",
     "text": [
      "/home/spavko/anaconda3/lib/python3.7/site-packages/sklearn/linear_model/logistic.py:1544: UserWarning: 'n_jobs' > 1 does not have any effect when 'solver' is set to 'liblinear'. Got 'n_jobs' = 8.\n",
      "  \" = {}.\".format(effective_n_jobs(self.n_jobs)))\n"
     ]
    },
    {
     "name": "stdout",
     "output_type": "stream",
     "text": [
      "[CV]  LR__solver=newton-cg, LR__C=2.0920752216263874, score=0.729, total=   0.2s\n",
      "[Parallel(n_jobs=1)]: Done  19 out of  19 | elapsed:    5.2s remaining:    0.0s\n",
      "[CV] LR__solver=newton-cg, LR__C=2.0920752216263874 ..................\n",
      "[CV]  LR__solver=newton-cg, LR__C=2.0920752216263874, score=0.725, total=   0.3s\n",
      "[Parallel(n_jobs=1)]: Done  20 out of  20 | elapsed:    5.5s remaining:    0.0s\n",
      "[CV] LR__solver=newton-cg, LR__C=2.0920752216263874 ..................\n",
      "[CV]  LR__solver=newton-cg, LR__C=2.0920752216263874, score=0.716, total=   0.2s\n",
      "[Parallel(n_jobs=1)]: Done  21 out of  21 | elapsed:    5.8s remaining:    0.0s\n",
      "[CV] LR__solver=newton-cg, LR__C=1.1545501052382643 ..................\n",
      "[CV]  LR__solver=newton-cg, LR__C=1.1545501052382643, score=0.729, total=   0.2s\n",
      "[Parallel(n_jobs=1)]: Done  22 out of  22 | elapsed:    6.0s remaining:    0.0s\n",
      "[CV] LR__solver=newton-cg, LR__C=1.1545501052382643 ..................\n",
      "[CV]  LR__solver=newton-cg, LR__C=1.1545501052382643, score=0.725, total=   0.2s\n",
      "[Parallel(n_jobs=1)]: Done  23 out of  23 | elapsed:    6.2s remaining:    0.0s\n",
      "[CV] LR__solver=newton-cg, LR__C=1.1545501052382643 ..................\n",
      "[CV]  LR__solver=newton-cg, LR__C=1.1545501052382643, score=0.716, total=   0.2s\n",
      "[Parallel(n_jobs=1)]: Done  24 out of  24 | elapsed:    6.4s remaining:    0.0s\n",
      "[CV] LR__solver=saga, LR__C=3.790336722796115 ........................\n",
      "[CV]  LR__solver=saga, LR__C=3.790336722796115, score=0.729, total=   0.9s\n",
      "[Parallel(n_jobs=1)]: Done  25 out of  25 | elapsed:    7.3s remaining:    0.0s\n",
      "[CV] LR__solver=saga, LR__C=3.790336722796115 ........................\n",
      "[CV]  LR__solver=saga, LR__C=3.790336722796115, score=0.725, total=   1.1s\n",
      "[Parallel(n_jobs=1)]: Done  26 out of  26 | elapsed:    8.4s remaining:    0.0s\n",
      "[CV] LR__solver=saga, LR__C=3.790336722796115 ........................\n",
      "[CV]  LR__solver=saga, LR__C=3.790336722796115, score=0.716, total=   0.8s\n",
      "[Parallel(n_jobs=1)]: Done  27 out of  27 | elapsed:    9.2s remaining:    0.0s\n",
      "[CV] LR__solver=saga, LR__C=0.33665483098618393 ......................\n",
      "[CV]  LR__solver=saga, LR__C=0.33665483098618393, score=0.728, total=   0.8s\n",
      "[Parallel(n_jobs=1)]: Done  28 out of  28 | elapsed:   10.1s remaining:    0.0s\n",
      "[CV] LR__solver=saga, LR__C=0.33665483098618393 ......................\n",
      "[CV]  LR__solver=saga, LR__C=0.33665483098618393, score=0.725, total=   0.9s\n",
      "[Parallel(n_jobs=1)]: Done  29 out of  29 | elapsed:   10.9s remaining:    0.0s\n",
      "[CV] LR__solver=saga, LR__C=0.33665483098618393 ......................\n",
      "[CV]  LR__solver=saga, LR__C=0.33665483098618393, score=0.716, total=   0.8s\n",
      "[Parallel(n_jobs=1)]: Done  30 out of  30 | elapsed:   11.8s remaining:    0.0s\n",
      "[CV] LR__solver=liblinear, LR__C=3.0203703680549836 ..................\n",
      "[CV]  LR__solver=liblinear, LR__C=3.0203703680549836, score=0.729, total=   0.1s\n",
      "[Parallel(n_jobs=1)]: Done  31 out of  31 | elapsed:   11.9s remaining:    0.0s\n",
      "[CV] LR__solver=liblinear, LR__C=3.0203703680549836 ..................\n"
     ]
    },
    {
     "name": "stderr",
     "output_type": "stream",
     "text": [
      "/home/spavko/anaconda3/lib/python3.7/site-packages/sklearn/linear_model/logistic.py:1544: UserWarning: 'n_jobs' > 1 does not have any effect when 'solver' is set to 'liblinear'. Got 'n_jobs' = 8.\n",
      "  \" = {}.\".format(effective_n_jobs(self.n_jobs)))\n",
      "/home/spavko/anaconda3/lib/python3.7/site-packages/sklearn/linear_model/logistic.py:1544: UserWarning: 'n_jobs' > 1 does not have any effect when 'solver' is set to 'liblinear'. Got 'n_jobs' = 8.\n",
      "  \" = {}.\".format(effective_n_jobs(self.n_jobs)))\n"
     ]
    },
    {
     "name": "stdout",
     "output_type": "stream",
     "text": [
      "[CV]  LR__solver=liblinear, LR__C=3.0203703680549836, score=0.725, total=   0.2s\n",
      "[Parallel(n_jobs=1)]: Done  32 out of  32 | elapsed:   12.1s remaining:    0.0s\n",
      "[CV] LR__solver=liblinear, LR__C=3.0203703680549836 ..................\n",
      "[CV]  LR__solver=liblinear, LR__C=3.0203703680549836, score=0.716, total=   0.2s\n",
      "[Parallel(n_jobs=1)]: Done  33 out of  33 | elapsed:   12.2s remaining:    0.0s\n",
      "[CV] LR__solver=liblinear, LR__C=1.9123438713995509 ..................\n"
     ]
    },
    {
     "name": "stderr",
     "output_type": "stream",
     "text": [
      "/home/spavko/anaconda3/lib/python3.7/site-packages/sklearn/linear_model/logistic.py:1544: UserWarning: 'n_jobs' > 1 does not have any effect when 'solver' is set to 'liblinear'. Got 'n_jobs' = 8.\n",
      "  \" = {}.\".format(effective_n_jobs(self.n_jobs)))\n",
      "/home/spavko/anaconda3/lib/python3.7/site-packages/sklearn/linear_model/logistic.py:1544: UserWarning: 'n_jobs' > 1 does not have any effect when 'solver' is set to 'liblinear'. Got 'n_jobs' = 8.\n",
      "  \" = {}.\".format(effective_n_jobs(self.n_jobs)))\n"
     ]
    },
    {
     "name": "stdout",
     "output_type": "stream",
     "text": [
      "[CV]  LR__solver=liblinear, LR__C=1.9123438713995509, score=0.729, total=   0.2s\n",
      "[Parallel(n_jobs=1)]: Done  34 out of  34 | elapsed:   12.4s remaining:    0.0s\n",
      "[CV] LR__solver=liblinear, LR__C=1.9123438713995509 ..................\n",
      "[CV]  LR__solver=liblinear, LR__C=1.9123438713995509, score=0.725, total=   0.1s\n",
      "[Parallel(n_jobs=1)]: Done  35 out of  35 | elapsed:   12.6s remaining:    0.0s\n",
      "[CV] LR__solver=liblinear, LR__C=1.9123438713995509 ..................\n"
     ]
    },
    {
     "name": "stderr",
     "output_type": "stream",
     "text": [
      "/home/spavko/anaconda3/lib/python3.7/site-packages/sklearn/linear_model/logistic.py:1544: UserWarning: 'n_jobs' > 1 does not have any effect when 'solver' is set to 'liblinear'. Got 'n_jobs' = 8.\n",
      "  \" = {}.\".format(effective_n_jobs(self.n_jobs)))\n",
      "/home/spavko/anaconda3/lib/python3.7/site-packages/sklearn/linear_model/logistic.py:1544: UserWarning: 'n_jobs' > 1 does not have any effect when 'solver' is set to 'liblinear'. Got 'n_jobs' = 8.\n",
      "  \" = {}.\".format(effective_n_jobs(self.n_jobs)))\n"
     ]
    },
    {
     "name": "stdout",
     "output_type": "stream",
     "text": [
      "[CV]  LR__solver=liblinear, LR__C=1.9123438713995509, score=0.716, total=   0.1s\n",
      "[Parallel(n_jobs=1)]: Done  36 out of  36 | elapsed:   12.7s remaining:    0.0s\n",
      "[CV] LR__solver=newton-cg, LR__C=4.325328211307004 ...................\n",
      "[CV]  LR__solver=newton-cg, LR__C=4.325328211307004, score=0.729, total=   0.3s\n",
      "[Parallel(n_jobs=1)]: Done  37 out of  37 | elapsed:   13.0s remaining:    0.0s\n",
      "[CV] LR__solver=newton-cg, LR__C=4.325328211307004 ...................\n",
      "[CV]  LR__solver=newton-cg, LR__C=4.325328211307004, score=0.725, total=   0.3s\n",
      "[Parallel(n_jobs=1)]: Done  38 out of  38 | elapsed:   13.3s remaining:    0.0s\n",
      "[CV] LR__solver=newton-cg, LR__C=4.325328211307004 ...................\n",
      "[CV]  LR__solver=newton-cg, LR__C=4.325328211307004, score=0.716, total=   0.2s\n",
      "[Parallel(n_jobs=1)]: Done  39 out of  39 | elapsed:   13.5s remaining:    0.0s\n",
      "[CV] LR__solver=saga, LR__C=0.2563901371131827 .......................\n",
      "[CV]  LR__solver=saga, LR__C=0.2563901371131827, score=0.728, total=   0.9s\n",
      "[Parallel(n_jobs=1)]: Done  40 out of  40 | elapsed:   14.3s remaining:    0.0s\n",
      "[CV] LR__solver=saga, LR__C=0.2563901371131827 .......................\n",
      "[CV]  LR__solver=saga, LR__C=0.2563901371131827, score=0.725, total=   0.9s\n",
      "[Parallel(n_jobs=1)]: Done  41 out of  41 | elapsed:   15.2s remaining:    0.0s\n",
      "[CV] LR__solver=saga, LR__C=0.2563901371131827 .......................\n",
      "[CV]  LR__solver=saga, LR__C=0.2563901371131827, score=0.716, total=   0.7s\n",
      "[Parallel(n_jobs=1)]: Done  42 out of  42 | elapsed:   15.9s remaining:    0.0s\n",
      "[CV] LR__solver=saga, LR__C=0.4636217645272653 .......................\n",
      "[CV]  LR__solver=saga, LR__C=0.4636217645272653, score=0.728, total=   0.9s\n",
      "[Parallel(n_jobs=1)]: Done  43 out of  43 | elapsed:   16.8s remaining:    0.0s\n",
      "[CV] LR__solver=saga, LR__C=0.4636217645272653 .......................\n",
      "[CV]  LR__solver=saga, LR__C=0.4636217645272653, score=0.725, total=   0.9s\n",
      "[Parallel(n_jobs=1)]: Done  44 out of  44 | elapsed:   17.6s remaining:    0.0s\n",
      "[CV] LR__solver=saga, LR__C=0.4636217645272653 .......................\n",
      "[CV]  LR__solver=saga, LR__C=0.4636217645272653, score=0.716, total=   0.7s\n",
      "[Parallel(n_jobs=1)]: Done  45 out of  45 | elapsed:   18.4s remaining:    0.0s\n",
      "[CV] LR__solver=saga, LR__C=1.8834334103663308 .......................\n",
      "[CV]  LR__solver=saga, LR__C=1.8834334103663308, score=0.729, total=   1.0s\n",
      "[Parallel(n_jobs=1)]: Done  46 out of  46 | elapsed:   19.4s remaining:    0.0s\n",
      "[CV] LR__solver=saga, LR__C=1.8834334103663308 .......................\n",
      "[CV]  LR__solver=saga, LR__C=1.8834334103663308, score=0.725, total=   0.9s\n",
      "[Parallel(n_jobs=1)]: Done  47 out of  47 | elapsed:   20.3s remaining:    0.0s\n",
      "[CV] LR__solver=saga, LR__C=1.8834334103663308 .......................\n",
      "[CV]  LR__solver=saga, LR__C=1.8834334103663308, score=0.716, total=   0.9s\n",
      "[Parallel(n_jobs=1)]: Done  48 out of  48 | elapsed:   21.1s remaining:    0.0s\n",
      "[CV] LR__solver=saga, LR__C=1.2417091946010468 .......................\n",
      "[CV]  LR__solver=saga, LR__C=1.2417091946010468, score=0.729, total=   0.9s\n",
      "[Parallel(n_jobs=1)]: Done  49 out of  49 | elapsed:   22.0s remaining:    0.0s\n",
      "[CV] LR__solver=saga, LR__C=1.2417091946010468 .......................\n",
      "[CV]  LR__solver=saga, LR__C=1.2417091946010468, score=0.725, total=   0.9s\n",
      "[Parallel(n_jobs=1)]: Done  50 out of  50 | elapsed:   23.0s remaining:    0.0s\n",
      "[CV] LR__solver=saga, LR__C=1.2417091946010468 .......................\n",
      "[CV]  LR__solver=saga, LR__C=1.2417091946010468, score=0.716, total=   0.8s\n",
      "[Parallel(n_jobs=1)]: Done  51 out of  51 | elapsed:   23.8s remaining:    0.0s\n",
      "[CV] LR__solver=liblinear, LR__C=1.4899832947147562 ..................\n",
      "[CV]  LR__solver=liblinear, LR__C=1.4899832947147562, score=0.729, total=   0.2s\n",
      "[Parallel(n_jobs=1)]: Done  52 out of  52 | elapsed:   24.0s remaining:    0.0s\n",
      "[CV] LR__solver=liblinear, LR__C=1.4899832947147562 ..................\n"
     ]
    },
    {
     "name": "stderr",
     "output_type": "stream",
     "text": [
      "/home/spavko/anaconda3/lib/python3.7/site-packages/sklearn/linear_model/logistic.py:1544: UserWarning: 'n_jobs' > 1 does not have any effect when 'solver' is set to 'liblinear'. Got 'n_jobs' = 8.\n",
      "  \" = {}.\".format(effective_n_jobs(self.n_jobs)))\n",
      "/home/spavko/anaconda3/lib/python3.7/site-packages/sklearn/linear_model/logistic.py:1544: UserWarning: 'n_jobs' > 1 does not have any effect when 'solver' is set to 'liblinear'. Got 'n_jobs' = 8.\n",
      "  \" = {}.\".format(effective_n_jobs(self.n_jobs)))\n"
     ]
    },
    {
     "name": "stdout",
     "output_type": "stream",
     "text": [
      "[CV]  LR__solver=liblinear, LR__C=1.4899832947147562, score=0.725, total=   0.2s\n",
      "[Parallel(n_jobs=1)]: Done  53 out of  53 | elapsed:   24.1s remaining:    0.0s\n",
      "[CV] LR__solver=liblinear, LR__C=1.4899832947147562 ..................\n",
      "[CV]  LR__solver=liblinear, LR__C=1.4899832947147562, score=0.716, total=   0.1s\n",
      "[Parallel(n_jobs=1)]: Done  54 out of  54 | elapsed:   24.2s remaining:    0.0s\n",
      "[CV] LR__solver=saga, LR__C=0.8194737157486736 .......................\n"
     ]
    },
    {
     "name": "stderr",
     "output_type": "stream",
     "text": [
      "/home/spavko/anaconda3/lib/python3.7/site-packages/sklearn/linear_model/logistic.py:1544: UserWarning: 'n_jobs' > 1 does not have any effect when 'solver' is set to 'liblinear'. Got 'n_jobs' = 8.\n",
      "  \" = {}.\".format(effective_n_jobs(self.n_jobs)))\n"
     ]
    },
    {
     "name": "stdout",
     "output_type": "stream",
     "text": [
      "[CV]  LR__solver=saga, LR__C=0.8194737157486736, score=0.729, total=   1.0s\n",
      "[Parallel(n_jobs=1)]: Done  55 out of  55 | elapsed:   25.2s remaining:    0.0s\n",
      "[CV] LR__solver=saga, LR__C=0.8194737157486736 .......................\n",
      "[CV]  LR__solver=saga, LR__C=0.8194737157486736, score=0.725, total=   0.9s\n",
      "[Parallel(n_jobs=1)]: Done  56 out of  56 | elapsed:   26.1s remaining:    0.0s\n",
      "[CV] LR__solver=saga, LR__C=0.8194737157486736 .......................\n",
      "[CV]  LR__solver=saga, LR__C=0.8194737157486736, score=0.716, total=   0.7s\n",
      "[Parallel(n_jobs=1)]: Done  57 out of  57 | elapsed:   26.8s remaining:    0.0s\n",
      "[CV] LR__solver=saga, LR__C=1.2414310461922882 .......................\n",
      "[CV]  LR__solver=saga, LR__C=1.2414310461922882, score=0.729, total=   0.9s\n",
      "[Parallel(n_jobs=1)]: Done  58 out of  58 | elapsed:   27.7s remaining:    0.0s\n",
      "[CV] LR__solver=saga, LR__C=1.2414310461922882 .......................\n",
      "[CV]  LR__solver=saga, LR__C=1.2414310461922882, score=0.725, total=   0.8s\n",
      "[Parallel(n_jobs=1)]: Done  59 out of  59 | elapsed:   28.5s remaining:    0.0s\n",
      "[CV] LR__solver=saga, LR__C=1.2414310461922882 .......................\n",
      "[CV]  LR__solver=saga, LR__C=1.2414310461922882, score=0.716, total=   0.7s\n",
      "[Parallel(n_jobs=1)]: Done  60 out of  60 | elapsed:   29.2s remaining:    0.0s\n",
      "[CV] LR__solver=newton-cg, LR__C=0.23808604181148607 .................\n",
      "[CV]  LR__solver=newton-cg, LR__C=0.23808604181148607, score=0.729, total=   0.2s\n",
      "[Parallel(n_jobs=1)]: Done  61 out of  61 | elapsed:   29.4s remaining:    0.0s\n",
      "[CV] LR__solver=newton-cg, LR__C=0.23808604181148607 .................\n",
      "[CV]  LR__solver=newton-cg, LR__C=0.23808604181148607, score=0.725, total=   0.2s\n",
      "[Parallel(n_jobs=1)]: Done  62 out of  62 | elapsed:   29.7s remaining:    0.0s\n",
      "[CV] LR__solver=newton-cg, LR__C=0.23808604181148607 .................\n",
      "[CV]  LR__solver=newton-cg, LR__C=0.23808604181148607, score=0.716, total=   0.2s\n",
      "[Parallel(n_jobs=1)]: Done  63 out of  63 | elapsed:   29.9s remaining:    0.0s\n",
      "[Parallel(n_jobs=1)]: Done  63 out of  63 | elapsed:   29.9s finished\n",
      "Pipeline(memory=None,\n",
      "         steps=[('scaler',\n",
      "                 StandardScaler(copy=True, with_mean=True, with_std=True)),\n",
      "                ('LR',\n",
      "                 LogisticRegression(C=4.325328211307004,\n",
      "                                    class_weight='balanced', dual=False,\n",
      "                                    fit_intercept=True, intercept_scaling=1,\n",
      "                                    l1_ratio=None, max_iter=150,\n",
      "                                    multi_class='warn', n_jobs=-1, penalty='l2',\n",
      "                                    random_state=42, solver='newton-cg',\n",
      "                                    tol=0.0001, verbose=0, warm_start=False))],\n",
      "         verbose=False)\n",
      "0.7233102484396944\n"
     ]
    }
   ],
   "source": [
    "############################################\n",
    "## 1 ## Multivariate logistic regression  ##\n",
    "############################################\n",
    "\n",
    "## Attempting a randomized search to find a better model\n",
    "\n",
    "\n",
    "model = LogisticRegression(random_state=42, \n",
    "                           class_weight='balanced', \n",
    "                           max_iter=150,\n",
    "                           n_jobs=-1)\n",
    "\n",
    "steps = [('scaler', StandardScaler()), ('LR', model)]\n",
    "pipeline = Pipeline(steps) \n",
    "\n",
    "\n",
    "params = {'LR__C':gamma.rvs(2, size=10000),\n",
    "          'LR__solver':['newton-cg', 'liblinear', 'saga']}\n",
    "\n",
    "random_search = RandomizedSearchCV(pipeline, \n",
    "                                   param_distributions=params, \n",
    "                                   cv=3, \n",
    "                                   n_iter=21,\n",
    "                                   scoring='roc_auc',\n",
    "                                   iid=False, \n",
    "                                   verbose=100)\n",
    "\n",
    "random_search.fit(X_train, y_train)\n",
    "\n",
    "print(random_search.best_estimator_)\n",
    "print(random_search.best_score_)\n",
    "\n"
   ]
  },
  {
   "cell_type": "code",
   "execution_count": 45,
   "metadata": {},
   "outputs": [
    {
     "name": "stderr",
     "output_type": "stream",
     "text": [
      "/home/spavko/anaconda3/lib/python3.7/site-packages/scipy/optimize/linesearch.py:466: LineSearchWarning: The line search algorithm did not converge\n",
      "  warn('The line search algorithm did not converge', LineSearchWarning)\n",
      "/home/spavko/anaconda3/lib/python3.7/site-packages/scipy/optimize/linesearch.py:314: LineSearchWarning: The line search algorithm did not converge\n",
      "  warn('The line search algorithm did not converge', LineSearchWarning)\n",
      "/home/spavko/anaconda3/lib/python3.7/site-packages/scipy/optimize/linesearch.py:466: LineSearchWarning: The line search algorithm did not converge\n",
      "  warn('The line search algorithm did not converge', LineSearchWarning)\n",
      "/home/spavko/anaconda3/lib/python3.7/site-packages/scipy/optimize/linesearch.py:314: LineSearchWarning: The line search algorithm did not converge\n",
      "  warn('The line search algorithm did not converge', LineSearchWarning)\n",
      "/home/spavko/anaconda3/lib/python3.7/site-packages/scipy/optimize/linesearch.py:466: LineSearchWarning: The line search algorithm did not converge\n",
      "  warn('The line search algorithm did not converge', LineSearchWarning)\n",
      "/home/spavko/anaconda3/lib/python3.7/site-packages/scipy/optimize/linesearch.py:314: LineSearchWarning: The line search algorithm did not converge\n",
      "  warn('The line search algorithm did not converge', LineSearchWarning)\n",
      "/home/spavko/anaconda3/lib/python3.7/site-packages/scipy/optimize/linesearch.py:466: LineSearchWarning: The line search algorithm did not converge\n",
      "  warn('The line search algorithm did not converge', LineSearchWarning)\n",
      "/home/spavko/anaconda3/lib/python3.7/site-packages/scipy/optimize/linesearch.py:314: LineSearchWarning: The line search algorithm did not converge\n",
      "  warn('The line search algorithm did not converge', LineSearchWarning)\n",
      "/home/spavko/anaconda3/lib/python3.7/site-packages/scipy/optimize/linesearch.py:466: LineSearchWarning: The line search algorithm did not converge\n",
      "  warn('The line search algorithm did not converge', LineSearchWarning)\n",
      "/home/spavko/anaconda3/lib/python3.7/site-packages/scipy/optimize/linesearch.py:314: LineSearchWarning: The line search algorithm did not converge\n",
      "  warn('The line search algorithm did not converge', LineSearchWarning)\n",
      "/home/spavko/anaconda3/lib/python3.7/site-packages/scipy/optimize/linesearch.py:466: LineSearchWarning: The line search algorithm did not converge\n",
      "  warn('The line search algorithm did not converge', LineSearchWarning)\n",
      "/home/spavko/anaconda3/lib/python3.7/site-packages/scipy/optimize/linesearch.py:314: LineSearchWarning: The line search algorithm did not converge\n",
      "  warn('The line search algorithm did not converge', LineSearchWarning)\n",
      "/home/spavko/anaconda3/lib/python3.7/site-packages/scipy/optimize/linesearch.py:466: LineSearchWarning: The line search algorithm did not converge\n",
      "  warn('The line search algorithm did not converge', LineSearchWarning)\n",
      "/home/spavko/anaconda3/lib/python3.7/site-packages/scipy/optimize/linesearch.py:314: LineSearchWarning: The line search algorithm did not converge\n",
      "  warn('The line search algorithm did not converge', LineSearchWarning)\n",
      "/home/spavko/anaconda3/lib/python3.7/site-packages/scipy/optimize/linesearch.py:466: LineSearchWarning: The line search algorithm did not converge\n",
      "  warn('The line search algorithm did not converge', LineSearchWarning)\n",
      "/home/spavko/anaconda3/lib/python3.7/site-packages/scipy/optimize/linesearch.py:314: LineSearchWarning: The line search algorithm did not converge\n",
      "  warn('The line search algorithm did not converge', LineSearchWarning)\n",
      "/home/spavko/anaconda3/lib/python3.7/site-packages/scipy/optimize/linesearch.py:466: LineSearchWarning: The line search algorithm did not converge\n",
      "  warn('The line search algorithm did not converge', LineSearchWarning)\n",
      "/home/spavko/anaconda3/lib/python3.7/site-packages/scipy/optimize/linesearch.py:314: LineSearchWarning: The line search algorithm did not converge\n",
      "  warn('The line search algorithm did not converge', LineSearchWarning)\n",
      "/home/spavko/anaconda3/lib/python3.7/site-packages/scipy/optimize/linesearch.py:466: LineSearchWarning: The line search algorithm did not converge\n",
      "  warn('The line search algorithm did not converge', LineSearchWarning)\n",
      "/home/spavko/anaconda3/lib/python3.7/site-packages/scipy/optimize/linesearch.py:314: LineSearchWarning: The line search algorithm did not converge\n",
      "  warn('The line search algorithm did not converge', LineSearchWarning)\n",
      "/home/spavko/anaconda3/lib/python3.7/site-packages/scipy/optimize/linesearch.py:466: LineSearchWarning: The line search algorithm did not converge\n",
      "  warn('The line search algorithm did not converge', LineSearchWarning)\n",
      "/home/spavko/anaconda3/lib/python3.7/site-packages/scipy/optimize/linesearch.py:314: LineSearchWarning: The line search algorithm did not converge\n",
      "  warn('The line search algorithm did not converge', LineSearchWarning)\n",
      "/home/spavko/anaconda3/lib/python3.7/site-packages/scipy/optimize/linesearch.py:466: LineSearchWarning: The line search algorithm did not converge\n",
      "  warn('The line search algorithm did not converge', LineSearchWarning)\n",
      "/home/spavko/anaconda3/lib/python3.7/site-packages/scipy/optimize/linesearch.py:314: LineSearchWarning: The line search algorithm did not converge\n",
      "  warn('The line search algorithm did not converge', LineSearchWarning)\n",
      "/home/spavko/anaconda3/lib/python3.7/site-packages/scipy/optimize/linesearch.py:466: LineSearchWarning: The line search algorithm did not converge\n",
      "  warn('The line search algorithm did not converge', LineSearchWarning)\n",
      "/home/spavko/anaconda3/lib/python3.7/site-packages/scipy/optimize/linesearch.py:314: LineSearchWarning: The line search algorithm did not converge\n",
      "  warn('The line search algorithm did not converge', LineSearchWarning)\n",
      "/home/spavko/anaconda3/lib/python3.7/site-packages/sklearn/utils/optimize.py:203: ConvergenceWarning: newton-cg failed to converge. Increase the number of iterations.\n",
      "  \"number of iterations.\", ConvergenceWarning)\n"
     ]
    },
    {
     "name": "stdout",
     "output_type": "stream",
     "text": [
      "Confusion matrix, without normalization\n",
      "[[3297 1390]\n",
      " [ 461  852]]\n"
     ]
    },
    {
     "data": {
      "image/png": "[encoded data removed]",
      "text/plain": [
       "<Figure size 432x288 with 2 Axes>"
      ]
     },
     "metadata": {
      "needs_background": "light"
     },
     "output_type": "display_data"
    },
    {
     "name": "stdout",
     "output_type": "stream",
     "text": [
      "Accuracy: 0.6915, F1: 0.4793248945147679, AUC: 0.67617 \n",
      "\n",
      "Feature coefficients: \n",
      "\n",
      "        Feature   Coefficient\n",
      "2         PAY_0  5.068086e-01\n",
      "22  EDUCATION_1  2.230075e-01\n",
      "23  EDUCATION_2  1.723388e-01\n",
      "24  EDUCATION_3  1.427907e-01\n",
      "3         PAY_2  9.808943e-02\n",
      "26   MARRIAGE_1  7.541045e-02\n",
      "4         PAY_3  5.760926e-02\n",
      "5         PAY_4  4.144777e-02\n",
      "6         PAY_5  9.141468e-03\n",
      "1           AGE  7.408429e-03\n",
      "10    BILL_AMT3  1.665594e-06\n",
      "9     BILL_AMT2  1.612224e-06\n",
      "12    BILL_AMT5  7.284203e-07\n",
      "13    BILL_AMT6 -1.324716e-07\n",
      "0     LIMIT_BAL -7.649869e-07\n",
      "11    BILL_AMT4 -7.921691e-07\n",
      "18     PAY_AMT5 -9.315974e-07\n",
      "16     PAY_AMT3 -1.026561e-06\n",
      "19     PAY_AMT6 -2.261266e-06\n",
      "17     PAY_AMT4 -3.146904e-06\n",
      "8     BILL_AMT1 -4.541967e-06\n",
      "15     PAY_AMT2 -9.321287e-06\n",
      "14     PAY_AMT1 -9.869126e-06\n",
      "20        SEX_1 -5.119606e-03\n",
      "7         PAY_6 -6.972023e-03\n",
      "27   MARRIAGE_2 -8.977313e-02\n",
      "28   MARRIAGE_3 -1.182116e-01\n",
      "21        SEX_2 -1.274546e-01\n",
      "25  EDUCATION_4 -6.707113e-01\n"
     ]
    }
   ],
   "source": [
    "## Final model selected:\n",
    "\n",
    "lr_model = LogisticRegression(random_state=42,                           \n",
    "                           solver='newton-cg',\n",
    "                           C=7,\n",
    "                           class_weight='balanced',\n",
    "                           max_iter=150,\n",
    "                           n_jobs=1,\n",
    "                           penalty='l2'\n",
    "                           )\n",
    "\n",
    "#lr_model = LogisticRegression(random_state=42,                           \n",
    "#                           solver='newton-cg',\n",
    "#                           C=4.32,\n",
    "#                           class_weight='balanced',\n",
    "#                           max_iter=150,\n",
    "#                           n_jobs=-1,\n",
    "#                           penalty='l2'\n",
    "#                           )\n",
    "\n",
    "lr_model.fit(X_train, y_train)\n",
    "\n",
    "y_pred = lr_model.predict(X_test)\n",
    "\n",
    "conf_matrix = confusion_matrix(y_test, y_pred)\n",
    "\n",
    "plot_confusion_matrix(conf_matrix, classes = [0,1])\n",
    "\n",
    "# y_test.hist()\n",
    "# pd.DataFrame(data=y_pred).hist()\n",
    "\n",
    "acc_score = accuracy_score(y_test, y_pred)\n",
    "f_one_score = f1_score(y_test, y_pred)\n",
    "\n",
    "fpr, tpr, thresholds = roc_curve(y_test, y_pred, pos_label=1)\n",
    "\n",
    "auc_score = str(round(auc(fpr, tpr),5))\n",
    "\n",
    "\n",
    "print('Accuracy: {}, F1: {}, AUC: {} \\n'.format(acc_score,f_one_score, auc_score))\n",
    "\n",
    "coefficients = pd.concat([pd.DataFrame(X_test.columns),pd.DataFrame(np.transpose(lr_model.coef_))], axis = 1)\n",
    "coefficients.columns = ['Feature','Coefficient']\n",
    "\n",
    "print('Feature coefficients: \\n')\n",
    "print(coefficients.sort_values(by='Coefficient', ascending=False))\n"
   ]
  },
  {
   "cell_type": "markdown",
   "metadata": {},
   "source": [
    "## Multiple Logistic Regression - results\n",
    "\n",
    "It seems that the most relevant coefficients are the ones connected to variable PAY, especially the PAY_0 and EDUCATION features which is most important. This would mean that the most recent repayment status has the most influence on the default in current month.\n",
    "\n",
    "AUC seems quite poor when compared to solving some other problems, but still might be usable to establish some results as a Proog Of Concept and baseline of what is possible with the data given.\n",
    "\n",
    "For logistic regression i will also attempt a very simple model with just a single variable in order to check its performance also.\n",
    "    "
   ]
  },
  {
   "cell_type": "code",
   "execution_count": 46,
   "metadata": {},
   "outputs": [
    {
     "name": "stdout",
     "output_type": "stream",
     "text": [
      "Confusion matrix, without normalization\n",
      "[[3992  695]\n",
      " [ 630  683]]\n"
     ]
    },
    {
     "data": {
      "image/png": "[encoded data removed]",
      "text/plain": [
       "<Figure size 432x288 with 2 Axes>"
      ]
     },
     "metadata": {
      "needs_background": "light"
     },
     "output_type": "display_data"
    },
    {
     "name": "stdout",
     "output_type": "stream",
     "text": [
      "Accuracy: 0.7791666666666667, F1: 0.5076179858788553, AUC: 0.68595 \n",
      "\n"
     ]
    }
   ],
   "source": [
    "#########################################\n",
    "## 2 ## Univariate logistic regression  #\n",
    "#########################################\n",
    "\n",
    "lr_model.fit(np.array(X_train['PAY_0']).reshape(-1,1), y_train)\n",
    "\n",
    "#np.array(X_train['PAY_0']).reshape(-1,1)\n",
    "#np.array(X_train['PAY_0']).reshape(1,-1)\n",
    "\n",
    "y_pred = lr_model.predict(np.array(X_test['PAY_0']).reshape(-1,1))\n",
    "\n",
    "conf_matrix = confusion_matrix(y_test, y_pred)\n",
    "\n",
    "plot_confusion_matrix(conf_matrix, classes = [0,1])\n",
    "\n",
    "# y_test.hist()\n",
    "# pd.DataFrame(data=y_pred).hist()\n",
    "\n",
    "acc_score = accuracy_score(y_test, y_pred)\n",
    "f_one_score = f1_score(y_test, y_pred)\n",
    "\n",
    "fpr, tpr, thresholds = roc_curve(y_test, y_pred, pos_label=1)\n",
    "\n",
    "auc_score = str(round(auc(fpr, tpr),5))\n",
    "\n",
    "print('Accuracy: {}, F1: {}, AUC: {} \\n'.format(acc_score,f_one_score, auc_score))\n"
   ]
  },
  {
   "cell_type": "code",
   "execution_count": 47,
   "metadata": {},
   "outputs": [
    {
     "name": "stdout",
     "output_type": "stream",
     "text": [
      "Confusion matrix, without normalization\n",
      "[[4000  687]\n",
      " [ 630  683]]\n"
     ]
    },
    {
     "data": {
      "image/png": "[encoded data removed]",
      "text/plain": [
       "<Figure size 432x288 with 2 Axes>"
      ]
     },
     "metadata": {
      "needs_background": "light"
     },
     "output_type": "display_data"
    },
    {
     "name": "stdout",
     "output_type": "stream",
     "text": [
      "Accuracy: 0.7805, F1: 0.5091315691390235, AUC: 0.70103 \n",
      "\n"
     ]
    },
    {
     "data": {
      "image/png": "[encoded data removed]",
      "text/plain": [
       "<Figure size 576x432 with 1 Axes>"
      ]
     },
     "metadata": {
      "needs_background": "light"
     },
     "output_type": "display_data"
    }
   ],
   "source": [
    "######################################################################\n",
    "## 3 ## Multivariate logistic regression - 4 most important features #\n",
    "######################################################################\n",
    "\n",
    "lr_model.fit(X_train[['PAY_0','EDUCATION_1','EDUCATION_2','EDUCATION_3']], y_train)\n",
    "\n",
    "#np.array(X_train['PAY_0']).reshape(-1,1)\n",
    "#np.array(X_train['PAY_0']).reshape(1,-1)\n",
    "\n",
    "y_pred = lr_model.predict(X_test[['PAY_0','EDUCATION_1','EDUCATION_2','EDUCATION_3']])\n",
    "y_pred_proba = lr_model.predict_proba(X_test[['PAY_0','EDUCATION_1','EDUCATION_2','EDUCATION_3']])[:,1]\n",
    "\n",
    "conf_matrix = confusion_matrix(y_test, y_pred)\n",
    "\n",
    "plot_confusion_matrix(conf_matrix, classes = [0,1])\n",
    "\n",
    "# y_test.hist()\n",
    "# pd.DataFrame(data=y_pred).hist()\n",
    "\n",
    "acc_score = accuracy_score(y_test, y_pred)\n",
    "f_one_score = f1_score(y_test, y_pred)\n",
    "\n",
    "fpr, tpr, thresholds = roc_curve(y_test, y_pred_proba, pos_label=1)\n",
    "\n",
    "auc_score = str(round(auc(fpr, tpr),5))\n",
    "\n",
    "print('Accuracy: {}, F1: {}, AUC: {} \\n'.format(acc_score,f_one_score, auc_score))\n",
    "\n",
    "plot_roc_curve(fpr, tpr)"
   ]
  },
  {
   "cell_type": "markdown",
   "metadata": {},
   "source": [
    "## Multiple Logistic Regression with 4 vaiables - results\n",
    "\n",
    "The very simple model has performed slightly better than the full model, but by choosing the top 4 variables from the initial Multiple Logistic Regression model we have achieved the best performance on both accuracy and AUC.\n",
    "\n",
    "There are some other more elaborate methods how to choose the best number of variables in regression, but at this point we have a good baseline against which we can test some other models as well.\n"
   ]
  },
  {
   "cell_type": "markdown",
   "metadata": {},
   "source": [
    "Tree enembles - Gradient Boosting Classifier\n",
    "--------------------\n",
    "\n"
   ]
  },
  {
   "cell_type": "code",
   "execution_count": 48,
   "metadata": {},
   "outputs": [
    {
     "name": "stdout",
     "output_type": "stream",
     "text": [
      "Fitting 3 folds for each of 21 candidates, totalling 63 fits\n",
      "[Parallel(n_jobs=1)]: Using backend SequentialBackend with 1 concurrent workers.\n",
      "[CV] learning_rate=0.6, max_depth=2, min_samples_leaf=79, n_estimators=74 \n",
      "[CV]  learning_rate=0.6, max_depth=2, min_samples_leaf=79, n_estimators=74, score=0.779, total=   0.9s\n",
      "[Parallel(n_jobs=1)]: Done   1 out of   1 | elapsed:    0.9s remaining:    0.0s\n",
      "[CV] learning_rate=0.6, max_depth=2, min_samples_leaf=79, n_estimators=74 \n",
      "[CV]  learning_rate=0.6, max_depth=2, min_samples_leaf=79, n_estimators=74, score=0.779, total=   1.0s\n",
      "[Parallel(n_jobs=1)]: Done   2 out of   2 | elapsed:    1.9s remaining:    0.0s\n",
      "[CV] learning_rate=0.6, max_depth=2, min_samples_leaf=79, n_estimators=74 \n",
      "[CV]  learning_rate=0.6, max_depth=2, min_samples_leaf=79, n_estimators=74, score=0.767, total=   1.0s\n",
      "[Parallel(n_jobs=1)]: Done   3 out of   3 | elapsed:    2.9s remaining:    0.0s\n",
      "[CV] learning_rate=0.1, max_depth=2, min_samples_leaf=59, n_estimators=84 \n",
      "[CV]  learning_rate=0.1, max_depth=2, min_samples_leaf=59, n_estimators=84, score=0.782, total=   1.1s\n",
      "[Parallel(n_jobs=1)]: Done   4 out of   4 | elapsed:    4.0s remaining:    0.0s\n",
      "[CV] learning_rate=0.1, max_depth=2, min_samples_leaf=59, n_estimators=84 \n",
      "[CV]  learning_rate=0.1, max_depth=2, min_samples_leaf=59, n_estimators=84, score=0.784, total=   1.1s\n",
      "[Parallel(n_jobs=1)]: Done   5 out of   5 | elapsed:    5.0s remaining:    0.0s\n",
      "[CV] learning_rate=0.1, max_depth=2, min_samples_leaf=59, n_estimators=84 \n",
      "[CV]  learning_rate=0.1, max_depth=2, min_samples_leaf=59, n_estimators=84, score=0.767, total=   1.0s\n",
      "[Parallel(n_jobs=1)]: Done   6 out of   6 | elapsed:    6.1s remaining:    0.0s\n",
      "[CV] learning_rate=0.05, max_depth=2, min_samples_leaf=58, n_estimators=184 \n",
      "[CV]  learning_rate=0.05, max_depth=2, min_samples_leaf=58, n_estimators=184, score=0.782, total=   2.2s\n",
      "[Parallel(n_jobs=1)]: Done   7 out of   7 | elapsed:    8.3s remaining:    0.0s\n",
      "[CV] learning_rate=0.05, max_depth=2, min_samples_leaf=58, n_estimators=184 \n",
      "[CV]  learning_rate=0.05, max_depth=2, min_samples_leaf=58, n_estimators=184, score=0.785, total=   2.2s\n",
      "[Parallel(n_jobs=1)]: Done   8 out of   8 | elapsed:   10.5s remaining:    0.0s\n",
      "[CV] learning_rate=0.05, max_depth=2, min_samples_leaf=58, n_estimators=184 \n",
      "[CV]  learning_rate=0.05, max_depth=2, min_samples_leaf=58, n_estimators=184, score=0.767, total=   2.2s\n",
      "[Parallel(n_jobs=1)]: Done   9 out of   9 | elapsed:   12.6s remaining:    0.0s\n",
      "[CV] learning_rate=0.3, max_depth=2, min_samples_leaf=77, n_estimators=165 \n",
      "[CV]  learning_rate=0.3, max_depth=2, min_samples_leaf=77, n_estimators=165, score=0.781, total=   2.0s\n",
      "[Parallel(n_jobs=1)]: Done  10 out of  10 | elapsed:   14.6s remaining:    0.0s\n",
      "[CV] learning_rate=0.3, max_depth=2, min_samples_leaf=77, n_estimators=165 \n",
      "[CV]  learning_rate=0.3, max_depth=2, min_samples_leaf=77, n_estimators=165, score=0.783, total=   2.0s\n",
      "[Parallel(n_jobs=1)]: Done  11 out of  11 | elapsed:   16.6s remaining:    0.0s\n",
      "[CV] learning_rate=0.3, max_depth=2, min_samples_leaf=77, n_estimators=165 \n",
      "[CV]  learning_rate=0.3, max_depth=2, min_samples_leaf=77, n_estimators=165, score=0.770, total=   1.9s\n",
      "[Parallel(n_jobs=1)]: Done  12 out of  12 | elapsed:   18.5s remaining:    0.0s\n",
      "[CV] learning_rate=0.2, max_depth=2, min_samples_leaf=60, n_estimators=120 \n",
      "[CV]  learning_rate=0.2, max_depth=2, min_samples_leaf=60, n_estimators=120, score=0.784, total=   1.5s\n",
      "[Parallel(n_jobs=1)]: Done  13 out of  13 | elapsed:   20.0s remaining:    0.0s\n",
      "[CV] learning_rate=0.2, max_depth=2, min_samples_leaf=60, n_estimators=120 \n",
      "[CV]  learning_rate=0.2, max_depth=2, min_samples_leaf=60, n_estimators=120, score=0.785, total=   1.5s\n",
      "[Parallel(n_jobs=1)]: Done  14 out of  14 | elapsed:   21.5s remaining:    0.0s\n",
      "[CV] learning_rate=0.2, max_depth=2, min_samples_leaf=60, n_estimators=120 \n",
      "[CV]  learning_rate=0.2, max_depth=2, min_samples_leaf=60, n_estimators=120, score=0.769, total=   1.4s\n",
      "[Parallel(n_jobs=1)]: Done  15 out of  15 | elapsed:   22.9s remaining:    0.0s\n",
      "[CV] learning_rate=0.3, max_depth=2, min_samples_leaf=51, n_estimators=74 \n",
      "[CV]  learning_rate=0.3, max_depth=2, min_samples_leaf=51, n_estimators=74, score=0.781, total=   0.9s\n",
      "[Parallel(n_jobs=1)]: Done  16 out of  16 | elapsed:   23.9s remaining:    0.0s\n",
      "[CV] learning_rate=0.3, max_depth=2, min_samples_leaf=51, n_estimators=74 \n",
      "[CV]  learning_rate=0.3, max_depth=2, min_samples_leaf=51, n_estimators=74, score=0.786, total=   0.9s\n",
      "[Parallel(n_jobs=1)]: Done  17 out of  17 | elapsed:   24.8s remaining:    0.0s\n",
      "[CV] learning_rate=0.3, max_depth=2, min_samples_leaf=51, n_estimators=74 \n",
      "[CV]  learning_rate=0.3, max_depth=2, min_samples_leaf=51, n_estimators=74, score=0.769, total=   0.9s\n",
      "[Parallel(n_jobs=1)]: Done  18 out of  18 | elapsed:   25.7s remaining:    0.0s\n",
      "[CV] learning_rate=0.7, max_depth=2, min_samples_leaf=88, n_estimators=191 \n",
      "[CV]  learning_rate=0.7, max_depth=2, min_samples_leaf=88, n_estimators=191, score=0.766, total=   2.3s\n",
      "[Parallel(n_jobs=1)]: Done  19 out of  19 | elapsed:   28.0s remaining:    0.0s\n",
      "[CV] learning_rate=0.7, max_depth=2, min_samples_leaf=88, n_estimators=191 \n",
      "[CV]  learning_rate=0.7, max_depth=2, min_samples_leaf=88, n_estimators=191, score=0.767, total=   2.3s\n",
      "[Parallel(n_jobs=1)]: Done  20 out of  20 | elapsed:   30.3s remaining:    0.0s\n",
      "[CV] learning_rate=0.7, max_depth=2, min_samples_leaf=88, n_estimators=191 \n",
      "[CV]  learning_rate=0.7, max_depth=2, min_samples_leaf=88, n_estimators=191, score=0.759, total=   2.2s\n",
      "[Parallel(n_jobs=1)]: Done  21 out of  21 | elapsed:   32.5s remaining:    0.0s\n",
      "[CV] learning_rate=0.7, max_depth=2, min_samples_leaf=75, n_estimators=134 \n",
      "[CV]  learning_rate=0.7, max_depth=2, min_samples_leaf=75, n_estimators=134, score=0.769, total=   1.6s\n",
      "[Parallel(n_jobs=1)]: Done  22 out of  22 | elapsed:   34.1s remaining:    0.0s\n",
      "[CV] learning_rate=0.7, max_depth=2, min_samples_leaf=75, n_estimators=134 \n",
      "[CV]  learning_rate=0.7, max_depth=2, min_samples_leaf=75, n_estimators=134, score=0.771, total=   1.6s\n",
      "[Parallel(n_jobs=1)]: Done  23 out of  23 | elapsed:   35.7s remaining:    0.0s\n",
      "[CV] learning_rate=0.7, max_depth=2, min_samples_leaf=75, n_estimators=134 \n",
      "[CV]  learning_rate=0.7, max_depth=2, min_samples_leaf=75, n_estimators=134, score=0.760, total=   1.6s\n",
      "[Parallel(n_jobs=1)]: Done  24 out of  24 | elapsed:   37.3s remaining:    0.0s\n",
      "[CV] learning_rate=0.3, max_depth=2, min_samples_leaf=83, n_estimators=111 \n",
      "[CV]  learning_rate=0.3, max_depth=2, min_samples_leaf=83, n_estimators=111, score=0.782, total=   1.5s\n",
      "[Parallel(n_jobs=1)]: Done  25 out of  25 | elapsed:   38.7s remaining:    0.0s\n",
      "[CV] learning_rate=0.3, max_depth=2, min_samples_leaf=83, n_estimators=111 \n",
      "[CV]  learning_rate=0.3, max_depth=2, min_samples_leaf=83, n_estimators=111, score=0.784, total=   1.5s\n",
      "[Parallel(n_jobs=1)]: Done  26 out of  26 | elapsed:   40.2s remaining:    0.0s\n",
      "[CV] learning_rate=0.3, max_depth=2, min_samples_leaf=83, n_estimators=111 \n",
      "[CV]  learning_rate=0.3, max_depth=2, min_samples_leaf=83, n_estimators=111, score=0.769, total=   1.4s\n",
      "[Parallel(n_jobs=1)]: Done  27 out of  27 | elapsed:   41.6s remaining:    0.0s\n",
      "[CV] learning_rate=0.2, max_depth=2, min_samples_leaf=86, n_estimators=84 \n",
      "[CV]  learning_rate=0.2, max_depth=2, min_samples_leaf=86, n_estimators=84, score=0.783, total=   1.0s\n",
      "[Parallel(n_jobs=1)]: Done  28 out of  28 | elapsed:   42.6s remaining:    0.0s\n",
      "[CV] learning_rate=0.2, max_depth=2, min_samples_leaf=86, n_estimators=84 \n",
      "[CV]  learning_rate=0.2, max_depth=2, min_samples_leaf=86, n_estimators=84, score=0.786, total=   1.1s\n",
      "[Parallel(n_jobs=1)]: Done  29 out of  29 | elapsed:   43.7s remaining:    0.0s\n",
      "[CV] learning_rate=0.2, max_depth=2, min_samples_leaf=86, n_estimators=84 \n",
      "[CV]  learning_rate=0.2, max_depth=2, min_samples_leaf=86, n_estimators=84, score=0.769, total=   1.0s\n",
      "[Parallel(n_jobs=1)]: Done  30 out of  30 | elapsed:   44.7s remaining:    0.0s\n",
      "[CV] learning_rate=0.8, max_depth=2, min_samples_leaf=93, n_estimators=180 \n",
      "[CV]  learning_rate=0.8, max_depth=2, min_samples_leaf=93, n_estimators=180, score=0.763, total=   2.2s\n",
      "[Parallel(n_jobs=1)]: Done  31 out of  31 | elapsed:   46.9s remaining:    0.0s\n",
      "[CV] learning_rate=0.8, max_depth=2, min_samples_leaf=93, n_estimators=180 \n"
     ]
    },
    {
     "name": "stdout",
     "output_type": "stream",
     "text": [
      "[CV]  learning_rate=0.8, max_depth=2, min_samples_leaf=93, n_estimators=180, score=0.765, total=   2.2s\n",
      "[Parallel(n_jobs=1)]: Done  32 out of  32 | elapsed:   49.1s remaining:    0.0s\n",
      "[CV] learning_rate=0.8, max_depth=2, min_samples_leaf=93, n_estimators=180 \n",
      "[CV]  learning_rate=0.8, max_depth=2, min_samples_leaf=93, n_estimators=180, score=0.755, total=   2.5s\n",
      "[Parallel(n_jobs=1)]: Done  33 out of  33 | elapsed:   51.6s remaining:    0.0s\n",
      "[CV] learning_rate=0.05, max_depth=2, min_samples_leaf=56, n_estimators=166 \n",
      "[CV]  learning_rate=0.05, max_depth=2, min_samples_leaf=56, n_estimators=166, score=0.781, total=   2.3s\n",
      "[Parallel(n_jobs=1)]: Done  34 out of  34 | elapsed:   54.0s remaining:    0.0s\n",
      "[CV] learning_rate=0.05, max_depth=2, min_samples_leaf=56, n_estimators=166 \n",
      "[CV]  learning_rate=0.05, max_depth=2, min_samples_leaf=56, n_estimators=166, score=0.785, total=   2.2s\n",
      "[Parallel(n_jobs=1)]: Done  35 out of  35 | elapsed:   56.2s remaining:    0.0s\n",
      "[CV] learning_rate=0.05, max_depth=2, min_samples_leaf=56, n_estimators=166 \n",
      "[CV]  learning_rate=0.05, max_depth=2, min_samples_leaf=56, n_estimators=166, score=0.767, total=   2.3s\n",
      "[Parallel(n_jobs=1)]: Done  36 out of  36 | elapsed:   58.4s remaining:    0.0s\n",
      "[CV] learning_rate=0.2, max_depth=2, min_samples_leaf=54, n_estimators=165 \n",
      "[CV]  learning_rate=0.2, max_depth=2, min_samples_leaf=54, n_estimators=165, score=0.784, total=   2.0s\n",
      "[Parallel(n_jobs=1)]: Done  37 out of  37 | elapsed:  1.0min remaining:    0.0s\n",
      "[CV] learning_rate=0.2, max_depth=2, min_samples_leaf=54, n_estimators=165 \n",
      "[CV]  learning_rate=0.2, max_depth=2, min_samples_leaf=54, n_estimators=165, score=0.783, total=   2.2s\n",
      "[Parallel(n_jobs=1)]: Done  38 out of  38 | elapsed:  1.0min remaining:    0.0s\n",
      "[CV] learning_rate=0.2, max_depth=2, min_samples_leaf=54, n_estimators=165 \n",
      "[CV]  learning_rate=0.2, max_depth=2, min_samples_leaf=54, n_estimators=165, score=0.770, total=   2.2s\n",
      "[Parallel(n_jobs=1)]: Done  39 out of  39 | elapsed:  1.1min remaining:    0.0s\n",
      "[CV] learning_rate=0.05, max_depth=2, min_samples_leaf=81, n_estimators=58 \n",
      "[CV]  learning_rate=0.05, max_depth=2, min_samples_leaf=81, n_estimators=58, score=0.772, total=   0.8s\n",
      "[Parallel(n_jobs=1)]: Done  40 out of  40 | elapsed:  1.1min remaining:    0.0s\n",
      "[CV] learning_rate=0.05, max_depth=2, min_samples_leaf=81, n_estimators=58 \n",
      "[CV]  learning_rate=0.05, max_depth=2, min_samples_leaf=81, n_estimators=58, score=0.780, total=   0.8s\n",
      "[Parallel(n_jobs=1)]: Done  41 out of  41 | elapsed:  1.1min remaining:    0.0s\n",
      "[CV] learning_rate=0.05, max_depth=2, min_samples_leaf=81, n_estimators=58 \n",
      "[CV]  learning_rate=0.05, max_depth=2, min_samples_leaf=81, n_estimators=58, score=0.759, total=   0.8s\n",
      "[Parallel(n_jobs=1)]: Done  42 out of  42 | elapsed:  1.1min remaining:    0.0s\n",
      "[CV] learning_rate=0.6, max_depth=2, min_samples_leaf=50, n_estimators=177 \n",
      "[CV]  learning_rate=0.6, max_depth=2, min_samples_leaf=50, n_estimators=177, score=0.775, total=   2.3s\n",
      "[Parallel(n_jobs=1)]: Done  43 out of  43 | elapsed:  1.2min remaining:    0.0s\n",
      "[CV] learning_rate=0.6, max_depth=2, min_samples_leaf=50, n_estimators=177 \n",
      "[CV]  learning_rate=0.6, max_depth=2, min_samples_leaf=50, n_estimators=177, score=0.772, total=   2.3s\n",
      "[Parallel(n_jobs=1)]: Done  44 out of  44 | elapsed:  1.2min remaining:    0.0s\n",
      "[CV] learning_rate=0.6, max_depth=2, min_samples_leaf=50, n_estimators=177 \n",
      "[CV]  learning_rate=0.6, max_depth=2, min_samples_leaf=50, n_estimators=177, score=0.761, total=   2.4s\n",
      "[Parallel(n_jobs=1)]: Done  45 out of  45 | elapsed:  1.2min remaining:    0.0s\n",
      "[CV] learning_rate=0.1, max_depth=2, min_samples_leaf=91, n_estimators=66 \n",
      "[CV]  learning_rate=0.1, max_depth=2, min_samples_leaf=91, n_estimators=66, score=0.780, total=   1.0s\n",
      "[Parallel(n_jobs=1)]: Done  46 out of  46 | elapsed:  1.3min remaining:    0.0s\n",
      "[CV] learning_rate=0.1, max_depth=2, min_samples_leaf=91, n_estimators=66 \n",
      "[CV]  learning_rate=0.1, max_depth=2, min_samples_leaf=91, n_estimators=66, score=0.784, total=   0.8s\n",
      "[Parallel(n_jobs=1)]: Done  47 out of  47 | elapsed:  1.3min remaining:    0.0s\n",
      "[CV] learning_rate=0.1, max_depth=2, min_samples_leaf=91, n_estimators=66 \n",
      "[CV]  learning_rate=0.1, max_depth=2, min_samples_leaf=91, n_estimators=66, score=0.765, total=   0.9s\n",
      "[Parallel(n_jobs=1)]: Done  48 out of  48 | elapsed:  1.3min remaining:    0.0s\n",
      "[CV] learning_rate=0.4, max_depth=2, min_samples_leaf=73, n_estimators=81 \n",
      "[CV]  learning_rate=0.4, max_depth=2, min_samples_leaf=73, n_estimators=81, score=0.783, total=   1.0s\n",
      "[Parallel(n_jobs=1)]: Done  49 out of  49 | elapsed:  1.3min remaining:    0.0s\n",
      "[CV] learning_rate=0.4, max_depth=2, min_samples_leaf=73, n_estimators=81 \n",
      "[CV]  learning_rate=0.4, max_depth=2, min_samples_leaf=73, n_estimators=81, score=0.785, total=   1.0s\n",
      "[Parallel(n_jobs=1)]: Done  50 out of  50 | elapsed:  1.3min remaining:    0.0s\n",
      "[CV] learning_rate=0.4, max_depth=2, min_samples_leaf=73, n_estimators=81 \n",
      "[CV]  learning_rate=0.4, max_depth=2, min_samples_leaf=73, n_estimators=81, score=0.768, total=   1.0s\n",
      "[Parallel(n_jobs=1)]: Done  51 out of  51 | elapsed:  1.3min remaining:    0.0s\n",
      "[CV] learning_rate=0.4, max_depth=2, min_samples_leaf=32, n_estimators=137 \n",
      "[CV]  learning_rate=0.4, max_depth=2, min_samples_leaf=32, n_estimators=137, score=0.779, total=   1.6s\n",
      "[Parallel(n_jobs=1)]: Done  52 out of  52 | elapsed:  1.4min remaining:    0.0s\n",
      "[CV] learning_rate=0.4, max_depth=2, min_samples_leaf=32, n_estimators=137 \n",
      "[CV]  learning_rate=0.4, max_depth=2, min_samples_leaf=32, n_estimators=137, score=0.778, total=   1.6s\n",
      "[Parallel(n_jobs=1)]: Done  53 out of  53 | elapsed:  1.4min remaining:    0.0s\n",
      "[CV] learning_rate=0.4, max_depth=2, min_samples_leaf=32, n_estimators=137 \n",
      "[CV]  learning_rate=0.4, max_depth=2, min_samples_leaf=32, n_estimators=137, score=0.767, total=   1.5s\n",
      "[Parallel(n_jobs=1)]: Done  54 out of  54 | elapsed:  1.4min remaining:    0.0s\n",
      "[CV] learning_rate=0.5, max_depth=2, min_samples_leaf=66, n_estimators=164 \n",
      "[CV]  learning_rate=0.5, max_depth=2, min_samples_leaf=66, n_estimators=164, score=0.774, total=   1.8s\n",
      "[Parallel(n_jobs=1)]: Done  55 out of  55 | elapsed:  1.4min remaining:    0.0s\n",
      "[CV] learning_rate=0.5, max_depth=2, min_samples_leaf=66, n_estimators=164 \n",
      "[CV]  learning_rate=0.5, max_depth=2, min_samples_leaf=66, n_estimators=164, score=0.776, total=   1.9s\n",
      "[Parallel(n_jobs=1)]: Done  56 out of  56 | elapsed:  1.5min remaining:    0.0s\n",
      "[CV] learning_rate=0.5, max_depth=2, min_samples_leaf=66, n_estimators=164 \n",
      "[CV]  learning_rate=0.5, max_depth=2, min_samples_leaf=66, n_estimators=164, score=0.762, total=   1.9s\n",
      "[Parallel(n_jobs=1)]: Done  57 out of  57 | elapsed:  1.5min remaining:    0.0s\n",
      "[CV] learning_rate=0.1, max_depth=2, min_samples_leaf=47, n_estimators=186 \n",
      "[CV]  learning_rate=0.1, max_depth=2, min_samples_leaf=47, n_estimators=186, score=0.785, total=   2.2s\n",
      "[Parallel(n_jobs=1)]: Done  58 out of  58 | elapsed:  1.5min remaining:    0.0s\n",
      "[CV] learning_rate=0.1, max_depth=2, min_samples_leaf=47, n_estimators=186 \n",
      "[CV]  learning_rate=0.1, max_depth=2, min_samples_leaf=47, n_estimators=186, score=0.784, total=   2.1s\n",
      "[Parallel(n_jobs=1)]: Done  59 out of  59 | elapsed:  1.6min remaining:    0.0s\n",
      "[CV] learning_rate=0.1, max_depth=2, min_samples_leaf=47, n_estimators=186 \n",
      "[CV]  learning_rate=0.1, max_depth=2, min_samples_leaf=47, n_estimators=186, score=0.770, total=   2.2s\n",
      "[Parallel(n_jobs=1)]: Done  60 out of  60 | elapsed:  1.6min remaining:    0.0s\n",
      "[CV] learning_rate=0.3, max_depth=2, min_samples_leaf=43, n_estimators=83 \n",
      "[CV]  learning_rate=0.3, max_depth=2, min_samples_leaf=43, n_estimators=83, score=0.782, total=   1.0s\n",
      "[Parallel(n_jobs=1)]: Done  61 out of  61 | elapsed:  1.6min remaining:    0.0s\n",
      "[CV] learning_rate=0.3, max_depth=2, min_samples_leaf=43, n_estimators=83 \n",
      "[CV]  learning_rate=0.3, max_depth=2, min_samples_leaf=43, n_estimators=83, score=0.784, total=   1.0s\n",
      "[Parallel(n_jobs=1)]: Done  62 out of  62 | elapsed:  1.6min remaining:    0.0s\n",
      "[CV] learning_rate=0.3, max_depth=2, min_samples_leaf=43, n_estimators=83 \n",
      "[CV]  learning_rate=0.3, max_depth=2, min_samples_leaf=43, n_estimators=83, score=0.769, total=   1.1s\n",
      "[Parallel(n_jobs=1)]: Done  63 out of  63 | elapsed:  1.7min remaining:    0.0s\n",
      "[Parallel(n_jobs=1)]: Done  63 out of  63 | elapsed:  1.7min finished\n"
     ]
    },
    {
     "name": "stdout",
     "output_type": "stream",
     "text": [
      "GradientBoostingClassifier(criterion='friedman_mse', init=None,\n",
      "                           learning_rate=0.1, loss='deviance', max_depth=2,\n",
      "                           max_features=None, max_leaf_nodes=None,\n",
      "                           min_impurity_decrease=0.0, min_impurity_split=None,\n",
      "                           min_samples_leaf=47, min_samples_split=2,\n",
      "                           min_weight_fraction_leaf=0.0, n_estimators=186,\n",
      "                           n_iter_no_change=None, presort='auto',\n",
      "                           random_state=42, subsample=1.0, tol=0.0001,\n",
      "                           validation_fraction=0.1, verbose=0,\n",
      "                           warm_start=False)\n",
      "0.7796849691311527\n"
     ]
    }
   ],
   "source": [
    "model = GradientBoostingClassifier(random_state=42)\n",
    "\n",
    "params = {'n_estimators':sp_randint(50, 200),\n",
    "          'min_samples_leaf':sp_randint(20, 100),\n",
    "          'max_depth':sp_randint(2, 3),\n",
    "          'learning_rate':[0.01, 0.05, 0.1, 0.2, 0.3, 0.4, 0.5, 0.6, 0.7, 0.8]}\n",
    "\n",
    "random_search = RandomizedSearchCV(model, \n",
    "                                   param_distributions=params, \n",
    "                                   cv=3, \n",
    "                                   n_iter=21,\n",
    "                                   scoring='roc_auc',\n",
    "                                   iid=False, \n",
    "                                   verbose=100)\n",
    "\n",
    "\n",
    "### Randomized Search CV with validation on the test set \n",
    "# scores = cross_val_score(random_search, X_train, y_train, \n",
    "#                         scoring='accuracy', cv=5)\n",
    "# print('CV accuracy: %.3f +/- %.3f' % (np.mean(scores),\n",
    "#                                      np.std(scores)))\n",
    "\n",
    "\n",
    "\n",
    "random_search.fit(X_train, y_train)\n",
    "\n",
    "print(random_search.best_estimator_)\n",
    "print(random_search.best_score_)\n"
   ]
  },
  {
   "cell_type": "code",
   "execution_count": 49,
   "metadata": {},
   "outputs": [
    {
     "name": "stdout",
     "output_type": "stream",
     "text": [
      "Confusion matrix, without normalization\n",
      "[[4449  238]\n",
      " [ 844  469]]\n"
     ]
    },
    {
     "data": {
      "image/png": "[encoded data removed]",
      "text/plain": [
       "<Figure size 432x288 with 2 Axes>"
      ]
     },
     "metadata": {
      "needs_background": "light"
     },
     "output_type": "display_data"
    },
    {
     "name": "stdout",
     "output_type": "stream",
     "text": [
      "Accuracy: 0.8196666666666667, F1: 0.4643564356435644, AUC: 0.7821 \n",
      "\n"
     ]
    },
    {
     "data": {
      "image/png": "[encoded data removed]",
      "text/plain": [
       "<Figure size 504x288 with 1 Axes>"
      ]
     },
     "metadata": {
      "needs_background": "light"
     },
     "output_type": "display_data"
    },
    {
     "data": {
      "image/png": "[encoded data removed]",
      "text/plain": [
       "<Figure size 576x432 with 1 Axes>"
      ]
     },
     "metadata": {
      "needs_background": "light"
     },
     "output_type": "display_data"
    }
   ],
   "source": [
    "## Final model selected:\n",
    "\n",
    "gbc_model = random_search.best_estimator_\n",
    "\n",
    "model.fit(X_train, y_train)\n",
    "\n",
    "y_pred = model.predict(X_test)\n",
    "y_pred_proba = model.predict_proba(X_test)[:,1]\n",
    "\n",
    "conf_matrix = confusion_matrix(y_test, y_pred)\n",
    "\n",
    "plot_confusion_matrix(conf_matrix, classes = [0,1])\n",
    "\n",
    "# y_test.hist()\n",
    "# pd.DataFrame(data=y_pred).hist()\n",
    "\n",
    "acc_score = accuracy_score(y_test, y_pred)\n",
    "f_one_score = f1_score(y_test, y_pred)\n",
    "\n",
    "fpr, tpr, thresholds = roc_curve(y_test, y_pred_proba, pos_label=1)\n",
    "\n",
    "auc_score = str(round(auc(fpr, tpr),5))\n",
    "\n",
    "print('Accuracy: {}, F1: {}, AUC: {} \\n'.format(acc_score, f_one_score, auc_score))\n",
    "\n",
    "show_feature_importances(X_train.columns, model)\n",
    "\n",
    "# plotLearningCurve(X_train, y_train, random_search.best_estimator_)\n",
    "\n",
    "plot_roc_curve(fpr, tpr)"
   ]
  },
  {
   "cell_type": "markdown",
   "metadata": {},
   "source": [
    "## Tree Ensembles - GBC results\n",
    "\n",
    "Now we have achieved an AUC score of 0.7812 which is better than with the Logistic Regression. The main feature is again PAY_0 while other PAY variables have some infulence as well. In this model the EDUCATION is not that important. \n"
   ]
  },
  {
   "cell_type": "markdown",
   "metadata": {},
   "source": [
    "Tree Ensembles - XGBoost \n",
    "-----\n",
    "\n",
    "I wanted to try out also the XGBoost as it is one of the more used algorithms in professional competitions. Many iterations have been done with XGB in order to find the below parameters by using the sklearn wrapper. Below is the final model which gave the best AUC.\n"
   ]
  },
  {
   "cell_type": "code",
   "execution_count": 52,
   "metadata": {},
   "outputs": [],
   "source": [
    "################\n",
    "## XGBoost #####\n",
    "################\n",
    "\n",
    "def XGB_plot_importance(model):\n",
    "\n",
    "    fig, (ax) = plt.subplots(ncols=1, figsize=(8,5))\n",
    "    xgb.plot_importance(model, height=0.8, title=\"Features importance (XGBoost)\", ax=ax, color=\"blue\") \n",
    "    plt.show()\n",
    "    \n",
    "    \n",
    "def runXGBoost(X_train, X_test, y_train, y_test, imbalanced_proportion): \n",
    "\n",
    "    d_train = xgb.DMatrix(X_train, y_train)\n",
    "    d_test = xgb.DMatrix(X_test, y_test)\n",
    "    \n",
    "    watchlist = [(d_train, 'train'), (d_test, 'test')]\n",
    "    \n",
    "    params = {'objective': 'binary:logistic'\n",
    "              , 'learning_rate': 0.2\n",
    "              , 'n_estimators': 106\n",
    "              , 'min_samples_leaf': 106\n",
    "              , 'random_state': 42\n",
    "              , 'scale_pos_weight': imbalanced_proportion\n",
    "              , 'eval_metric': 'auc'          \n",
    "            }\n",
    "    \n",
    "    max_rounds = 1000\n",
    "    early_stop_rounds = 30\n",
    "    \n",
    "    xgbc_model = xgb.train(params\n",
    "                      , d_train\n",
    "                      , max_rounds\n",
    "                      , watchlist\n",
    "                      , early_stopping_rounds=early_stop_rounds\n",
    "                      )\n",
    "    \n",
    "    XGB_plot_importance(xgbc_model)\n",
    "      \n",
    "    y_pred_proba = xgbc_model.predict(d_test, ntree_limit=xgbc_model.best_ntree_limit)\n",
    "    y_pred = [int(x >= 0.22) for x in y_pred_proba]\n",
    "        \n",
    "    conf_matrix = confusion_matrix(y_test, y_pred)\n",
    "\n",
    "    plot_confusion_matrix(conf_matrix, classes = [0,1])        \n",
    "    \n",
    "    acc_score = accuracy_score(y_test, y_pred)\n",
    "    f_one_score = f1_score(y_test, y_pred)\n",
    "        \n",
    "    fpr, tpr, thresholds = roc_curve(y_test, y_pred_proba, pos_label=1)\n",
    "    auc_score = str(round(auc(fpr, tpr),5))\n",
    "    print('Accuracy: {}, F1: {}, AUC: {} \\n'.format(acc_score, f_one_score, auc_score))\n",
    "    \n",
    "    plot_roc_curve(fpr, tpr)\n",
    "    \n",
    "    \n",
    "imbalanced_proportion = sum(y) / y[y==0].count()"
   ]
  },
  {
   "cell_type": "code",
   "execution_count": 53,
   "metadata": {},
   "outputs": [
    {
     "name": "stdout",
     "output_type": "stream",
     "text": [
      "[0]\ttrain-auc:0.762635\ttest-auc:0.752725\n",
      "Multiple eval metrics have been passed: 'test-auc' will be used for early stopping.\n",
      "\n",
      "Will train until test-auc hasn't improved in 30 rounds.\n",
      "[1]\ttrain-auc:0.768714\ttest-auc:0.757574\n",
      "[2]\ttrain-auc:0.774892\ttest-auc:0.762492\n",
      "[3]\ttrain-auc:0.779451\ttest-auc:0.767599\n",
      "[4]\ttrain-auc:0.780829\ttest-auc:0.766525\n",
      "[5]\ttrain-auc:0.784023\ttest-auc:0.767452\n",
      "[6]\ttrain-auc:0.787767\ttest-auc:0.770096\n",
      "[7]\ttrain-auc:0.792308\ttest-auc:0.775656\n",
      "[8]\ttrain-auc:0.794907\ttest-auc:0.776538\n",
      "[9]\ttrain-auc:0.797053\ttest-auc:0.777234\n",
      "[10]\ttrain-auc:0.800191\ttest-auc:0.778337\n",
      "[11]\ttrain-auc:0.803652\ttest-auc:0.778522\n",
      "[12]\ttrain-auc:0.806677\ttest-auc:0.778861\n",
      "[13]\ttrain-auc:0.808788\ttest-auc:0.778298\n",
      "[14]\ttrain-auc:0.811262\ttest-auc:0.778127\n",
      "[15]\ttrain-auc:0.813188\ttest-auc:0.778956\n",
      "[16]\ttrain-auc:0.813549\ttest-auc:0.778577\n",
      "[17]\ttrain-auc:0.815873\ttest-auc:0.779211\n",
      "[18]\ttrain-auc:0.818414\ttest-auc:0.780339\n",
      "[19]\ttrain-auc:0.819155\ttest-auc:0.779562\n",
      "[20]\ttrain-auc:0.820519\ttest-auc:0.780047\n",
      "[21]\ttrain-auc:0.822206\ttest-auc:0.780553\n",
      "[22]\ttrain-auc:0.82302\ttest-auc:0.780697\n",
      "[23]\ttrain-auc:0.824317\ttest-auc:0.780847\n",
      "[24]\ttrain-auc:0.826327\ttest-auc:0.781176\n",
      "[25]\ttrain-auc:0.8283\ttest-auc:0.781059\n",
      "[26]\ttrain-auc:0.829066\ttest-auc:0.781259\n",
      "[27]\ttrain-auc:0.831334\ttest-auc:0.781202\n",
      "[28]\ttrain-auc:0.832015\ttest-auc:0.781107\n",
      "[29]\ttrain-auc:0.832892\ttest-auc:0.780965\n",
      "[30]\ttrain-auc:0.833428\ttest-auc:0.780986\n",
      "[31]\ttrain-auc:0.834369\ttest-auc:0.781671\n",
      "[32]\ttrain-auc:0.835145\ttest-auc:0.781915\n",
      "[33]\ttrain-auc:0.837474\ttest-auc:0.782385\n",
      "[34]\ttrain-auc:0.838049\ttest-auc:0.782728\n",
      "[35]\ttrain-auc:0.839592\ttest-auc:0.78244\n",
      "[36]\ttrain-auc:0.840384\ttest-auc:0.782259\n",
      "[37]\ttrain-auc:0.840921\ttest-auc:0.78226\n",
      "[38]\ttrain-auc:0.841394\ttest-auc:0.782289\n",
      "[39]\ttrain-auc:0.842759\ttest-auc:0.782435\n",
      "[40]\ttrain-auc:0.843874\ttest-auc:0.782629\n",
      "[41]\ttrain-auc:0.844329\ttest-auc:0.782719\n",
      "[42]\ttrain-auc:0.844498\ttest-auc:0.782906\n",
      "[43]\ttrain-auc:0.845354\ttest-auc:0.782905\n",
      "[44]\ttrain-auc:0.846731\ttest-auc:0.782625\n",
      "[45]\ttrain-auc:0.847984\ttest-auc:0.782689\n",
      "[46]\ttrain-auc:0.848384\ttest-auc:0.782903\n",
      "[47]\ttrain-auc:0.84882\ttest-auc:0.783098\n",
      "[48]\ttrain-auc:0.84915\ttest-auc:0.78314\n",
      "[49]\ttrain-auc:0.850272\ttest-auc:0.7827\n",
      "[50]\ttrain-auc:0.850733\ttest-auc:0.782748\n",
      "[51]\ttrain-auc:0.851254\ttest-auc:0.782749\n",
      "[52]\ttrain-auc:0.851315\ttest-auc:0.782843\n",
      "[53]\ttrain-auc:0.851914\ttest-auc:0.783211\n",
      "[54]\ttrain-auc:0.852213\ttest-auc:0.783248\n",
      "[55]\ttrain-auc:0.853382\ttest-auc:0.782939\n",
      "[56]\ttrain-auc:0.854984\ttest-auc:0.783079\n",
      "[57]\ttrain-auc:0.856413\ttest-auc:0.782754\n",
      "[58]\ttrain-auc:0.858652\ttest-auc:0.782308\n",
      "[59]\ttrain-auc:0.858853\ttest-auc:0.782137\n",
      "[60]\ttrain-auc:0.858975\ttest-auc:0.7819\n",
      "[61]\ttrain-auc:0.859421\ttest-auc:0.781871\n",
      "[62]\ttrain-auc:0.859547\ttest-auc:0.781762\n",
      "[63]\ttrain-auc:0.860923\ttest-auc:0.781742\n",
      "[64]\ttrain-auc:0.861082\ttest-auc:0.781808\n",
      "[65]\ttrain-auc:0.862222\ttest-auc:0.781319\n",
      "[66]\ttrain-auc:0.862536\ttest-auc:0.781485\n",
      "[67]\ttrain-auc:0.864313\ttest-auc:0.780774\n",
      "[68]\ttrain-auc:0.864566\ttest-auc:0.780693\n",
      "[69]\ttrain-auc:0.866138\ttest-auc:0.780498\n",
      "[70]\ttrain-auc:0.867097\ttest-auc:0.780151\n",
      "[71]\ttrain-auc:0.868493\ttest-auc:0.779361\n",
      "[72]\ttrain-auc:0.869956\ttest-auc:0.779075\n",
      "[73]\ttrain-auc:0.870702\ttest-auc:0.779149\n",
      "[74]\ttrain-auc:0.871411\ttest-auc:0.779034\n",
      "[75]\ttrain-auc:0.87241\ttest-auc:0.778841\n",
      "[76]\ttrain-auc:0.873691\ttest-auc:0.77866\n",
      "[77]\ttrain-auc:0.873846\ttest-auc:0.778911\n",
      "[78]\ttrain-auc:0.875002\ttest-auc:0.778486\n",
      "[79]\ttrain-auc:0.875327\ttest-auc:0.778491\n",
      "[80]\ttrain-auc:0.875772\ttest-auc:0.778625\n",
      "[81]\ttrain-auc:0.875946\ttest-auc:0.778455\n",
      "[82]\ttrain-auc:0.876911\ttest-auc:0.778543\n",
      "[83]\ttrain-auc:0.877401\ttest-auc:0.778328\n",
      "[84]\ttrain-auc:0.877602\ttest-auc:0.778283\n",
      "Stopping. Best iteration:\n",
      "[54]\ttrain-auc:0.852213\ttest-auc:0.783248\n",
      "\n"
     ]
    },
    {
     "data": {
      "image/png": "[encoded data removed]",
      "text/plain": [
       "<Figure size 576x360 with 1 Axes>"
      ]
     },
     "metadata": {
      "needs_background": "light"
     },
     "output_type": "display_data"
    },
    {
     "name": "stdout",
     "output_type": "stream",
     "text": [
      "Confusion matrix, without normalization\n",
      "[[4415  272]\n",
      " [ 802  511]]\n"
     ]
    },
    {
     "data": {
      "image/png": "[encoded data removed]",
      "text/plain": [
       "<Figure size 432x288 with 2 Axes>"
      ]
     },
     "metadata": {
      "needs_background": "light"
     },
     "output_type": "display_data"
    },
    {
     "name": "stdout",
     "output_type": "stream",
     "text": [
      "Accuracy: 0.821, F1: 0.4875954198473281, AUC: 0.78325 \n",
      "\n"
     ]
    },
    {
     "data": {
      "image/png": "[encoded data removed]",
      "text/plain": [
       "<Figure size 576x432 with 1 Axes>"
      ]
     },
     "metadata": {
      "needs_background": "light"
     },
     "output_type": "display_data"
    }
   ],
   "source": [
    "runXGBoost(X_train, X_test, y_train, y_test, imbalanced_proportion)"
   ]
  },
  {
   "cell_type": "markdown",
   "metadata": {},
   "source": [
    "## Tree Ensembles - XGBoost results\n",
    "\n",
    "Although we have imporved the AUC score just slightly the distributions in the confusion matrix are not favorable, as we can only predict 177 clients that defaulted correctly. It is interesting to see that XGB has used some another variable called BILL_AMT1 as a most important while EDUCATION variables are once more not so relevant."
   ]
  },
  {
   "cell_type": "markdown",
   "metadata": {},
   "source": [
    "Support Vector Machine\n",
    "-----\n",
    "\n",
    "One last approach is using the SVM with the same data. It does function in a different way as all the previous algorithms so maybe there will be another insight about the model and predictions."
   ]
  },
  {
   "cell_type": "code",
   "execution_count": 26,
   "metadata": {},
   "outputs": [
    {
     "name": "stdout",
     "output_type": "stream",
     "text": [
      "Fitting 3 folds for each of 4 candidates, totalling 12 fits\n",
      "[Parallel(n_jobs=1)]: Using backend SequentialBackend with 1 concurrent workers.\n",
      "[CV] SVC__C=10, SVC__gamma=0.015 .....................................\n",
      "[CV] ......... SVC__C=10, SVC__gamma=0.015, score=0.772, total=  15.2s\n",
      "[Parallel(n_jobs=1)]: Done   1 out of   1 | elapsed:   15.2s remaining:    0.0s\n",
      "[CV] SVC__C=10, SVC__gamma=0.015 .....................................\n",
      "[CV] ......... SVC__C=10, SVC__gamma=0.015, score=0.781, total=  15.3s\n",
      "[Parallel(n_jobs=1)]: Done   2 out of   2 | elapsed:   30.5s remaining:    0.0s\n",
      "[CV] SVC__C=10, SVC__gamma=0.015 .....................................\n",
      "[CV] ......... SVC__C=10, SVC__gamma=0.015, score=0.764, total=  15.6s\n",
      "[Parallel(n_jobs=1)]: Done   3 out of   3 | elapsed:   46.1s remaining:    0.0s\n",
      "[CV] SVC__C=10, SVC__gamma=0.02 ......................................\n",
      "[CV] .......... SVC__C=10, SVC__gamma=0.02, score=0.772, total=  15.8s\n",
      "[Parallel(n_jobs=1)]: Done   4 out of   4 | elapsed:  1.0min remaining:    0.0s\n",
      "[CV] SVC__C=10, SVC__gamma=0.02 ......................................\n",
      "[CV] .......... SVC__C=10, SVC__gamma=0.02, score=0.778, total=  16.3s\n",
      "[Parallel(n_jobs=1)]: Done   5 out of   5 | elapsed:  1.3min remaining:    0.0s\n",
      "[CV] SVC__C=10, SVC__gamma=0.02 ......................................\n",
      "[CV] .......... SVC__C=10, SVC__gamma=0.02, score=0.762, total=  16.3s\n",
      "[Parallel(n_jobs=1)]: Done   6 out of   6 | elapsed:  1.6min remaining:    0.0s\n",
      "[CV] SVC__C=12, SVC__gamma=0.015 .....................................\n",
      "[CV] ......... SVC__C=12, SVC__gamma=0.015, score=0.771, total=  16.2s\n",
      "[Parallel(n_jobs=1)]: Done   7 out of   7 | elapsed:  1.8min remaining:    0.0s\n",
      "[CV] SVC__C=12, SVC__gamma=0.015 .....................................\n",
      "[CV] ......... SVC__C=12, SVC__gamma=0.015, score=0.779, total=  16.2s\n",
      "[Parallel(n_jobs=1)]: Done   8 out of   8 | elapsed:  2.1min remaining:    0.0s\n",
      "[CV] SVC__C=12, SVC__gamma=0.015 .....................................\n",
      "[CV] ......... SVC__C=12, SVC__gamma=0.015, score=0.764, total=  15.9s\n",
      "[Parallel(n_jobs=1)]: Done   9 out of   9 | elapsed:  2.4min remaining:    0.0s\n",
      "[CV] SVC__C=12, SVC__gamma=0.02 ......................................\n",
      "[CV] .......... SVC__C=12, SVC__gamma=0.02, score=0.773, total=  16.3s\n",
      "[Parallel(n_jobs=1)]: Done  10 out of  10 | elapsed:  2.7min remaining:    0.0s\n",
      "[CV] SVC__C=12, SVC__gamma=0.02 ......................................\n",
      "[CV] .......... SVC__C=12, SVC__gamma=0.02, score=0.776, total=  16.8s\n",
      "[Parallel(n_jobs=1)]: Done  11 out of  11 | elapsed:  2.9min remaining:    0.0s\n",
      "[CV] SVC__C=12, SVC__gamma=0.02 ......................................\n",
      "[CV] .......... SVC__C=12, SVC__gamma=0.02, score=0.761, total=  16.9s\n",
      "[Parallel(n_jobs=1)]: Done  12 out of  12 | elapsed:  3.2min remaining:    0.0s\n",
      "[Parallel(n_jobs=1)]: Done  12 out of  12 | elapsed:  3.2min finished\n",
      "{'SVC__C': 10, 'SVC__gamma': 0.015}\n"
     ]
    }
   ],
   "source": [
    "##########################\n",
    "# Support Vector Machine #\n",
    "##########################\n",
    "\n",
    "model = SVC(kernel='rbf', class_weight='balanced')\n",
    "\n",
    "steps = [('scaler', StandardScaler()), ('SVC', model)]\n",
    "pipeline = Pipeline(steps) \n",
    "\n",
    "# after a couple of rounds of Grid Search...\n",
    "\n",
    "params = {'SVC__C':[10, 12],\n",
    "          'SVC__gamma':[0.015, 0.02]}\n",
    "\n",
    "grid_search = GridSearchCV(pipeline, \n",
    "                           param_grid=params, \n",
    "                           cv=3, \n",
    "                           scoring='accuracy',\n",
    "                           verbose=100)\n",
    "\n",
    "grid_search.fit(X_train, y_train)\n",
    "\n",
    "print(grid_search.best_params_)\n"
   ]
  },
  {
   "cell_type": "code",
   "execution_count": 29,
   "metadata": {},
   "outputs": [
    {
     "data": {
      "text/plain": [
       "Pipeline(memory=None,\n",
       "         steps=[('scaler',\n",
       "                 StandardScaler(copy=True, with_mean=True, with_std=True)),\n",
       "                ('SVC',\n",
       "                 SVC(C=10, cache_size=200, class_weight='balanced', coef0=0.0,\n",
       "                     decision_function_shape='ovr', degree=3, gamma=0.015,\n",
       "                     kernel='rbf', max_iter=-1, probability=False,\n",
       "                     random_state=None, shrinking=True, tol=0.001,\n",
       "                     verbose=False))],\n",
       "         verbose=False)"
      ]
     },
     "execution_count": 29,
     "metadata": {},
     "output_type": "execute_result"
    }
   ],
   "source": [
    "# model with the predicted probabilities so we can build the AUC curve\n",
    "\n",
    "svc_model = grid_search.best_estimator_\n",
    "\n",
    "svc_model.fit(X_train, y_train)\n"
   ]
  },
  {
   "cell_type": "code",
   "execution_count": 44,
   "metadata": {},
   "outputs": [
    {
     "name": "stdout",
     "output_type": "stream",
     "text": [
      "Confusion matrix, without normalization\n",
      "[[3855  832]\n",
      " [ 548  765]]\n"
     ]
    },
    {
     "data": {
      "image/png": "[encoded data removed]",
      "text/plain": [
       "<Figure size 432x288 with 2 Axes>"
      ]
     },
     "metadata": {
      "needs_background": "light"
     },
     "output_type": "display_data"
    },
    {
     "name": "stdout",
     "output_type": "stream",
     "text": [
      "Accuracy: 0.77, F1: 0.5257731958762887\n"
     ]
    }
   ],
   "source": [
    "# Make predictions and deliver results\n",
    "\n",
    "# y_pred_proba = svc_model.predict_proba(X_test)\n",
    "y_pred = svc_model.predict(X_test)\n",
    "\n",
    "conf_matrix = confusion_matrix(y_test, y_pred)\n",
    "\n",
    "plot_confusion_matrix(conf_matrix, classes = [0,1])\n",
    "\n",
    "acc_score = accuracy_score(y_test, y_pred)\n",
    "f_one_score = f1_score(y_test, y_pred)\n",
    "\n",
    "# fpr, tpr, thresholds = roc_curve(y_test, y_pred_proba[:,1], pos_label=1)\n",
    "# auc_score = str(round(auc(fpr, tpr),5))\n",
    "\n",
    "print('Accuracy: {}, F1: {}'.format(acc_score, f_one_score))\n",
    "\n",
    "# plot_roc_curve(fpr, tpr)"
   ]
  },
  {
   "cell_type": "markdown",
   "metadata": {},
   "source": [
    "## Support Vector Machine - results\n",
    "\n",
    "Probabilities for the SVC are a bit more complex to calculate, hence only the accuracy and F1 score is used used here in combination with the confusion matrix. F1 score is in this case not better than the tree methods. "
   ]
  },
  {
   "cell_type": "markdown",
   "metadata": {},
   "source": [
    "# Modelling results\n",
    "\n",
    "With AUC of 0.7834 the XGB is the most robust model out of the 4 that we have tried. Hence, this model could be productionized. Just the AUC score does not tell us the complete story, because how to use the model is dependant on the kind of questions that would get priority. \n",
    "\n",
    "For instance it might be much more interesting to be able to predict the clients that will default in the next period then the ones that will not. Certain measures could then be employed to prevent the default of the client. E.g. a simple telephone call as a reminder could have a positive effect. Effect of each of these initiatives could be also measured through hypothesis testing to see if the effect is real or not. If yes, then the features about the phone calls could be also included to improve the performance of the model. \n",
    "\n",
    "## Important data details\n",
    "\n",
    "The information about the data is not detailed enough for someone who is not the domain expert to completely understand what the data represents. Because of that some of the details might be misunderstood and the feature engineering would be less effective.\n",
    "\n",
    "There are only 30K entries present, but it is very possible that much more cases are available. Also there might be more details about the clients that would be helpfull in predicting default. I would like to have access to more data and also a chance to talk with domain expert on a more detail level in order to create more useful model.\n",
    "\n",
    "## Anserwing the initial questions\n",
    "\n",
    "### Q1. Can we predict which clients will default in the next period?\n",
    "\n",
    "Well, yes, at least some of them. We would have to decide on the treshold based on the AUC curve in order to select the clients that are very likely to default. With them we will inevidably select a certain amount of clients that will not default (false positives) as the model is not perfect. In the context of the initiative that we might be attempting (a phone call) that might be perfectly fine, but should be treated as a wastefull cost and carefully tracked so that it does not get out of hand.\n",
    "\n",
    "\n",
    "### Q2. If so, how accurate can we get?\n",
    "\n",
    "By looking at the AUC of the best model (XGB) we could choose a treshold of TPR = 0.5 and FPR 0.05. Hence, we can correctly predict about 50% of the clients that would default and to do that we will also select about 5% of the clients that we missclassified that they will default when in fact they will not. In practical terms i would call this a useful case and take a look at the costs of implementing an initiative.\n",
    "\n",
    "\n",
    "### Q3. Can we also predict what is the clients probability of defaulting in the next period?\n",
    "\n",
    "Yes, XGB is implemented in such a way that it has avaialble also to probability of each client that it will default. This is very usefull as it can give the relative probabilities and not only 0 and 1 so we can understand better out of the clients that we predicted that will default, which ones we are very likely to default.\n",
    "\n",
    "\n",
    "### Q4. Are there any ideas on how to improve the accuracy?\n",
    "\n",
    "Although we used different metrics to compare the model performance, the model performance could be improved by investing more time into feature engineering, talking to domain knowledge owners and retrieving new features, and trying out some of the other approaches. \n",
    "\n"
   ]
  },
  {
   "cell_type": "code",
   "execution_count": null,
   "metadata": {},
   "outputs": [],
   "source": []
  }
 ],
 "metadata": {
  "kernelspec": {
   "display_name": "Python 3",
   "language": "python",
   "name": "python3"
  },
  "language_info": {
   "codemirror_mode": {
    "name": "ipython",
    "version": 3
   },
   "file_extension": ".py",
   "mimetype": "text/x-python",
   "name": "python",
   "nbconvert_exporter": "python",
   "pygments_lexer": "ipython3",
   "version": "3.7.3"
  }
 },
 "nbformat": 4,
 "nbformat_minor": 2
}
