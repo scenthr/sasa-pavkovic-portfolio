{
 "cells": [
  {
   "cell_type": "markdown",
   "metadata": {},
   "source": [
    "## Encoding the categorical features\n",
    "\n",
    "#### Encoding the categorical features to use categorical data in predictive analytics\n",
    "\n",
    "#### Tags:\n",
    "    Data: labeled data, Kaggle competition\n",
    "    Technologies: python, pandas\n",
    "    Techniques: data import\n",
    "    \n",
    "#### Resources:\n",
    "[Kaggle competition data](https://www.kaggle.com/nicapotato/womens-ecommerce-clothing-reviews)"
   ]
  },
  {
   "cell_type": "code",
   "execution_count": 1,
   "metadata": {},
   "outputs": [],
   "source": [
    "import pandas as pd\n"
   ]
  },
  {
   "cell_type": "code",
   "execution_count": 6,
   "metadata": {},
   "outputs": [
    {
     "name": "stdout",
     "output_type": "stream",
     "text": [
      "<class 'pandas.core.frame.DataFrame'>\n",
      "RangeIndex: 23486 entries, 0 to 23485\n",
      "Data columns (total 11 columns):\n",
      "Unnamed: 0                 23486 non-null int64\n",
      "Clothing ID                23486 non-null int64\n",
      "Age                        23486 non-null int64\n",
      "Title                      19676 non-null object\n",
      "Review Text                22641 non-null object\n",
      "Rating                     23486 non-null int64\n",
      "Recommended IND            23486 non-null int64\n",
      "Positive Feedback Count    23486 non-null int64\n",
      "Division Name              23472 non-null object\n",
      "Department Name            23472 non-null object\n",
      "Class Name                 23472 non-null object\n",
      "dtypes: int64(6), object(5)\n",
      "memory usage: 2.0+ MB\n"
     ]
    }
   ],
   "source": [
    "# import the relevant dataset\n",
    "df = pd.read_csv('../data/Womens Clothing E-Commerce Reviews.csv')\n",
    "df.info()\n"
   ]
  },
  {
   "cell_type": "code",
   "execution_count": 13,
   "metadata": {},
   "outputs": [
    {
     "data": {
      "text/plain": [
       "array(['Intimates', 'Dresses', 'Pants', 'Blouses', 'Knits', 'Outerwear',\n",
       "       'Lounge', 'Sweaters', 'Skirts', 'Fine gauge', 'Sleep', 'Jackets',\n",
       "       'Swim', 'Trend', 'Jeans', 'Legwear', 'Shorts', 'Layering',\n",
       "       'Casual bottoms', nan, 'Chemises'], dtype=object)"
      ]
     },
     "execution_count": 13,
     "metadata": {},
     "output_type": "execute_result"
    }
   ],
   "source": [
    "# There are in total 5 columns that hold textual data, \n",
    "# out of which 2 are categorical data, columns 'Division Name'\n",
    "# 'Class Name'\n",
    "\n",
    "# Lets take a look at all the values of the 'Class Name' column\n",
    "class_cat = df['Class Name'].unique()\n",
    "class_cat"
   ]
  },
  {
   "cell_type": "code",
   "execution_count": 14,
   "metadata": {},
   "outputs": [
    {
     "data": {
      "text/plain": [
       "21"
      ]
     },
     "execution_count": 14,
     "metadata": {},
     "output_type": "execute_result"
    }
   ],
   "source": [
    "len(df['Class Name'].unique())"
   ]
  },
  {
   "cell_type": "markdown",
   "metadata": {},
   "source": [
    "##### Consider 3 approaches:\n",
    "    * Label Encoding - is straight forward, each of the categories are encoded\n",
    "    by a separate integer number, usuall starting with 0. Advantage is that the envoding is simple\n",
    "    to understand.\n",
    "    * One-hot encoding - each category is encoded as a binary variable in a separate column. Has \n",
    "    advantage over label encoding in that it does not create artificial meaning (like mean of \n",
    "    the label encoded variable), so is the approach for machine learning algorithms. Disadvantage is \n",
    "    that it increases the dimensionality of the dataset.\n",
    "    * Special - there might be some ordinal variables with ranges involved, then other approaches are better\n",
    "    , like using mean or median for the range. Also, if dimensionality is a problem then farther aggregation\n",
    "    might make sense. Anyway, it depends from case to case."
   ]
  },
  {
   "cell_type": "code",
   "execution_count": 18,
   "metadata": {},
   "outputs": [
    {
     "name": "stdout",
     "output_type": "stream",
     "text": [
      "<class 'pandas.core.frame.DataFrame'>\n",
      "RangeIndex: 23486 entries, 0 to 23485\n",
      "Data columns (total 30 columns):\n",
      "Unnamed: 0                   23486 non-null int64\n",
      "Clothing ID                  23486 non-null int64\n",
      "Age                          23486 non-null int64\n",
      "Title                        19676 non-null object\n",
      "Review Text                  22641 non-null object\n",
      "Rating                       23486 non-null int64\n",
      "Recommended IND              23486 non-null int64\n",
      "Positive Feedback Count      23486 non-null int64\n",
      "Division Name                23472 non-null object\n",
      "Department Name              23472 non-null object\n",
      "Class Name_Blouses           23486 non-null uint8\n",
      "Class Name_Casual bottoms    23486 non-null uint8\n",
      "Class Name_Chemises          23486 non-null uint8\n",
      "Class Name_Dresses           23486 non-null uint8\n",
      "Class Name_Fine gauge        23486 non-null uint8\n",
      "Class Name_Intimates         23486 non-null uint8\n",
      "Class Name_Jackets           23486 non-null uint8\n",
      "Class Name_Jeans             23486 non-null uint8\n",
      "Class Name_Knits             23486 non-null uint8\n",
      "Class Name_Layering          23486 non-null uint8\n",
      "Class Name_Legwear           23486 non-null uint8\n",
      "Class Name_Lounge            23486 non-null uint8\n",
      "Class Name_Outerwear         23486 non-null uint8\n",
      "Class Name_Pants             23486 non-null uint8\n",
      "Class Name_Shorts            23486 non-null uint8\n",
      "Class Name_Skirts            23486 non-null uint8\n",
      "Class Name_Sleep             23486 non-null uint8\n",
      "Class Name_Sweaters          23486 non-null uint8\n",
      "Class Name_Swim              23486 non-null uint8\n",
      "Class Name_Trend             23486 non-null uint8\n",
      "dtypes: int64(6), object(4), uint8(20)\n",
      "memory usage: 2.2+ MB\n"
     ]
    }
   ],
   "source": [
    "# One-hot encoding the variable, and creating 21 new columns\n",
    "\n",
    "df_one_hot = pd.get_dummies(df,columns=['Class Name'])\n",
    "\n",
    "df_one_hot.info()"
   ]
  },
  {
   "cell_type": "code",
   "execution_count": 24,
   "metadata": {},
   "outputs": [
    {
     "name": "stdout",
     "output_type": "stream",
     "text": [
      "<class 'pandas.core.frame.DataFrame'>\n",
      "RangeIndex: 23486 entries, 0 to 23485\n",
      "Data columns (total 12 columns):\n",
      "Unnamed: 0                 23486 non-null int64\n",
      "Clothing ID                23486 non-null int64\n",
      "Age                        23486 non-null int64\n",
      "Title                      19676 non-null object\n",
      "Review Text                22641 non-null object\n",
      "Rating                     23486 non-null int64\n",
      "Recommended IND            23486 non-null int64\n",
      "Positive Feedback Count    23486 non-null int64\n",
      "Division Name              23472 non-null object\n",
      "Department Name            23472 non-null object\n",
      "Class Name                 23472 non-null object\n",
      "Class Name Category        23472 non-null category\n",
      "dtypes: category(1), int64(6), object(5)\n",
      "memory usage: 2.0+ MB\n"
     ]
    }
   ],
   "source": [
    "# Label encoding the variables\n",
    "\n",
    "# Create a category data type and use it to encode the var\n",
    "\n",
    "df['Class Name Category'] = df['Class Name'].astype('category')\n",
    "df.info()"
   ]
  },
  {
   "cell_type": "code",
   "execution_count": 25,
   "metadata": {},
   "outputs": [
    {
     "name": "stdout",
     "output_type": "stream",
     "text": [
      "<class 'pandas.core.frame.DataFrame'>\n",
      "RangeIndex: 23486 entries, 0 to 23485\n",
      "Data columns (total 12 columns):\n",
      "Unnamed: 0                 23486 non-null int64\n",
      "Clothing ID                23486 non-null int64\n",
      "Age                        23486 non-null int64\n",
      "Title                      19676 non-null object\n",
      "Review Text                22641 non-null object\n",
      "Rating                     23486 non-null int64\n",
      "Recommended IND            23486 non-null int64\n",
      "Positive Feedback Count    23486 non-null int64\n",
      "Division Name              23472 non-null object\n",
      "Department Name            23472 non-null object\n",
      "Class Name                 23472 non-null object\n",
      "Class Name Category        23486 non-null int8\n",
      "dtypes: int64(6), int8(1), object(5)\n",
      "memory usage: 2.0+ MB\n"
     ]
    }
   ],
   "source": [
    "df['Class Name Category'] = df['Class Name Category'].cat.codes\n",
    "df.info()"
   ]
  },
  {
   "cell_type": "code",
   "execution_count": 29,
   "metadata": {},
   "outputs": [
    {
     "data": {
      "text/html": [
       "<div>\n",
       "<style scoped>\n",
       "    .dataframe tbody tr th:only-of-type {\n",
       "        vertical-align: middle;\n",
       "    }\n",
       "\n",
       "    .dataframe tbody tr th {\n",
       "        vertical-align: top;\n",
       "    }\n",
       "\n",
       "    .dataframe thead th {\n",
       "        text-align: right;\n",
       "    }\n",
       "</style>\n",
       "<table border=\"1\" class=\"dataframe\">\n",
       "  <thead>\n",
       "    <tr style=\"text-align: right;\">\n",
       "      <th></th>\n",
       "      <th>Class Name</th>\n",
       "      <th>Class Name Category</th>\n",
       "    </tr>\n",
       "  </thead>\n",
       "  <tbody>\n",
       "    <tr>\n",
       "      <th>0</th>\n",
       "      <td>Intimates</td>\n",
       "      <td>5</td>\n",
       "    </tr>\n",
       "    <tr>\n",
       "      <th>1</th>\n",
       "      <td>Dresses</td>\n",
       "      <td>3</td>\n",
       "    </tr>\n",
       "    <tr>\n",
       "      <th>2</th>\n",
       "      <td>Dresses</td>\n",
       "      <td>3</td>\n",
       "    </tr>\n",
       "    <tr>\n",
       "      <th>3</th>\n",
       "      <td>Pants</td>\n",
       "      <td>13</td>\n",
       "    </tr>\n",
       "    <tr>\n",
       "      <th>4</th>\n",
       "      <td>Blouses</td>\n",
       "      <td>0</td>\n",
       "    </tr>\n",
       "  </tbody>\n",
       "</table>\n",
       "</div>"
      ],
      "text/plain": [
       "  Class Name  Class Name Category\n",
       "0  Intimates                    5\n",
       "1    Dresses                    3\n",
       "2    Dresses                    3\n",
       "3      Pants                   13\n",
       "4    Blouses                    0"
      ]
     },
     "execution_count": 29,
     "metadata": {},
     "output_type": "execute_result"
    }
   ],
   "source": [
    "df[['Class Name','Class Name Category']].head()"
   ]
  }
 ],
 "metadata": {
  "kernelspec": {
   "display_name": "Python 3",
   "language": "python",
   "name": "python3"
  },
  "language_info": {
   "codemirror_mode": {
    "name": "ipython",
    "version": 3
   },
   "file_extension": ".py",
   "mimetype": "text/x-python",
   "name": "python",
   "nbconvert_exporter": "python",
   "pygments_lexer": "ipython3",
   "version": "3.7.3"
  }
 },
 "nbformat": 4,
 "nbformat_minor": 2
}
