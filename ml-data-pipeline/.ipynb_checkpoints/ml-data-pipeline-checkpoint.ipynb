{
 "cells": [
  {
   "cell_type": "markdown",
   "metadata": {},
   "source": [
    "## Using data pipelines for data transformation\n",
    "\n",
    "#### Using data pipelines makes the code atomized and more structures while at the same time offers paralelizatin of the process.\n",
    "\n",
    "#### Tags:\n",
    "    Data: labeled data, Kaggle competition data\n",
    "    Technologies: python, pandas, sklearn\n",
    "    Techniques: m\n",
    "    \n",
    "#### Resources:\n",
    "    "
   ]
  },
  {
   "cell_type": "code",
   "execution_count": 25,
   "metadata": {},
   "outputs": [],
   "source": [
    "import pandas as pd"
   ]
  },
  {
   "cell_type": "code",
   "execution_count": 26,
   "metadata": {},
   "outputs": [
    {
     "name": "stdout",
     "output_type": "stream",
     "text": [
      "<class 'pandas.core.frame.DataFrame'>\n",
      "RangeIndex: 19319 entries, 0 to 19318\n",
      "Data columns (total 8 columns):\n",
      "index             19319 non-null int64\n",
      "ride_departure    19319 non-null object\n",
      "capacity          19319 non-null float64\n",
      "tickets_7_usd     19319 non-null float64\n",
      "tickets_10_usd    19319 non-null float64\n",
      "tickets_16_usd    19309 non-null float64\n",
      "tickets_20_usd    19309 non-null float64\n",
      "direction         19319 non-null object\n",
      "dtypes: float64(5), int64(1), object(2)\n",
      "memory usage: 1.2+ MB\n"
     ]
    }
   ],
   "source": [
    "# Read the data into pandas df\n",
    "\n",
    "df = pd.read_csv('data.csv', delimiter=',')\n",
    "df.info()"
   ]
  },
  {
   "cell_type": "code",
   "execution_count": 27,
   "metadata": {},
   "outputs": [],
   "source": [
    "# DATA DESCRIPTION:\n",
    "\n",
    "# The manually created data is used here. It shows the bus rides between 2 US cities \n",
    "# named A and B. The column descriptions are \n",
    "\n",
    "# Description of the columns:\n",
    "\n",
    "#    index: unique identifier for the bus ride\n",
    "#    ride_departure: departure date and time of the ride\n",
    "#    capacity: number of total seats available in the bus\n",
    "#    tickets_{X}_usd: number of tickets sold for X USD\n",
    "#    direction: direction of the bus ride, either A->B or B->A\n"
   ]
  },
  {
   "cell_type": "code",
   "execution_count": 28,
   "metadata": {},
   "outputs": [
    {
     "name": "stdout",
     "output_type": "stream",
     "text": [
      "<class 'pandas.core.frame.DataFrame'>\n",
      "Int64Index: 19319 entries, 0 to 19218\n",
      "Data columns (total 7 columns):\n",
      "ride_departure    19319 non-null object\n",
      "capacity          19319 non-null float64\n",
      "tickets_7_usd     19319 non-null float64\n",
      "tickets_10_usd    19319 non-null float64\n",
      "tickets_16_usd    19309 non-null float64\n",
      "tickets_20_usd    19309 non-null float64\n",
      "direction         19319 non-null object\n",
      "dtypes: float64(5), object(2)\n",
      "memory usage: 1.2+ MB\n"
     ]
    }
   ],
   "source": [
    "# as we have it we can use set the index column as index\n",
    "df.index = df['index']\n",
    "df.drop(['index'], axis=1, inplace=True)\n",
    "df.info()\n"
   ]
  },
  {
   "cell_type": "code",
   "execution_count": 29,
   "metadata": {},
   "outputs": [
    {
     "data": {
      "text/plain": [
       "10030    2\n",
       "10019    2\n",
       "10075    2\n",
       "10088    2\n",
       "10015    2\n",
       "10021    2\n",
       "10026    2\n",
       "10077    2\n",
       "10087    2\n",
       "10043    2\n",
       "10059    2\n",
       "10018    2\n",
       "10009    2\n",
       "10084    2\n",
       "10033    2\n",
       "10064    2\n",
       "10049    2\n",
       "10025    2\n",
       "10035    2\n",
       "10046    2\n",
       "10093    2\n",
       "10091    2\n",
       "10031    2\n",
       "10028    2\n",
       "10051    2\n",
       "10042    2\n",
       "10034    2\n",
       "10041    2\n",
       "10068    2\n",
       "10038    2\n",
       "        ..\n",
       "13612    1\n",
       "15661    1\n",
       "9518     1\n",
       "11567    1\n",
       "17714    1\n",
       "5432     1\n",
       "7481     1\n",
       "1338     1\n",
       "3387     1\n",
       "13628    1\n",
       "15677    1\n",
       "17698    1\n",
       "11551    1\n",
       "9502     1\n",
       "9486     1\n",
       "5384     1\n",
       "7433     1\n",
       "1290     1\n",
       "3339     1\n",
       "13580    1\n",
       "15629    1\n",
       "11535    1\n",
       "15645    1\n",
       "17682    1\n",
       "5400     1\n",
       "7449     1\n",
       "1306     1\n",
       "3355     1\n",
       "13596    1\n",
       "0        1\n",
       "Name: index, Length: 19219, dtype: int64"
      ]
     },
     "execution_count": 29,
     "metadata": {},
     "output_type": "execute_result"
    }
   ],
   "source": [
    "# we check if there are duplicate indexes\n",
    "df.index.value_counts()\n"
   ]
  },
  {
   "cell_type": "code",
   "execution_count": 30,
   "metadata": {},
   "outputs": [
    {
     "data": {
      "text/html": [
       "<div>\n",
       "<style scoped>\n",
       "    .dataframe tbody tr th:only-of-type {\n",
       "        vertical-align: middle;\n",
       "    }\n",
       "\n",
       "    .dataframe tbody tr th {\n",
       "        vertical-align: top;\n",
       "    }\n",
       "\n",
       "    .dataframe thead th {\n",
       "        text-align: right;\n",
       "    }\n",
       "</style>\n",
       "<table border=\"1\" class=\"dataframe\">\n",
       "  <thead>\n",
       "    <tr style=\"text-align: right;\">\n",
       "      <th>index</th>\n",
       "      <th>10075</th>\n",
       "      <th>10075</th>\n",
       "    </tr>\n",
       "  </thead>\n",
       "  <tbody>\n",
       "    <tr>\n",
       "      <th>ride_departure</th>\n",
       "      <td>2016-05-09 14:45:00</td>\n",
       "      <td>2016-05-09 14:45:00</td>\n",
       "    </tr>\n",
       "    <tr>\n",
       "      <th>capacity</th>\n",
       "      <td>82</td>\n",
       "      <td>82</td>\n",
       "    </tr>\n",
       "    <tr>\n",
       "      <th>tickets_7_usd</th>\n",
       "      <td>3</td>\n",
       "      <td>3</td>\n",
       "    </tr>\n",
       "    <tr>\n",
       "      <th>tickets_10_usd</th>\n",
       "      <td>41</td>\n",
       "      <td>41</td>\n",
       "    </tr>\n",
       "    <tr>\n",
       "      <th>tickets_16_usd</th>\n",
       "      <td>4</td>\n",
       "      <td>4</td>\n",
       "    </tr>\n",
       "    <tr>\n",
       "      <th>tickets_20_usd</th>\n",
       "      <td>0</td>\n",
       "      <td>0</td>\n",
       "    </tr>\n",
       "    <tr>\n",
       "      <th>direction</th>\n",
       "      <td>A-&gt;B</td>\n",
       "      <td>A-&gt;B</td>\n",
       "    </tr>\n",
       "  </tbody>\n",
       "</table>\n",
       "</div>"
      ],
      "text/plain": [
       "index                         10075                10075\n",
       "ride_departure  2016-05-09 14:45:00  2016-05-09 14:45:00\n",
       "capacity                         82                   82\n",
       "tickets_7_usd                     3                    3\n",
       "tickets_10_usd                   41                   41\n",
       "tickets_16_usd                    4                    4\n",
       "tickets_20_usd                    0                    0\n",
       "direction                      A->B                 A->B"
      ]
     },
     "execution_count": 30,
     "metadata": {},
     "output_type": "execute_result"
    }
   ],
   "source": [
    "# so we can inspect a couple from the top\n",
    "\n",
    "df[df.index==10030].T\n",
    "df[df.index==10075].T\n"
   ]
  },
  {
   "cell_type": "code",
   "execution_count": 31,
   "metadata": {},
   "outputs": [],
   "source": [
    "# hence, they seem to be real duplicates, and there is 100 of these cases"
   ]
  },
  {
   "cell_type": "code",
   "execution_count": 32,
   "metadata": {},
   "outputs": [],
   "source": [
    "# remove the duplicate index keys\n",
    "df = df[~df.index.duplicated(keep='first')]\n"
   ]
  },
  {
   "cell_type": "code",
   "execution_count": 33,
   "metadata": {},
   "outputs": [
    {
     "name": "stdout",
     "output_type": "stream",
     "text": [
      "<class 'pandas.core.frame.DataFrame'>\n",
      "Int64Index: 19219 entries, 0 to 19218\n",
      "Data columns (total 7 columns):\n",
      "ride_departure    19219 non-null object\n",
      "capacity          19219 non-null float64\n",
      "tickets_7_usd     19219 non-null float64\n",
      "tickets_10_usd    19219 non-null float64\n",
      "tickets_16_usd    19209 non-null float64\n",
      "tickets_20_usd    19209 non-null float64\n",
      "direction         19219 non-null object\n",
      "dtypes: float64(5), object(2)\n",
      "memory usage: 1.2+ MB\n"
     ]
    }
   ],
   "source": [
    "df.info()"
   ]
  },
  {
   "cell_type": "code",
   "execution_count": 34,
   "metadata": {},
   "outputs": [],
   "source": [
    "# We can also create a function that retrieves a set of stats for a df as \n",
    "\n",
    "def df_stats(df):\n",
    "    print(\"-----------Information-----------\")\n",
    "    print(df.info())\n",
    "    print(\"----------Missing value-----------\")\n",
    "    print(df.isnull().sum())\n",
    "    print(\"----------Null value-----------\")\n",
    "    print(df.isna().sum())\n",
    "    print(\"----------Shape of Data----------\")\n",
    "    print(df.shape)\n",
    "    print(\"----------Potential Duplicates----------\")\n",
    "    print(df.duplicated().sum())"
   ]
  },
  {
   "cell_type": "code",
   "execution_count": 35,
   "metadata": {},
   "outputs": [
    {
     "name": "stdout",
     "output_type": "stream",
     "text": [
      "-----------Information-----------\n",
      "<class 'pandas.core.frame.DataFrame'>\n",
      "Int64Index: 19219 entries, 0 to 19218\n",
      "Data columns (total 7 columns):\n",
      "ride_departure    19219 non-null object\n",
      "capacity          19219 non-null float64\n",
      "tickets_7_usd     19219 non-null float64\n",
      "tickets_10_usd    19219 non-null float64\n",
      "tickets_16_usd    19209 non-null float64\n",
      "tickets_20_usd    19209 non-null float64\n",
      "direction         19219 non-null object\n",
      "dtypes: float64(5), object(2)\n",
      "memory usage: 1.2+ MB\n",
      "None\n",
      "----------Missing value-----------\n",
      "ride_departure     0\n",
      "capacity           0\n",
      "tickets_7_usd      0\n",
      "tickets_10_usd     0\n",
      "tickets_16_usd    10\n",
      "tickets_20_usd    10\n",
      "direction          0\n",
      "dtype: int64\n",
      "----------Null value-----------\n",
      "ride_departure     0\n",
      "capacity           0\n",
      "tickets_7_usd      0\n",
      "tickets_10_usd     0\n",
      "tickets_16_usd    10\n",
      "tickets_20_usd    10\n",
      "direction          0\n",
      "dtype: int64\n",
      "----------Shape of Data----------\n",
      "(19219, 7)\n",
      "----------Potential Duplicates----------\n",
      "0\n"
     ]
    }
   ],
   "source": [
    "# We use the above function to retrieve stats\n",
    "df_stats(df)"
   ]
  },
  {
   "cell_type": "code",
   "execution_count": 36,
   "metadata": {},
   "outputs": [
    {
     "name": "stdout",
     "output_type": "stream",
     "text": [
      "-----------Information-----------\n",
      "<class 'pandas.core.frame.DataFrame'>\n",
      "Int64Index: 19199 entries, 0 to 19218\n",
      "Data columns (total 7 columns):\n",
      "ride_departure    19199 non-null object\n",
      "capacity          19199 non-null float64\n",
      "tickets_7_usd     19199 non-null float64\n",
      "tickets_10_usd    19199 non-null float64\n",
      "tickets_16_usd    19199 non-null float64\n",
      "tickets_20_usd    19199 non-null float64\n",
      "direction         19199 non-null object\n",
      "dtypes: float64(5), object(2)\n",
      "memory usage: 1.2+ MB\n",
      "None\n",
      "----------Missing value-----------\n",
      "ride_departure    0\n",
      "capacity          0\n",
      "tickets_7_usd     0\n",
      "tickets_10_usd    0\n",
      "tickets_16_usd    0\n",
      "tickets_20_usd    0\n",
      "direction         0\n",
      "dtype: int64\n",
      "----------Null value-----------\n",
      "ride_departure    0\n",
      "capacity          0\n",
      "tickets_7_usd     0\n",
      "tickets_10_usd    0\n",
      "tickets_16_usd    0\n",
      "tickets_20_usd    0\n",
      "direction         0\n",
      "dtype: int64\n",
      "----------Shape of Data----------\n",
      "(19199, 7)\n",
      "----------Potential Duplicates----------\n",
      "0\n"
     ]
    }
   ],
   "source": [
    "# So we can see that there are some null values in columns 16_usd and 20_usd\n",
    "# hence we will exclude these rows from the observations as this is the fastest\n",
    "\n",
    "df = df[~(df['tickets_16_usd'].isna() | df['tickets_20_usd'].isna())]\n",
    "\n",
    "df_stats(df) \n"
   ]
  },
  {
   "cell_type": "code",
   "execution_count": 37,
   "metadata": {},
   "outputs": [
    {
     "data": {
      "text/plain": [
       "<matplotlib.axes._subplots.AxesSubplot at 0x7f0498b92898>"
      ]
     },
     "execution_count": 37,
     "metadata": {},
     "output_type": "execute_result"
    },
    {
     "data": {
      "image/png": "[encoded data removed]",
      "text/plain": [
       "<Figure size 432x288 with 1 Axes>"
      ]
     },
     "metadata": {
      "needs_background": "light"
     },
     "output_type": "display_data"
    }
   ],
   "source": [
    "# Now the dataset is more clean\n",
    "# next we can use some descriptive statistics to understand if there are \n",
    "# some extreme observations that could give us problems\n",
    "\n",
    "df.boxplot(column=['tickets_7_usd','tickets_10_usd','tickets_16_usd','tickets_20_usd'])\n",
    "\n"
   ]
  },
  {
   "cell_type": "code",
   "execution_count": 38,
   "metadata": {},
   "outputs": [],
   "source": [
    "# In most cases the number of tickets sold per ride is always under 200 except \n",
    "# in case of 1000 10 usd tickets sold on one ocasion. considering the \n",
    "# fact that there is no known bus that can take 1000 people at once there must\n",
    "# be a mistake here\n",
    "\n",
    "# define outliers and remove them from the dataset\n",
    "\n",
    "outliers = df['tickets_10_usd']>200\n",
    "df = df[~(outliers)]"
   ]
  },
  {
   "cell_type": "code",
   "execution_count": 39,
   "metadata": {},
   "outputs": [
    {
     "data": {
      "text/plain": [
       "<matplotlib.axes._subplots.AxesSubplot at 0x7f0498b16828>"
      ]
     },
     "execution_count": 39,
     "metadata": {},
     "output_type": "execute_result"
    },
    {
     "data": {
      "image/png": "[encoded data removed]",
      "text/plain": [
       "<Figure size 432x288 with 1 Axes>"
      ]
     },
     "metadata": {
      "needs_background": "light"
     },
     "output_type": "display_data"
    }
   ],
   "source": [
    "# Now the observations are in the range that seems more plausible\n",
    "\n",
    "df.boxplot(column=['tickets_7_usd','tickets_10_usd','tickets_16_usd','tickets_20_usd'])\n"
   ]
  },
  {
   "cell_type": "markdown",
   "metadata": {},
   "source": [
    "### How to deal with inconsistent data?\n",
    "\n",
    "We can deal with inconsistent data in different ways:\n",
    "    \n",
    "    1. Try to retrieve the correct data from the source\n",
    "    2. Remove the data from analysis - there will always be some assumptions involved, hence care is always needed\n",
    "    3. Impute the data based on statistics - imputation of missing or assumed incorrect values can be performed based on the central values of the sample. \n",
    "    \n",
    "There will be in the future a project that goes thorugh different possibilities in detail.    "
   ]
  }
 ],
 "metadata": {
  "kernelspec": {
   "display_name": "Python 3",
   "language": "python",
   "name": "python3"
  },
  "language_info": {
   "codemirror_mode": {
    "name": "ipython",
    "version": 3
   },
   "file_extension": ".py",
   "mimetype": "text/x-python",
   "name": "python",
   "nbconvert_exporter": "python",
   "pygments_lexer": "ipython3",
   "version": "3.7.3"
  }
 },
 "nbformat": 4,
 "nbformat_minor": 2
}
