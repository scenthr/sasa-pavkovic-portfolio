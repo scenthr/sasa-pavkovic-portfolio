{
 "cells": [
  {
   "cell_type": "markdown",
   "metadata": {},
   "source": [
    "## Sharing the details of solution with colleagues\n",
    "\n",
    "#### How to be an effecive collaborator and get feedback about your solutions\n",
    "\n",
    "#### Tags:\n",
    "    Data: labeled data\n",
    "    Technologies: n/a\n",
    "    Techniques: effective collaborator, presenting the information\n",
    "    \n",
    "#### Resources:\n",
    "    "
   ]
  },
  {
   "cell_type": "markdown",
   "metadata": {},
   "source": [
    "Trying to solve a problem by one self is a highly sought for characteristic in todays world. One mind, however great, is limited compared to the knowledge and experience of a group.\n",
    "\n",
    "\n",
    "## Sharing your solution\n",
    "\n",
    "Sharing your solution with others is important as it helps to exit your head and come down from the fluffy dreams to reality. If your solution performs well, it will be accepted, if not, back to the drawing board you go. Even there you do not have to be alone as you have your colleagues that can share their solution with you.\n",
    "\n",
    "Making it easy to share you solution with others is a skill as any other. There are ways to make your solution work on other people machines in a straightforward manner and these depened on the organization you are working within. Here are some general concepts to think about.\n",
    "\n",
    "### Jupyter notebooks\n",
    "\n",
    "Jupyter notebooks are a great way to share a complete solution between colleagues. It consists of textual explanations as well as code so the solution can be reproduced with relative ease.\n",
    "\n",
    "### Think about your working environment\n",
    "\n",
    "When using python think about your python working environment. Include any requirements that are the prerequisites (e.g. including requirements.txt in your solution) for your code to work on another computer. Use prepared closed environement as a starting point (e.g. think preinstalled Docker images). \n",
    "\n",
    "### Use file versioning system\n",
    "\n",
    "Implementing a version control system like Git is a common practice. It helps to keep track of all the changes to the important files. It is especially usefull in storing changes to text files as then the changes can be read by anyone who has access.\n",
    "\n",
    "### Store your historical models\n",
    "\n",
    "It is a good idea to store your model versions before and after productionizing the solution. This can be done by careful file handling on Git, or with some more elaborate approach like DVC ([Data Version Control](https://dagshub.com/DAGsHub-Official/DAGsHub-Tutorial-MNIST)).\n",
    "\n",
    "### Standardize your code\n",
    "\n",
    "Adhere to any coding standards that already exist in the organization and use standard practices (e.g. PEP 8 for python) on other occasions. Standardization makes other understand your code quicker, \n"
   ]
  },
  {
   "cell_type": "code",
   "execution_count": null,
   "metadata": {},
   "outputs": [],
   "source": []
  }
 ],
 "metadata": {
  "kernelspec": {
   "display_name": "Python 3",
   "language": "python",
   "name": "python3"
  },
  "language_info": {
   "codemirror_mode": {
    "name": "ipython",
    "version": 3
   },
   "file_extension": ".py",
   "mimetype": "text/x-python",
   "name": "python",
   "nbconvert_exporter": "python",
   "pygments_lexer": "ipython3",
   "version": "3.7.3"
  }
 },
 "nbformat": 4,
 "nbformat_minor": 2
}
