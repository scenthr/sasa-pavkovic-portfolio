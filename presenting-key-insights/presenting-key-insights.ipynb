{
 "cells": [
  {
   "cell_type": "markdown",
   "metadata": {},
   "source": [
    "## Presenting key insights to executive management \n",
    "\n",
    "#### Preparing the executive management report\n",
    "\n",
    "#### Tags:\n",
    "    Data: labeled data\n",
    "    Technologies: n/a\n",
    "    Techniques: aggragating key insights, presenting the information\n",
    "    \n",
    "#### Resources:\n",
    "    "
   ]
  },
  {
   "cell_type": "markdown",
   "metadata": {},
   "source": [
    "Presenting your findings to executive management is the last, but key step in creating the data science solution. It is the step where all your assumptions and solution real-world value gets under question. In my experience i have yet to come to a meeting where management was not interested or involved in understanding the solution you are delivering. Everyone is invested and that is how it should be. One should expect to be asked domain related and high level questions, usually involving decisions about business impact. \n",
    "\n",
    "### Understand the audience\n",
    "\n",
    "Understand youe audience! It is key to tailor your presentation to them. \n",
    "\n",
    "### ELI5\n",
    "\n",
    "\"Explain it Like Im 5\" - think about how to present some of the more complex ideas in simple terms. Evade the terms used specifically in Data Science, as then you will also have to explain them. I find using metaphores to be effective, especially if you can use the same example throughout the presentation. \n",
    "\n",
    "### Be concise\n",
    "\n",
    "For presentation of the solution (depending on the impact) you may have 1 or couple of hours. Creating a concise presentation with focus on the question of interest to your audience. \n",
    "\n",
    "### Connect your solution value directly to business value early\n",
    "\n",
    "Do this as early as possible in your presentation and in metrics (KPIs) that the audience is familiar with. This way you do not need to explain how you calculate your metrics and you save space and precious time.\n",
    "\n",
    "### Present in big chunks\n",
    "\n",
    "In your presentation think about big chunks and don't dwell on the details of the solution. A lot of precious time will be lost in details that do not help the audience make a decision.\n",
    "\n",
    "### Be ready to speak details\n",
    "\n",
    "Just because your presentation should be in big chunks does not mean you should come unprepared and not have all the details about the solution you prepared. Think about writing a bit more extensive explanation about the solution in a separate document that you can readily share.\n",
    "\n",
    "### Practice\n",
    "\n",
    "Practice makes perfect! Take some time to train your skills in thinking how to prepare the key insights for executive management. Make several versions and ask coleagues, friends and familiy which one they like best. It also helps you understand how to be an effective in pushing insights to different type of people.\n",
    "\n",
    "### Use common sense\n",
    "\n",
    "With all the guidlines above and in life in general do use common sense. \n"
   ]
  },
  {
   "cell_type": "code",
   "execution_count": null,
   "metadata": {},
   "outputs": [],
   "source": []
  }
 ],
 "metadata": {
  "kernelspec": {
   "display_name": "Python 3",
   "language": "python",
   "name": "python3"
  },
  "language_info": {
   "codemirror_mode": {
    "name": "ipython",
    "version": 3
   },
   "file_extension": ".py",
   "mimetype": "text/x-python",
   "name": "python",
   "nbconvert_exporter": "python",
   "pygments_lexer": "ipython3",
   "version": "3.7.3"
  }
 },
 "nbformat": 4,
 "nbformat_minor": 2
}
