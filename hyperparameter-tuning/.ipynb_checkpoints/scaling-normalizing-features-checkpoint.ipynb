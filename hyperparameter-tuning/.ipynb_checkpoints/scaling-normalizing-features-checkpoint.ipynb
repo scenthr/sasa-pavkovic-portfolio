{
 "cells": [
  {
   "cell_type": "markdown",
   "metadata": {},
   "source": [
    "## Scaling and normalizing features\n",
    "\n",
    "#### Saling and normalizing features helps some of the machine learning algorithms that are based on calculating distances to perform better\n",
    "\n",
    "#### Tags:\n",
    "    Data: labeled data, Kaggle competition\n",
    "    Technologies: python, pandas, scikit-learn\n",
    "    Techniques: data transformation\n",
    "    \n",
    "#### Resources:\n",
    "[Kaggle competition data](https://www.kaggle.com/mohansacharya/graduate-admissions)\n",
    "\n"
   ]
  },
  {
   "cell_type": "code",
   "execution_count": 20,
   "metadata": {},
   "outputs": [],
   "source": [
    "import pandas as pd\n",
    "from sklearn import preprocessing\n",
    "%matplotlib inline"
   ]
  },
  {
   "cell_type": "code",
   "execution_count": 21,
   "metadata": {},
   "outputs": [
    {
     "name": "stdout",
     "output_type": "stream",
     "text": [
      "<class 'pandas.core.frame.DataFrame'>\n",
      "RangeIndex: 500 entries, 0 to 499\n",
      "Data columns (total 9 columns):\n",
      "Serial No.           500 non-null int64\n",
      "GRE Score            500 non-null int64\n",
      "TOEFL Score          500 non-null int64\n",
      "University Rating    500 non-null int64\n",
      "SOP                  500 non-null float64\n",
      "LOR                  500 non-null float64\n",
      "CGPA                 500 non-null float64\n",
      "Research             500 non-null int64\n",
      "Chance of Admit      500 non-null float64\n",
      "dtypes: float64(4), int64(5)\n",
      "memory usage: 35.2 KB\n"
     ]
    }
   ],
   "source": [
    "# import the relevant dataset\n",
    "df = pd.read_csv('../data/Admission_Predict_Ver1.1.csv')\n",
    "df.info()\n"
   ]
  },
  {
   "cell_type": "markdown",
   "metadata": {},
   "source": [
    "##### There are 500 observations and all of the columns are numeric, \n",
    "hence we can take a look at descriptive statistics to understand \n",
    "the ranges of each of the variables"
   ]
  },
  {
   "cell_type": "code",
   "execution_count": 22,
   "metadata": {},
   "outputs": [
    {
     "data": {
      "text/html": [
       "<div>\n",
       "<style scoped>\n",
       "    .dataframe tbody tr th:only-of-type {\n",
       "        vertical-align: middle;\n",
       "    }\n",
       "\n",
       "    .dataframe tbody tr th {\n",
       "        vertical-align: top;\n",
       "    }\n",
       "\n",
       "    .dataframe thead th {\n",
       "        text-align: right;\n",
       "    }\n",
       "</style>\n",
       "<table border=\"1\" class=\"dataframe\">\n",
       "  <thead>\n",
       "    <tr style=\"text-align: right;\">\n",
       "      <th></th>\n",
       "      <th>Serial No.</th>\n",
       "      <th>GRE Score</th>\n",
       "      <th>TOEFL Score</th>\n",
       "      <th>University Rating</th>\n",
       "      <th>SOP</th>\n",
       "      <th>LOR</th>\n",
       "      <th>CGPA</th>\n",
       "      <th>Research</th>\n",
       "      <th>Chance of Admit</th>\n",
       "    </tr>\n",
       "  </thead>\n",
       "  <tbody>\n",
       "    <tr>\n",
       "      <th>count</th>\n",
       "      <td>500.000000</td>\n",
       "      <td>500.000000</td>\n",
       "      <td>500.000000</td>\n",
       "      <td>500.000000</td>\n",
       "      <td>500.000000</td>\n",
       "      <td>500.00000</td>\n",
       "      <td>500.000000</td>\n",
       "      <td>500.000000</td>\n",
       "      <td>500.00000</td>\n",
       "    </tr>\n",
       "    <tr>\n",
       "      <th>mean</th>\n",
       "      <td>250.500000</td>\n",
       "      <td>316.472000</td>\n",
       "      <td>107.192000</td>\n",
       "      <td>3.114000</td>\n",
       "      <td>3.374000</td>\n",
       "      <td>3.48400</td>\n",
       "      <td>8.576440</td>\n",
       "      <td>0.560000</td>\n",
       "      <td>0.72174</td>\n",
       "    </tr>\n",
       "    <tr>\n",
       "      <th>std</th>\n",
       "      <td>144.481833</td>\n",
       "      <td>11.295148</td>\n",
       "      <td>6.081868</td>\n",
       "      <td>1.143512</td>\n",
       "      <td>0.991004</td>\n",
       "      <td>0.92545</td>\n",
       "      <td>0.604813</td>\n",
       "      <td>0.496884</td>\n",
       "      <td>0.14114</td>\n",
       "    </tr>\n",
       "    <tr>\n",
       "      <th>min</th>\n",
       "      <td>1.000000</td>\n",
       "      <td>290.000000</td>\n",
       "      <td>92.000000</td>\n",
       "      <td>1.000000</td>\n",
       "      <td>1.000000</td>\n",
       "      <td>1.00000</td>\n",
       "      <td>6.800000</td>\n",
       "      <td>0.000000</td>\n",
       "      <td>0.34000</td>\n",
       "    </tr>\n",
       "    <tr>\n",
       "      <th>25%</th>\n",
       "      <td>125.750000</td>\n",
       "      <td>308.000000</td>\n",
       "      <td>103.000000</td>\n",
       "      <td>2.000000</td>\n",
       "      <td>2.500000</td>\n",
       "      <td>3.00000</td>\n",
       "      <td>8.127500</td>\n",
       "      <td>0.000000</td>\n",
       "      <td>0.63000</td>\n",
       "    </tr>\n",
       "    <tr>\n",
       "      <th>50%</th>\n",
       "      <td>250.500000</td>\n",
       "      <td>317.000000</td>\n",
       "      <td>107.000000</td>\n",
       "      <td>3.000000</td>\n",
       "      <td>3.500000</td>\n",
       "      <td>3.50000</td>\n",
       "      <td>8.560000</td>\n",
       "      <td>1.000000</td>\n",
       "      <td>0.72000</td>\n",
       "    </tr>\n",
       "    <tr>\n",
       "      <th>75%</th>\n",
       "      <td>375.250000</td>\n",
       "      <td>325.000000</td>\n",
       "      <td>112.000000</td>\n",
       "      <td>4.000000</td>\n",
       "      <td>4.000000</td>\n",
       "      <td>4.00000</td>\n",
       "      <td>9.040000</td>\n",
       "      <td>1.000000</td>\n",
       "      <td>0.82000</td>\n",
       "    </tr>\n",
       "    <tr>\n",
       "      <th>max</th>\n",
       "      <td>500.000000</td>\n",
       "      <td>340.000000</td>\n",
       "      <td>120.000000</td>\n",
       "      <td>5.000000</td>\n",
       "      <td>5.000000</td>\n",
       "      <td>5.00000</td>\n",
       "      <td>9.920000</td>\n",
       "      <td>1.000000</td>\n",
       "      <td>0.97000</td>\n",
       "    </tr>\n",
       "  </tbody>\n",
       "</table>\n",
       "</div>"
      ],
      "text/plain": [
       "       Serial No.   GRE Score  TOEFL Score  University Rating         SOP  \\\n",
       "count  500.000000  500.000000   500.000000         500.000000  500.000000   \n",
       "mean   250.500000  316.472000   107.192000           3.114000    3.374000   \n",
       "std    144.481833   11.295148     6.081868           1.143512    0.991004   \n",
       "min      1.000000  290.000000    92.000000           1.000000    1.000000   \n",
       "25%    125.750000  308.000000   103.000000           2.000000    2.500000   \n",
       "50%    250.500000  317.000000   107.000000           3.000000    3.500000   \n",
       "75%    375.250000  325.000000   112.000000           4.000000    4.000000   \n",
       "max    500.000000  340.000000   120.000000           5.000000    5.000000   \n",
       "\n",
       "            LOR         CGPA    Research  Chance of Admit   \n",
       "count  500.00000  500.000000  500.000000         500.00000  \n",
       "mean     3.48400    8.576440    0.560000           0.72174  \n",
       "std      0.92545    0.604813    0.496884           0.14114  \n",
       "min      1.00000    6.800000    0.000000           0.34000  \n",
       "25%      3.00000    8.127500    0.000000           0.63000  \n",
       "50%      3.50000    8.560000    1.000000           0.72000  \n",
       "75%      4.00000    9.040000    1.000000           0.82000  \n",
       "max      5.00000    9.920000    1.000000           0.97000  "
      ]
     },
     "execution_count": 22,
     "metadata": {},
     "output_type": "execute_result"
    }
   ],
   "source": [
    "df.describe()"
   ]
  },
  {
   "cell_type": "code",
   "execution_count": 29,
   "metadata": {},
   "outputs": [
    {
     "data": {
      "text/plain": [
       "<matplotlib.axes._subplots.AxesSubplot at 0x7f841bf76080>"
      ]
     },
     "execution_count": 29,
     "metadata": {},
     "output_type": "execute_result"
    },
    {
     "data": {
      "image/png": "[encoded data removed]",
      "text/plain": [
       "<Figure size 432x288 with 1 Axes>"
      ]
     },
     "metadata": {
      "needs_background": "light"
     },
     "output_type": "display_data"
    }
   ],
   "source": [
    "df[df.columns[1:]].boxplot()"
   ]
  },
  {
   "cell_type": "markdown",
   "metadata": {},
   "source": [
    "For instance mean of the column SOP is 2 orders of magnitude smaller than the GRE Score, hence if we would choose an algorithm using some iterative approach to find the solution then the algorithm will converge faster if the features are scaled. \n",
    "\n",
    "### Standardizing the data\n",
    "Standardizing the data removes the mean value from each data point and divides by its standard deviation, hence the mean of the sample becomes 0, and the variance and standard deviation become 1. This is done for all features, hence all of them are centralized and have a similar range of values. \n",
    "\n",
    "Equation:\n",
    "\n",
    "$\\frac{x_i-mean(x)}{stddev(x)}$"
   ]
  },
  {
   "cell_type": "code",
   "execution_count": 15,
   "metadata": {},
   "outputs": [
    {
     "name": "stdout",
     "output_type": "stream",
     "text": [
      "<class 'pandas.core.frame.DataFrame'>\n",
      "RangeIndex: 500 entries, 0 to 499\n",
      "Data columns (total 9 columns):\n",
      "Serial No.           500 non-null float64\n",
      "GRE Score            500 non-null float64\n",
      "TOEFL Score          500 non-null float64\n",
      "University Rating    500 non-null float64\n",
      "SOP                  500 non-null float64\n",
      "LOR                  500 non-null float64\n",
      "CGPA                 500 non-null float64\n",
      "Research             500 non-null float64\n",
      "Chance of Admit      500 non-null float64\n",
      "dtypes: float64(9)\n",
      "memory usage: 35.2 KB\n"
     ]
    },
    {
     "name": "stderr",
     "output_type": "stream",
     "text": [
      "/home/spavko/anaconda3/lib/python3.7/site-packages/sklearn/preprocessing/data.py:645: DataConversionWarning: Data with input dtype int64, float64 were all converted to float64 by StandardScaler.\n",
      "  return self.partial_fit(X, y)\n",
      "/home/spavko/anaconda3/lib/python3.7/site-packages/sklearn/base.py:464: DataConversionWarning: Data with input dtype int64, float64 were all converted to float64 by StandardScaler.\n",
      "  return self.fit(X, **fit_params).transform(X)\n"
     ]
    }
   ],
   "source": [
    "# we can use sikict-learn libarary to scale the data\n",
    "\n",
    "scaler = preprocessing.StandardScaler()\n",
    "df_scaled = scaler.fit_transform(df)\n",
    "\n",
    "# fit_transform returns an array, hence i convert it back to df\n",
    "df_scaled = pd.DataFrame(df_scaled,columns=df.columns)\n",
    "df_scaled.info()"
   ]
  },
  {
   "cell_type": "code",
   "execution_count": 16,
   "metadata": {},
   "outputs": [
    {
     "data": {
      "text/html": [
       "<div>\n",
       "<style scoped>\n",
       "    .dataframe tbody tr th:only-of-type {\n",
       "        vertical-align: middle;\n",
       "    }\n",
       "\n",
       "    .dataframe tbody tr th {\n",
       "        vertical-align: top;\n",
       "    }\n",
       "\n",
       "    .dataframe thead th {\n",
       "        text-align: right;\n",
       "    }\n",
       "</style>\n",
       "<table border=\"1\" class=\"dataframe\">\n",
       "  <thead>\n",
       "    <tr style=\"text-align: right;\">\n",
       "      <th></th>\n",
       "      <th>Serial No.</th>\n",
       "      <th>GRE Score</th>\n",
       "      <th>TOEFL Score</th>\n",
       "      <th>University Rating</th>\n",
       "      <th>SOP</th>\n",
       "      <th>LOR</th>\n",
       "      <th>CGPA</th>\n",
       "      <th>Research</th>\n",
       "      <th>Chance of Admit</th>\n",
       "    </tr>\n",
       "  </thead>\n",
       "  <tbody>\n",
       "    <tr>\n",
       "      <th>count</th>\n",
       "      <td>5.000000e+02</td>\n",
       "      <td>5.000000e+02</td>\n",
       "      <td>5.000000e+02</td>\n",
       "      <td>5.000000e+02</td>\n",
       "      <td>5.000000e+02</td>\n",
       "      <td>5.000000e+02</td>\n",
       "      <td>5.000000e+02</td>\n",
       "      <td>5.000000e+02</td>\n",
       "      <td>5.000000e+02</td>\n",
       "    </tr>\n",
       "    <tr>\n",
       "      <th>mean</th>\n",
       "      <td>-9.059420e-17</td>\n",
       "      <td>1.783684e-15</td>\n",
       "      <td>1.202149e-15</td>\n",
       "      <td>-6.439294e-17</td>\n",
       "      <td>2.926548e-16</td>\n",
       "      <td>-1.332268e-17</td>\n",
       "      <td>3.091971e-15</td>\n",
       "      <td>-2.202682e-16</td>\n",
       "      <td>-3.257394e-16</td>\n",
       "    </tr>\n",
       "    <tr>\n",
       "      <th>std</th>\n",
       "      <td>1.001002e+00</td>\n",
       "      <td>1.001002e+00</td>\n",
       "      <td>1.001002e+00</td>\n",
       "      <td>1.001002e+00</td>\n",
       "      <td>1.001002e+00</td>\n",
       "      <td>1.001002e+00</td>\n",
       "      <td>1.001002e+00</td>\n",
       "      <td>1.001002e+00</td>\n",
       "      <td>1.001002e+00</td>\n",
       "    </tr>\n",
       "    <tr>\n",
       "      <th>min</th>\n",
       "      <td>-1.728590e+00</td>\n",
       "      <td>-2.346008e+00</td>\n",
       "      <td>-2.500419e+00</td>\n",
       "      <td>-1.850542e+00</td>\n",
       "      <td>-2.397950e+00</td>\n",
       "      <td>-2.686789e+00</td>\n",
       "      <td>-2.940115e+00</td>\n",
       "      <td>-1.128152e+00</td>\n",
       "      <td>-2.707391e+00</td>\n",
       "    </tr>\n",
       "    <tr>\n",
       "      <th>25%</th>\n",
       "      <td>-8.642951e-01</td>\n",
       "      <td>-7.508077e-01</td>\n",
       "      <td>-6.899523e-01</td>\n",
       "      <td>-9.751676e-01</td>\n",
       "      <td>-8.828175e-01</td>\n",
       "      <td>-5.235128e-01</td>\n",
       "      <td>-7.430227e-01</td>\n",
       "      <td>-1.128152e+00</td>\n",
       "      <td>-6.506420e-01</td>\n",
       "    </tr>\n",
       "    <tr>\n",
       "      <th>50%</th>\n",
       "      <td>0.000000e+00</td>\n",
       "      <td>4.679255e-02</td>\n",
       "      <td>-3.160087e-02</td>\n",
       "      <td>-9.979274e-02</td>\n",
       "      <td>1.272712e-01</td>\n",
       "      <td>1.730621e-02</td>\n",
       "      <td>-2.720919e-02</td>\n",
       "      <td>8.864053e-01</td>\n",
       "      <td>-1.234050e-02</td>\n",
       "    </tr>\n",
       "    <tr>\n",
       "      <th>75%</th>\n",
       "      <td>8.642951e-01</td>\n",
       "      <td>7.557706e-01</td>\n",
       "      <td>7.913384e-01</td>\n",
       "      <td>7.755821e-01</td>\n",
       "      <td>6.323155e-01</td>\n",
       "      <td>5.581253e-01</td>\n",
       "      <td>7.672196e-01</td>\n",
       "      <td>8.864053e-01</td>\n",
       "      <td>6.968834e-01</td>\n",
       "    </tr>\n",
       "    <tr>\n",
       "      <th>max</th>\n",
       "      <td>1.728590e+00</td>\n",
       "      <td>2.085104e+00</td>\n",
       "      <td>2.108041e+00</td>\n",
       "      <td>1.650957e+00</td>\n",
       "      <td>1.642404e+00</td>\n",
       "      <td>1.639763e+00</td>\n",
       "      <td>2.223672e+00</td>\n",
       "      <td>8.864053e-01</td>\n",
       "      <td>1.760719e+00</td>\n",
       "    </tr>\n",
       "  </tbody>\n",
       "</table>\n",
       "</div>"
      ],
      "text/plain": [
       "         Serial No.     GRE Score   TOEFL Score  University Rating  \\\n",
       "count  5.000000e+02  5.000000e+02  5.000000e+02       5.000000e+02   \n",
       "mean  -9.059420e-17  1.783684e-15  1.202149e-15      -6.439294e-17   \n",
       "std    1.001002e+00  1.001002e+00  1.001002e+00       1.001002e+00   \n",
       "min   -1.728590e+00 -2.346008e+00 -2.500419e+00      -1.850542e+00   \n",
       "25%   -8.642951e-01 -7.508077e-01 -6.899523e-01      -9.751676e-01   \n",
       "50%    0.000000e+00  4.679255e-02 -3.160087e-02      -9.979274e-02   \n",
       "75%    8.642951e-01  7.557706e-01  7.913384e-01       7.755821e-01   \n",
       "max    1.728590e+00  2.085104e+00  2.108041e+00       1.650957e+00   \n",
       "\n",
       "                SOP          LOR           CGPA      Research  \\\n",
       "count  5.000000e+02  5.000000e+02  5.000000e+02  5.000000e+02   \n",
       "mean   2.926548e-16 -1.332268e-17  3.091971e-15 -2.202682e-16   \n",
       "std    1.001002e+00  1.001002e+00  1.001002e+00  1.001002e+00   \n",
       "min   -2.397950e+00 -2.686789e+00 -2.940115e+00 -1.128152e+00   \n",
       "25%   -8.828175e-01 -5.235128e-01 -7.430227e-01 -1.128152e+00   \n",
       "50%    1.272712e-01  1.730621e-02 -2.720919e-02  8.864053e-01   \n",
       "75%    6.323155e-01  5.581253e-01  7.672196e-01  8.864053e-01   \n",
       "max    1.642404e+00  1.639763e+00  2.223672e+00  8.864053e-01   \n",
       "\n",
       "       Chance of Admit   \n",
       "count      5.000000e+02  \n",
       "mean      -3.257394e-16  \n",
       "std        1.001002e+00  \n",
       "min       -2.707391e+00  \n",
       "25%       -6.506420e-01  \n",
       "50%       -1.234050e-02  \n",
       "75%        6.968834e-01  \n",
       "max        1.760719e+00  "
      ]
     },
     "execution_count": 16,
     "metadata": {},
     "output_type": "execute_result"
    }
   ],
   "source": [
    "# By the process all columns are implicitly converted to float64\n",
    "df_scaled.describe()"
   ]
  },
  {
   "cell_type": "code",
   "execution_count": 30,
   "metadata": {},
   "outputs": [
    {
     "data": {
      "text/plain": [
       "<matplotlib.axes._subplots.AxesSubplot at 0x7f841be6e4e0>"
      ]
     },
     "execution_count": 30,
     "metadata": {},
     "output_type": "execute_result"
    },
    {
     "data": {
      "image/png": "[encoded data removed]",
      "text/plain": [
       "<Figure size 432x288 with 1 Axes>"
      ]
     },
     "metadata": {
      "needs_background": "light"
     },
     "output_type": "display_data"
    }
   ],
   "source": [
    "df_scaled[df_scaled.columns[1:]].boxplot()"
   ]
  },
  {
   "cell_type": "markdown",
   "metadata": {},
   "source": [
    "### Normalizing the data\n",
    "Normalizing the data sets the range of data values from 0 to 1.The fromula used to calculate is:\n",
    "\n",
    "$\\frac{x_i - min(x)}{max(x) - min(x)}$\n",
    "\n",
    "It is best used on the features that might not follow the approx. Normal distribution and is sensitive to extreme outliers. Again, we can use the sklearn to normalize the data.\n"
   ]
  },
  {
   "cell_type": "code",
   "execution_count": 17,
   "metadata": {},
   "outputs": [
    {
     "name": "stdout",
     "output_type": "stream",
     "text": [
      "<class 'pandas.core.frame.DataFrame'>\n",
      "RangeIndex: 500 entries, 0 to 499\n",
      "Data columns (total 9 columns):\n",
      "Serial No.           500 non-null float64\n",
      "GRE Score            500 non-null float64\n",
      "TOEFL Score          500 non-null float64\n",
      "University Rating    500 non-null float64\n",
      "SOP                  500 non-null float64\n",
      "LOR                  500 non-null float64\n",
      "CGPA                 500 non-null float64\n",
      "Research             500 non-null float64\n",
      "Chance of Admit      500 non-null float64\n",
      "dtypes: float64(9)\n",
      "memory usage: 35.2 KB\n"
     ]
    },
    {
     "name": "stderr",
     "output_type": "stream",
     "text": [
      "/home/spavko/anaconda3/lib/python3.7/site-packages/sklearn/preprocessing/data.py:334: DataConversionWarning: Data with input dtype int64, float64 were all converted to float64 by MinMaxScaler.\n",
      "  return self.partial_fit(X, y)\n"
     ]
    }
   ],
   "source": [
    "scaler = preprocessing.MinMaxScaler()\n",
    "df_norm = scaler.fit_transform(df)\n",
    "\n",
    "# fit_transform returns an array, hence i convert it back to df\n",
    "df_norm  = pd.DataFrame(df_norm ,columns=df.columns)\n",
    "df_norm .info()"
   ]
  },
  {
   "cell_type": "code",
   "execution_count": 18,
   "metadata": {},
   "outputs": [
    {
     "data": {
      "text/html": [
       "<div>\n",
       "<style scoped>\n",
       "    .dataframe tbody tr th:only-of-type {\n",
       "        vertical-align: middle;\n",
       "    }\n",
       "\n",
       "    .dataframe tbody tr th {\n",
       "        vertical-align: top;\n",
       "    }\n",
       "\n",
       "    .dataframe thead th {\n",
       "        text-align: right;\n",
       "    }\n",
       "</style>\n",
       "<table border=\"1\" class=\"dataframe\">\n",
       "  <thead>\n",
       "    <tr style=\"text-align: right;\">\n",
       "      <th></th>\n",
       "      <th>Serial No.</th>\n",
       "      <th>GRE Score</th>\n",
       "      <th>TOEFL Score</th>\n",
       "      <th>University Rating</th>\n",
       "      <th>SOP</th>\n",
       "      <th>LOR</th>\n",
       "      <th>CGPA</th>\n",
       "      <th>Research</th>\n",
       "      <th>Chance of Admit</th>\n",
       "    </tr>\n",
       "  </thead>\n",
       "  <tbody>\n",
       "    <tr>\n",
       "      <th>count</th>\n",
       "      <td>500.000000</td>\n",
       "      <td>500.000000</td>\n",
       "      <td>500.000000</td>\n",
       "      <td>500.000000</td>\n",
       "      <td>500.000000</td>\n",
       "      <td>500.000000</td>\n",
       "      <td>500.000000</td>\n",
       "      <td>500.000000</td>\n",
       "      <td>500.000000</td>\n",
       "    </tr>\n",
       "    <tr>\n",
       "      <th>mean</th>\n",
       "      <td>0.500000</td>\n",
       "      <td>0.529440</td>\n",
       "      <td>0.542571</td>\n",
       "      <td>0.528500</td>\n",
       "      <td>0.593500</td>\n",
       "      <td>0.621000</td>\n",
       "      <td>0.569372</td>\n",
       "      <td>0.560000</td>\n",
       "      <td>0.605937</td>\n",
       "    </tr>\n",
       "    <tr>\n",
       "      <th>std</th>\n",
       "      <td>0.289543</td>\n",
       "      <td>0.225903</td>\n",
       "      <td>0.217210</td>\n",
       "      <td>0.285878</td>\n",
       "      <td>0.247751</td>\n",
       "      <td>0.231362</td>\n",
       "      <td>0.193850</td>\n",
       "      <td>0.496884</td>\n",
       "      <td>0.224032</td>\n",
       "    </tr>\n",
       "    <tr>\n",
       "      <th>min</th>\n",
       "      <td>0.000000</td>\n",
       "      <td>0.000000</td>\n",
       "      <td>0.000000</td>\n",
       "      <td>0.000000</td>\n",
       "      <td>0.000000</td>\n",
       "      <td>0.000000</td>\n",
       "      <td>0.000000</td>\n",
       "      <td>0.000000</td>\n",
       "      <td>0.000000</td>\n",
       "    </tr>\n",
       "    <tr>\n",
       "      <th>25%</th>\n",
       "      <td>0.250000</td>\n",
       "      <td>0.360000</td>\n",
       "      <td>0.392857</td>\n",
       "      <td>0.250000</td>\n",
       "      <td>0.375000</td>\n",
       "      <td>0.500000</td>\n",
       "      <td>0.425481</td>\n",
       "      <td>0.000000</td>\n",
       "      <td>0.460317</td>\n",
       "    </tr>\n",
       "    <tr>\n",
       "      <th>50%</th>\n",
       "      <td>0.500000</td>\n",
       "      <td>0.540000</td>\n",
       "      <td>0.535714</td>\n",
       "      <td>0.500000</td>\n",
       "      <td>0.625000</td>\n",
       "      <td>0.625000</td>\n",
       "      <td>0.564103</td>\n",
       "      <td>1.000000</td>\n",
       "      <td>0.603175</td>\n",
       "    </tr>\n",
       "    <tr>\n",
       "      <th>75%</th>\n",
       "      <td>0.750000</td>\n",
       "      <td>0.700000</td>\n",
       "      <td>0.714286</td>\n",
       "      <td>0.750000</td>\n",
       "      <td>0.750000</td>\n",
       "      <td>0.750000</td>\n",
       "      <td>0.717949</td>\n",
       "      <td>1.000000</td>\n",
       "      <td>0.761905</td>\n",
       "    </tr>\n",
       "    <tr>\n",
       "      <th>max</th>\n",
       "      <td>1.000000</td>\n",
       "      <td>1.000000</td>\n",
       "      <td>1.000000</td>\n",
       "      <td>1.000000</td>\n",
       "      <td>1.000000</td>\n",
       "      <td>1.000000</td>\n",
       "      <td>1.000000</td>\n",
       "      <td>1.000000</td>\n",
       "      <td>1.000000</td>\n",
       "    </tr>\n",
       "  </tbody>\n",
       "</table>\n",
       "</div>"
      ],
      "text/plain": [
       "       Serial No.   GRE Score  TOEFL Score  University Rating         SOP  \\\n",
       "count  500.000000  500.000000   500.000000         500.000000  500.000000   \n",
       "mean     0.500000    0.529440     0.542571           0.528500    0.593500   \n",
       "std      0.289543    0.225903     0.217210           0.285878    0.247751   \n",
       "min      0.000000    0.000000     0.000000           0.000000    0.000000   \n",
       "25%      0.250000    0.360000     0.392857           0.250000    0.375000   \n",
       "50%      0.500000    0.540000     0.535714           0.500000    0.625000   \n",
       "75%      0.750000    0.700000     0.714286           0.750000    0.750000   \n",
       "max      1.000000    1.000000     1.000000           1.000000    1.000000   \n",
       "\n",
       "             LOR         CGPA    Research  Chance of Admit   \n",
       "count  500.000000  500.000000  500.000000        500.000000  \n",
       "mean     0.621000    0.569372    0.560000          0.605937  \n",
       "std      0.231362    0.193850    0.496884          0.224032  \n",
       "min      0.000000    0.000000    0.000000          0.000000  \n",
       "25%      0.500000    0.425481    0.000000          0.460317  \n",
       "50%      0.625000    0.564103    1.000000          0.603175  \n",
       "75%      0.750000    0.717949    1.000000          0.761905  \n",
       "max      1.000000    1.000000    1.000000          1.000000  "
      ]
     },
     "execution_count": 18,
     "metadata": {},
     "output_type": "execute_result"
    }
   ],
   "source": [
    "# By the process all columns are implicitly converted to float64\n",
    "df_norm.describe()"
   ]
  },
  {
   "cell_type": "code",
   "execution_count": 31,
   "metadata": {},
   "outputs": [
    {
     "data": {
      "text/plain": [
       "<matplotlib.axes._subplots.AxesSubplot at 0x7f841bdc84a8>"
      ]
     },
     "execution_count": 31,
     "metadata": {},
     "output_type": "execute_result"
    },
    {
     "data": {
      "image/png": "[encoded data removed]",
      "text/plain": [
       "<Figure size 432x288 with 1 Axes>"
      ]
     },
     "metadata": {
      "needs_background": "light"
     },
     "output_type": "display_data"
    }
   ],
   "source": [
    "# The data has minimum 0 and maximum 1 and can be compared\n",
    "\n",
    "df_norm[df_norm.columns[1:]].boxplot()"
   ]
  },
  {
   "cell_type": "code",
   "execution_count": null,
   "metadata": {},
   "outputs": [],
   "source": []
  }
 ],
 "metadata": {
  "kernelspec": {
   "display_name": "Python 3",
   "language": "python",
   "name": "python3"
  },
  "language_info": {
   "codemirror_mode": {
    "name": "ipython",
    "version": 3
   },
   "file_extension": ".py",
   "mimetype": "text/x-python",
   "name": "python",
   "nbconvert_exporter": "python",
   "pygments_lexer": "ipython3",
   "version": "3.7.3"
  }
 },
 "nbformat": 4,
 "nbformat_minor": 2
}
