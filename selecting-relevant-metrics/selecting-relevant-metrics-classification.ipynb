{
 "cells": [
  {
   "cell_type": "markdown",
   "metadata": {},
   "source": [
    "## Selecting the relevant metric in classification\n",
    "\n",
    "#### Select the relevant metric for classification problems in order to compare multiple models performance\n",
    "\n",
    "#### Tags:\n",
    "    Data: labeled data, Kaggle competition\n",
    "    Technologies: python, pandas, scikit-learn\n",
    "    Techniques: selecting the relevant metric for calssification \n",
    "    \n",
    "#### Resources:\n",
    "[UCI Machine Learning Repository - Default of Credit Clients](https://archive.ics.uci.edu/ml/datasets/default+of+credit+card+clients#)\n",
    "\n",
    "[ROC curve and AUC](https://www.youtube.com/watch?v=OAl6eAyP-yo)\n"
   ]
  },
  {
   "cell_type": "markdown",
   "metadata": {},
   "source": [
    "## Classification metrics for model evaluation\n",
    "\n",
    "The metrics for classification are more elaborate than for regression. The main idea is comparing the predictions with acutal classes where usually the rows are the actual class while the columns are the predicted class. In the simplest classification task where the class is binary we have 4 cells in the confusion matrix, true positive, false negative, false positive and false negative. The perfect classifier would have only values on the main diagonal.\n",
    "\n",
    "An example of the below confusion matrix can be found here:\n",
    "[Confusion Matrix](https://en.wikipedia.org/wiki/Confusion_matrix)\n",
    "\n",
    "![title](confusion-matrix.png)\n",
    "\n",
    "Hence the main metrics are:\n",
    "\n",
    "1. Accuracy - has issues with the skewed datasets, where there is a low probability of a certain class\n",
    "2. Precision - is the accuracy of the positive predictions\n",
    "3. Recall - sensitivity or TPR is the proportion of positive istances that are correctly detected by the classifier\n",
    "4. TNR - specificty or TNR is the ration of negative instances that are correctly predicted as negative\n",
    "5. FPR - false positive rate, ratio of false positive instances out of all negative instances\n",
    "\n",
    "Increasing precision decreases recall and vice-versa. Depending on the type of problem we are trying to solve we can prefer higer precision or higher recall. We can plot the Precision / Recall graph for different levels of precision and recall to understand the behavior of the model and pick the balance that suits our needs best.\n",
    "\n",
    "Finally the usually used metric in evaluating classification models is Area under the Curve (AUC), that comes from the ROC curve. ROC curve plots TPR (Recall) against FPR for each threshold of the TPR. As this metric is also available in the Scikit-learn library we will use it to compare different classification models.\n",
    "\n",
    "Lets take a closer look in Python. "
   ]
  },
  {
   "cell_type": "code",
   "execution_count": 1,
   "metadata": {},
   "outputs": [],
   "source": [
    "import pandas as pd\n",
    "import numpy as np\n",
    "from sklearn import preprocessing\n",
    "from sklearn.model_selection import train_test_split, GridSearchCV\n",
    "from sklearn.metrics import confusion_matrix, accuracy_score, auc, roc_curve\n",
    "\n",
    "from sklearn.linear_model import LogisticRegression\n",
    "from sklearn.neighbors import KNeighborsClassifier\n",
    "from sklearn.svm import SVC\n",
    "from sklearn.ensemble import RandomForestClassifier, GradientBoostingClassifier\n",
    "\n",
    "%matplotlib inline"
   ]
  },
  {
   "cell_type": "code",
   "execution_count": 2,
   "metadata": {},
   "outputs": [
    {
     "name": "stdout",
     "output_type": "stream",
     "text": [
      "<class 'pandas.core.frame.DataFrame'>\n",
      "RangeIndex: 30000 entries, 0 to 29999\n",
      "Data columns (total 25 columns):\n",
      "ID                            30000 non-null int64\n",
      "LIMIT_BAL                     30000 non-null int64\n",
      "SEX                           30000 non-null int64\n",
      "EDUCATION                     30000 non-null int64\n",
      "MARRIAGE                      30000 non-null int64\n",
      "AGE                           30000 non-null int64\n",
      "PAY_0                         30000 non-null int64\n",
      "PAY_2                         30000 non-null int64\n",
      "PAY_3                         30000 non-null int64\n",
      "PAY_4                         30000 non-null int64\n",
      "PAY_5                         30000 non-null int64\n",
      "PAY_6                         30000 non-null int64\n",
      "BILL_AMT1                     30000 non-null int64\n",
      "BILL_AMT2                     30000 non-null int64\n",
      "BILL_AMT3                     30000 non-null int64\n",
      "BILL_AMT4                     30000 non-null int64\n",
      "BILL_AMT5                     30000 non-null int64\n",
      "BILL_AMT6                     30000 non-null int64\n",
      "PAY_AMT1                      30000 non-null int64\n",
      "PAY_AMT2                      30000 non-null int64\n",
      "PAY_AMT3                      30000 non-null int64\n",
      "PAY_AMT4                      30000 non-null int64\n",
      "PAY_AMT5                      30000 non-null int64\n",
      "PAY_AMT6                      30000 non-null int64\n",
      "default payment next month    30000 non-null int64\n",
      "dtypes: int64(25)\n",
      "memory usage: 5.7 MB\n"
     ]
    }
   ],
   "source": [
    "# import the relevant dataset\n",
    "df = pd.read_excel('../data/default-of-credit-card-clients.xls',skiprows=1)\n",
    "df.info()"
   ]
  },
  {
   "cell_type": "code",
   "execution_count": 3,
   "metadata": {},
   "outputs": [
    {
     "name": "stdout",
     "output_type": "stream",
     "text": [
      "<class 'pandas.core.frame.DataFrame'>\n",
      "RangeIndex: 30000 entries, 0 to 29999\n",
      "Data columns (total 35 columns):\n",
      "ID                            30000 non-null int64\n",
      "LIMIT_BAL                     30000 non-null int64\n",
      "AGE                           30000 non-null int64\n",
      "PAY_0                         30000 non-null int64\n",
      "PAY_2                         30000 non-null int64\n",
      "PAY_3                         30000 non-null int64\n",
      "PAY_4                         30000 non-null int64\n",
      "PAY_5                         30000 non-null int64\n",
      "PAY_6                         30000 non-null int64\n",
      "BILL_AMT1                     30000 non-null int64\n",
      "BILL_AMT2                     30000 non-null int64\n",
      "BILL_AMT3                     30000 non-null int64\n",
      "BILL_AMT4                     30000 non-null int64\n",
      "BILL_AMT5                     30000 non-null int64\n",
      "BILL_AMT6                     30000 non-null int64\n",
      "PAY_AMT1                      30000 non-null int64\n",
      "PAY_AMT2                      30000 non-null int64\n",
      "PAY_AMT3                      30000 non-null int64\n",
      "PAY_AMT4                      30000 non-null int64\n",
      "PAY_AMT5                      30000 non-null int64\n",
      "PAY_AMT6                      30000 non-null int64\n",
      "default payment next month    30000 non-null int64\n",
      "SEX_1                         30000 non-null uint8\n",
      "SEX_2                         30000 non-null uint8\n",
      "EDUCATION_0                   30000 non-null uint8\n",
      "EDUCATION_1                   30000 non-null uint8\n",
      "EDUCATION_2                   30000 non-null uint8\n",
      "EDUCATION_3                   30000 non-null uint8\n",
      "EDUCATION_4                   30000 non-null uint8\n",
      "EDUCATION_5                   30000 non-null uint8\n",
      "EDUCATION_6                   30000 non-null uint8\n",
      "MARRIAGE_0                    30000 non-null uint8\n",
      "MARRIAGE_1                    30000 non-null uint8\n",
      "MARRIAGE_2                    30000 non-null uint8\n",
      "MARRIAGE_3                    30000 non-null uint8\n",
      "dtypes: int64(22), uint8(13)\n",
      "memory usage: 5.4 MB\n"
     ]
    }
   ],
   "source": [
    "df = pd.get_dummies(df,columns=['SEX','EDUCATION','MARRIAGE'])\n",
    "df.info()"
   ]
  },
  {
   "cell_type": "markdown",
   "metadata": {},
   "source": [
    "##### There are 30000 observations and there are all numeric in character "
   ]
  },
  {
   "cell_type": "code",
   "execution_count": 5,
   "metadata": {},
   "outputs": [],
   "source": [
    "X = df.drop(['ID','default payment next month'],axis=1)\n",
    "\n",
    "y = df['default payment next month']"
   ]
  },
  {
   "cell_type": "code",
   "execution_count": 16,
   "metadata": {},
   "outputs": [
    {
     "data": {
      "text/plain": [
       "<matplotlib.axes._subplots.AxesSubplot at 0x7f12ff422588>"
      ]
     },
     "execution_count": 16,
     "metadata": {},
     "output_type": "execute_result"
    },
    {
     "data": {
      "image/png": "[encoded data removed]",
      "text/plain": [
       "<Figure size 432x288 with 1 Axes>"
      ]
     },
     "metadata": {
      "needs_background": "light"
     },
     "output_type": "display_data"
    }
   ],
   "source": [
    "df[\"default payment next month\"].hist()"
   ]
  },
  {
   "cell_type": "code",
   "execution_count": 27,
   "metadata": {},
   "outputs": [
    {
     "data": {
      "text/plain": [
       "23364"
      ]
     },
     "execution_count": 27,
     "metadata": {},
     "output_type": "execute_result"
    }
   ],
   "source": [
    "counts = df[\"default payment next month\"].value_counts()\n",
    "counts[0]"
   ]
  },
  {
   "cell_type": "code",
   "execution_count": 31,
   "metadata": {},
   "outputs": [
    {
     "name": "stdout",
     "output_type": "stream",
     "text": [
      "Proportion of defaulted in the dataset: 0.2212\n"
     ]
    }
   ],
   "source": [
    "prop_defaulted = counts[1] / counts.sum()\n",
    "print('Proportion of defaulted in the dataset: {}'.format(prop_defaulted))"
   ]
  },
  {
   "cell_type": "code",
   "execution_count": 32,
   "metadata": {},
   "outputs": [],
   "source": [
    "# split the data into the trainging and evaluation sets\n",
    "\n",
    "X_train, X_test, y_train, y_test = train_test_split(X, y, test_size=0.2, random_state=42)"
   ]
  },
  {
   "cell_type": "code",
   "execution_count": 33,
   "metadata": {},
   "outputs": [],
   "source": [
    "# prepare the parameters for the grid search for each of the classifiers\n",
    "\n",
    "modelnames = ['LR', 'KNN', 'SVM', 'RF', 'GB']\n",
    "\n",
    "models = {'LR':LogisticRegression(random_state=42, solver='liblinear'),\n",
    "         'KNN':KNeighborsClassifier(),\n",
    "         'SVM':SVC(random_state=42, gamma='auto'),\n",
    "         'RF':RandomForestClassifier(random_state=42, n_estimators=100),\n",
    "         'GB':GradientBoostingClassifier(random_state=42)}\n"
   ]
  },
  {
   "cell_type": "code",
   "execution_count": 34,
   "metadata": {},
   "outputs": [],
   "source": [
    "results = {}\n",
    "\n",
    "for m in models:\n",
    "      \n",
    "    model = models[m]\n",
    "    \n",
    "    model.fit(X_train, y_train)\n",
    "    \n",
    "    y_pred = model.predict(X_test)\n",
    "    \n",
    "    conf_matrix = confusion_matrix(y_test, list(y_pred))\n",
    "    acc_score = accuracy_score(y_test, y_pred)\n",
    "    \n",
    "    fpr, tpr, thresholds = roc_curve(y_test, y_pred, pos_label=1)\n",
    "    \n",
    "    auc_score = auc(fpr, tpr)\n",
    "    \n",
    "    results[m] = {'Model':m, 'accuracy':acc_score, 'auc':auc_score}\n",
    "    "
   ]
  },
  {
   "cell_type": "code",
   "execution_count": 13,
   "metadata": {},
   "outputs": [
    {
     "data": {
      "text/plain": [
       "{'LR': {'Model': 'LR', 'accuracy': 0.781, 'auc': 0.4998933219543418},\n",
       " 'KNN': {'Model': 'KNN', 'accuracy': 0.756, 'auc': 0.5502308974394181},\n",
       " 'SVM': {'Model': 'SVM', 'accuracy': 0.781, 'auc': 0.5037311316761323},\n",
       " 'RF': {'Model': 'RF',\n",
       "  'accuracy': 0.8151666666666667,\n",
       "  'auc': 0.6519737225893076},\n",
       " 'GB': {'Model': 'GB', 'accuracy': 0.8195, 'auc': 0.6528284469155258}}"
      ]
     },
     "execution_count": 13,
     "metadata": {},
     "output_type": "execute_result"
    }
   ],
   "source": [
    "results"
   ]
  },
  {
   "cell_type": "markdown",
   "metadata": {},
   "source": [
    "## Conclusions\n",
    "\n",
    "As the AUC of the Gradient Boositing Classifier has the highest AUC of 0.65 it is the best out of the box model that we attempted with the data that we had. LR and SVM are both very close to AUC of 0.5 which would be unusable as it would be the same as random guessing. This is due to the fact that we have a disbalance in the classes and the LR model simply predicts that none of the credit card defaults will happen. When we look at the accuracy of the LR we can see that it is at a decent 0.781, so by looking at accuracy only we could make a wrong conclusion (the main reason why we do not use only accuracy to compare model performances). The first 3 models suffer from oversimplification of the model and we should be looking into hyperparameter tuning in order to find the better performing model. "
   ]
  },
  {
   "cell_type": "code",
   "execution_count": null,
   "metadata": {},
   "outputs": [],
   "source": []
  }
 ],
 "metadata": {
  "kernelspec": {
   "display_name": "Python 3",
   "language": "python",
   "name": "python3"
  },
  "language_info": {
   "codemirror_mode": {
    "name": "ipython",
    "version": 3
   },
   "file_extension": ".py",
   "mimetype": "text/x-python",
   "name": "python",
   "nbconvert_exporter": "python",
   "pygments_lexer": "ipython3",
   "version": "3.7.3"
  }
 },
 "nbformat": 4,
 "nbformat_minor": 2
}
